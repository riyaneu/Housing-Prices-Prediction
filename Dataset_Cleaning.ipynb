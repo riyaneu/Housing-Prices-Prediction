{
  "nbformat": 4,
  "nbformat_minor": 0,
  "metadata": {
    "colab": {
      "provenance": []
    },
    "kernelspec": {
      "name": "python3",
      "display_name": "Python 3"
    },
    "language_info": {
      "name": "python"
    }
  },
  "cells": [
    {
      "cell_type": "code",
      "execution_count": 1,
      "metadata": {
        "colab": {
          "base_uri": "https://localhost:8080/",
          "height": 1000
        },
        "id": "aGib1tjI7yVv",
        "outputId": "a68828c5-e538-4153-e491-479ec9ba5f67"
      },
      "outputs": [
        {
          "output_type": "stream",
          "name": "stdout",
          "text": [
            "Collecting eli5\n",
            "  Downloading eli5-0.13.0.tar.gz (216 kB)\n",
            "\u001b[?25l     \u001b[90m━━━━━━━━━━━━━━━━━━━━━━━━━━━━━━━━━━━━━━━━\u001b[0m \u001b[32m0.0/216.2 kB\u001b[0m \u001b[31m?\u001b[0m eta \u001b[36m-:--:--\u001b[0m\r\u001b[2K     \u001b[91m━━━━━━━━━━━━━━━━━━━━━━\u001b[0m\u001b[91m╸\u001b[0m\u001b[90m━━━━━━━━━━━━━━━━━\u001b[0m \u001b[32m122.9/216.2 kB\u001b[0m \u001b[31m3.6 MB/s\u001b[0m eta \u001b[36m0:00:01\u001b[0m\r\u001b[2K     \u001b[90m━━━━━━━━━━━━━━━━━━━━━━━━━━━━━━━━━━━━━━━━\u001b[0m \u001b[32m216.2/216.2 kB\u001b[0m \u001b[31m4.4 MB/s\u001b[0m eta \u001b[36m0:00:00\u001b[0m\n",
            "\u001b[?25h  Preparing metadata (setup.py) ... \u001b[?25l\u001b[?25hdone\n",
            "Requirement already satisfied: attrs>17.1.0 in /usr/local/lib/python3.10/dist-packages (from eli5) (23.2.0)\n",
            "Requirement already satisfied: jinja2>=3.0.0 in /usr/local/lib/python3.10/dist-packages (from eli5) (3.1.3)\n",
            "Requirement already satisfied: numpy>=1.9.0 in /usr/local/lib/python3.10/dist-packages (from eli5) (1.23.5)\n",
            "Requirement already satisfied: scipy in /usr/local/lib/python3.10/dist-packages (from eli5) (1.11.4)\n",
            "Requirement already satisfied: six in /usr/local/lib/python3.10/dist-packages (from eli5) (1.16.0)\n",
            "Requirement already satisfied: scikit-learn>=0.20 in /usr/local/lib/python3.10/dist-packages (from eli5) (1.2.2)\n",
            "Requirement already satisfied: graphviz in /usr/local/lib/python3.10/dist-packages (from eli5) (0.20.1)\n",
            "Requirement already satisfied: tabulate>=0.7.7 in /usr/local/lib/python3.10/dist-packages (from eli5) (0.9.0)\n",
            "Requirement already satisfied: MarkupSafe>=2.0 in /usr/local/lib/python3.10/dist-packages (from jinja2>=3.0.0->eli5) (2.1.4)\n",
            "Requirement already satisfied: joblib>=1.1.1 in /usr/local/lib/python3.10/dist-packages (from scikit-learn>=0.20->eli5) (1.3.2)\n",
            "Requirement already satisfied: threadpoolctl>=2.0.0 in /usr/local/lib/python3.10/dist-packages (from scikit-learn>=0.20->eli5) (3.2.0)\n",
            "Building wheels for collected packages: eli5\n",
            "  Building wheel for eli5 (setup.py) ... \u001b[?25l\u001b[?25hdone\n",
            "  Created wheel for eli5: filename=eli5-0.13.0-py2.py3-none-any.whl size=107717 sha256=b6bfed20003fc678d69317fc2c5e77240d4d08771c0b44df33a3724f72503dab\n",
            "  Stored in directory: /root/.cache/pip/wheels/b8/58/ef/2cf4c306898c2338d51540e0922c8e0d6028e07007085c0004\n",
            "Successfully built eli5\n",
            "Installing collected packages: eli5\n",
            "Successfully installed eli5-0.13.0\n",
            "Requirement already satisfied: scikit-learn in /usr/local/lib/python3.10/dist-packages (1.2.2)\n",
            "Requirement already satisfied: matplotlib in /usr/local/lib/python3.10/dist-packages (3.7.1)\n",
            "Requirement already satisfied: numpy>=1.17.3 in /usr/local/lib/python3.10/dist-packages (from scikit-learn) (1.23.5)\n",
            "Requirement already satisfied: scipy>=1.3.2 in /usr/local/lib/python3.10/dist-packages (from scikit-learn) (1.11.4)\n",
            "Requirement already satisfied: joblib>=1.1.1 in /usr/local/lib/python3.10/dist-packages (from scikit-learn) (1.3.2)\n",
            "Requirement already satisfied: threadpoolctl>=2.0.0 in /usr/local/lib/python3.10/dist-packages (from scikit-learn) (3.2.0)\n",
            "Requirement already satisfied: contourpy>=1.0.1 in /usr/local/lib/python3.10/dist-packages (from matplotlib) (1.2.0)\n",
            "Requirement already satisfied: cycler>=0.10 in /usr/local/lib/python3.10/dist-packages (from matplotlib) (0.12.1)\n",
            "Requirement already satisfied: fonttools>=4.22.0 in /usr/local/lib/python3.10/dist-packages (from matplotlib) (4.47.2)\n",
            "Requirement already satisfied: kiwisolver>=1.0.1 in /usr/local/lib/python3.10/dist-packages (from matplotlib) (1.4.5)\n",
            "Requirement already satisfied: packaging>=20.0 in /usr/local/lib/python3.10/dist-packages (from matplotlib) (23.2)\n",
            "Requirement already satisfied: pillow>=6.2.0 in /usr/local/lib/python3.10/dist-packages (from matplotlib) (9.4.0)\n",
            "Requirement already satisfied: pyparsing>=2.3.1 in /usr/local/lib/python3.10/dist-packages (from matplotlib) (3.1.1)\n",
            "Requirement already satisfied: python-dateutil>=2.7 in /usr/local/lib/python3.10/dist-packages (from matplotlib) (2.8.2)\n",
            "Requirement already satisfied: six>=1.5 in /usr/local/lib/python3.10/dist-packages (from python-dateutil>=2.7->matplotlib) (1.16.0)\n",
            "Collecting fitter\n",
            "  Downloading fitter-1.7.0-py3-none-any.whl (26 kB)\n",
            "Requirement already satisfied: click<9.0.0,>=8.1.6 in /usr/local/lib/python3.10/dist-packages (from fitter) (8.1.7)\n",
            "Requirement already satisfied: joblib<2.0.0,>=1.3.1 in /usr/local/lib/python3.10/dist-packages (from fitter) (1.3.2)\n",
            "Collecting loguru<0.8.0,>=0.7.2 (from fitter)\n",
            "  Downloading loguru-0.7.2-py3-none-any.whl (62 kB)\n",
            "\u001b[2K     \u001b[90m━━━━━━━━━━━━━━━━━━━━━━━━━━━━━━━━━━━━━━━━\u001b[0m \u001b[32m62.5/62.5 kB\u001b[0m \u001b[31m3.0 MB/s\u001b[0m eta \u001b[36m0:00:00\u001b[0m\n",
            "\u001b[?25hCollecting matplotlib<4.0.0,>=3.7.2 (from fitter)\n",
            "  Downloading matplotlib-3.8.2-cp310-cp310-manylinux_2_17_x86_64.manylinux2014_x86_64.whl (11.6 MB)\n",
            "\u001b[2K     \u001b[90m━━━━━━━━━━━━━━━━━━━━━━━━━━━━━━━━━━━━━━━━\u001b[0m \u001b[32m11.6/11.6 MB\u001b[0m \u001b[31m73.2 MB/s\u001b[0m eta \u001b[36m0:00:00\u001b[0m\n",
            "\u001b[?25hRequirement already satisfied: numpy<2.0.0,>=1.20.0 in /usr/local/lib/python3.10/dist-packages (from fitter) (1.23.5)\n",
            "Requirement already satisfied: pandas<3.0.0,>=0.23.4 in /usr/local/lib/python3.10/dist-packages (from fitter) (1.5.3)\n",
            "Collecting rich-click<2.0.0,>=1.7.2 (from fitter)\n",
            "  Downloading rich_click-1.7.3-py3-none-any.whl (32 kB)\n",
            "Requirement already satisfied: scipy<2.0.0,>=0.18.0 in /usr/local/lib/python3.10/dist-packages (from fitter) (1.11.4)\n",
            "Requirement already satisfied: tqdm<5.0.0,>=4.65.1 in /usr/local/lib/python3.10/dist-packages (from fitter) (4.66.1)\n",
            "Requirement already satisfied: contourpy>=1.0.1 in /usr/local/lib/python3.10/dist-packages (from matplotlib<4.0.0,>=3.7.2->fitter) (1.2.0)\n",
            "Requirement already satisfied: cycler>=0.10 in /usr/local/lib/python3.10/dist-packages (from matplotlib<4.0.0,>=3.7.2->fitter) (0.12.1)\n",
            "Requirement already satisfied: fonttools>=4.22.0 in /usr/local/lib/python3.10/dist-packages (from matplotlib<4.0.0,>=3.7.2->fitter) (4.47.2)\n",
            "Requirement already satisfied: kiwisolver>=1.3.1 in /usr/local/lib/python3.10/dist-packages (from matplotlib<4.0.0,>=3.7.2->fitter) (1.4.5)\n",
            "Requirement already satisfied: packaging>=20.0 in /usr/local/lib/python3.10/dist-packages (from matplotlib<4.0.0,>=3.7.2->fitter) (23.2)\n",
            "Requirement already satisfied: pillow>=8 in /usr/local/lib/python3.10/dist-packages (from matplotlib<4.0.0,>=3.7.2->fitter) (9.4.0)\n",
            "Requirement already satisfied: pyparsing>=2.3.1 in /usr/local/lib/python3.10/dist-packages (from matplotlib<4.0.0,>=3.7.2->fitter) (3.1.1)\n",
            "Requirement already satisfied: python-dateutil>=2.7 in /usr/local/lib/python3.10/dist-packages (from matplotlib<4.0.0,>=3.7.2->fitter) (2.8.2)\n",
            "Requirement already satisfied: pytz>=2020.1 in /usr/local/lib/python3.10/dist-packages (from pandas<3.0.0,>=0.23.4->fitter) (2023.3.post1)\n",
            "Requirement already satisfied: rich>=10.7.0 in /usr/local/lib/python3.10/dist-packages (from rich-click<2.0.0,>=1.7.2->fitter) (13.7.0)\n",
            "Requirement already satisfied: typing-extensions in /usr/local/lib/python3.10/dist-packages (from rich-click<2.0.0,>=1.7.2->fitter) (4.5.0)\n",
            "Requirement already satisfied: six>=1.5 in /usr/local/lib/python3.10/dist-packages (from python-dateutil>=2.7->matplotlib<4.0.0,>=3.7.2->fitter) (1.16.0)\n",
            "Requirement already satisfied: markdown-it-py>=2.2.0 in /usr/local/lib/python3.10/dist-packages (from rich>=10.7.0->rich-click<2.0.0,>=1.7.2->fitter) (3.0.0)\n",
            "Requirement already satisfied: pygments<3.0.0,>=2.13.0 in /usr/local/lib/python3.10/dist-packages (from rich>=10.7.0->rich-click<2.0.0,>=1.7.2->fitter) (2.16.1)\n",
            "Requirement already satisfied: mdurl~=0.1 in /usr/local/lib/python3.10/dist-packages (from markdown-it-py>=2.2.0->rich>=10.7.0->rich-click<2.0.0,>=1.7.2->fitter) (0.1.2)\n",
            "Installing collected packages: loguru, matplotlib, rich-click, fitter\n",
            "  Attempting uninstall: matplotlib\n",
            "    Found existing installation: matplotlib 3.7.1\n",
            "    Uninstalling matplotlib-3.7.1:\n",
            "      Successfully uninstalled matplotlib-3.7.1\n",
            "\u001b[31mERROR: pip's dependency resolver does not currently take into account all the packages that are installed. This behaviour is the source of the following dependency conflicts.\n",
            "lida 0.0.10 requires fastapi, which is not installed.\n",
            "lida 0.0.10 requires kaleido, which is not installed.\n",
            "lida 0.0.10 requires python-multipart, which is not installed.\n",
            "lida 0.0.10 requires uvicorn, which is not installed.\u001b[0m\u001b[31m\n",
            "\u001b[0mSuccessfully installed fitter-1.7.0 loguru-0.7.2 matplotlib-3.8.2 rich-click-1.7.3\n"
          ]
        },
        {
          "output_type": "display_data",
          "data": {
            "application/vnd.colab-display-data+json": {
              "pip_warning": {
                "packages": [
                  "matplotlib",
                  "mpl_toolkits"
                ]
              }
            }
          },
          "metadata": {}
        }
      ],
      "source": [
        "# installing dependencies\n",
        "!pip install eli5\n",
        "!pip install scikit-learn matplotlib\n",
        "!pip install fitter"
      ]
    },
    {
      "cell_type": "code",
      "source": [
        "import numpy as np\n",
        "import pandas as pd\n",
        "import seaborn as sns\n",
        "import matplotlib.pylab as plt\n",
        "from matplotlib import pyplot"
      ],
      "metadata": {
        "id": "V1HarCzP-w3I"
      },
      "execution_count": 1,
      "outputs": []
    },
    {
      "cell_type": "code",
      "source": [
        "#Reading the dataset\n",
        "data=pd.read_csv('Housing.csv')"
      ],
      "metadata": {
        "id": "gE-lF7w67umJ"
      },
      "execution_count": 2,
      "outputs": []
    },
    {
      "cell_type": "code",
      "source": [
        "from google.colab import drive\n",
        "drive.mount('/content/drive')"
      ],
      "metadata": {
        "id": "ZPCoqvEskNZz"
      },
      "execution_count": null,
      "outputs": []
    },
    {
      "cell_type": "code",
      "source": [
        "# Viewing data in the file\n",
        "data.head()"
      ],
      "metadata": {
        "colab": {
          "base_uri": "https://localhost:8080/",
          "height": 206
        },
        "id": "Xg4JVlYu5cBq",
        "outputId": "d9d6755e-7f1d-4850-f39d-8993bd759fbe"
      },
      "execution_count": 4,
      "outputs": [
        {
          "output_type": "execute_result",
          "data": {
            "text/plain": [
              "      price  area  bedrooms  bathrooms  stories mainroad guestroom basement  \\\n",
              "0  13300000  7420         4          2        3      yes        no       no   \n",
              "1  12250000  8960         4          4        4      yes        no       no   \n",
              "2  12250000  9960         3          2        2      yes        no      yes   \n",
              "3  12215000  7500         4          2        2      yes        no      yes   \n",
              "4  11410000  7420         4          1        2      yes       yes      yes   \n",
              "\n",
              "  hotwaterheating airconditioning  parking prefarea furnishingstatus  \n",
              "0              no             yes        2      yes        furnished  \n",
              "1              no             yes        3       no        furnished  \n",
              "2              no              no        2      yes   semi-furnished  \n",
              "3              no             yes        3      yes        furnished  \n",
              "4              no             yes        2       no        furnished  "
            ],
            "text/html": [
              "\n",
              "  <div id=\"df-b0212e3f-984b-4b1f-a03a-3d1756c5250c\" class=\"colab-df-container\">\n",
              "    <div>\n",
              "<style scoped>\n",
              "    .dataframe tbody tr th:only-of-type {\n",
              "        vertical-align: middle;\n",
              "    }\n",
              "\n",
              "    .dataframe tbody tr th {\n",
              "        vertical-align: top;\n",
              "    }\n",
              "\n",
              "    .dataframe thead th {\n",
              "        text-align: right;\n",
              "    }\n",
              "</style>\n",
              "<table border=\"1\" class=\"dataframe\">\n",
              "  <thead>\n",
              "    <tr style=\"text-align: right;\">\n",
              "      <th></th>\n",
              "      <th>price</th>\n",
              "      <th>area</th>\n",
              "      <th>bedrooms</th>\n",
              "      <th>bathrooms</th>\n",
              "      <th>stories</th>\n",
              "      <th>mainroad</th>\n",
              "      <th>guestroom</th>\n",
              "      <th>basement</th>\n",
              "      <th>hotwaterheating</th>\n",
              "      <th>airconditioning</th>\n",
              "      <th>parking</th>\n",
              "      <th>prefarea</th>\n",
              "      <th>furnishingstatus</th>\n",
              "    </tr>\n",
              "  </thead>\n",
              "  <tbody>\n",
              "    <tr>\n",
              "      <th>0</th>\n",
              "      <td>13300000</td>\n",
              "      <td>7420</td>\n",
              "      <td>4</td>\n",
              "      <td>2</td>\n",
              "      <td>3</td>\n",
              "      <td>yes</td>\n",
              "      <td>no</td>\n",
              "      <td>no</td>\n",
              "      <td>no</td>\n",
              "      <td>yes</td>\n",
              "      <td>2</td>\n",
              "      <td>yes</td>\n",
              "      <td>furnished</td>\n",
              "    </tr>\n",
              "    <tr>\n",
              "      <th>1</th>\n",
              "      <td>12250000</td>\n",
              "      <td>8960</td>\n",
              "      <td>4</td>\n",
              "      <td>4</td>\n",
              "      <td>4</td>\n",
              "      <td>yes</td>\n",
              "      <td>no</td>\n",
              "      <td>no</td>\n",
              "      <td>no</td>\n",
              "      <td>yes</td>\n",
              "      <td>3</td>\n",
              "      <td>no</td>\n",
              "      <td>furnished</td>\n",
              "    </tr>\n",
              "    <tr>\n",
              "      <th>2</th>\n",
              "      <td>12250000</td>\n",
              "      <td>9960</td>\n",
              "      <td>3</td>\n",
              "      <td>2</td>\n",
              "      <td>2</td>\n",
              "      <td>yes</td>\n",
              "      <td>no</td>\n",
              "      <td>yes</td>\n",
              "      <td>no</td>\n",
              "      <td>no</td>\n",
              "      <td>2</td>\n",
              "      <td>yes</td>\n",
              "      <td>semi-furnished</td>\n",
              "    </tr>\n",
              "    <tr>\n",
              "      <th>3</th>\n",
              "      <td>12215000</td>\n",
              "      <td>7500</td>\n",
              "      <td>4</td>\n",
              "      <td>2</td>\n",
              "      <td>2</td>\n",
              "      <td>yes</td>\n",
              "      <td>no</td>\n",
              "      <td>yes</td>\n",
              "      <td>no</td>\n",
              "      <td>yes</td>\n",
              "      <td>3</td>\n",
              "      <td>yes</td>\n",
              "      <td>furnished</td>\n",
              "    </tr>\n",
              "    <tr>\n",
              "      <th>4</th>\n",
              "      <td>11410000</td>\n",
              "      <td>7420</td>\n",
              "      <td>4</td>\n",
              "      <td>1</td>\n",
              "      <td>2</td>\n",
              "      <td>yes</td>\n",
              "      <td>yes</td>\n",
              "      <td>yes</td>\n",
              "      <td>no</td>\n",
              "      <td>yes</td>\n",
              "      <td>2</td>\n",
              "      <td>no</td>\n",
              "      <td>furnished</td>\n",
              "    </tr>\n",
              "  </tbody>\n",
              "</table>\n",
              "</div>\n",
              "    <div class=\"colab-df-buttons\">\n",
              "\n",
              "  <div class=\"colab-df-container\">\n",
              "    <button class=\"colab-df-convert\" onclick=\"convertToInteractive('df-b0212e3f-984b-4b1f-a03a-3d1756c5250c')\"\n",
              "            title=\"Convert this dataframe to an interactive table.\"\n",
              "            style=\"display:none;\">\n",
              "\n",
              "  <svg xmlns=\"http://www.w3.org/2000/svg\" height=\"24px\" viewBox=\"0 -960 960 960\">\n",
              "    <path d=\"M120-120v-720h720v720H120Zm60-500h600v-160H180v160Zm220 220h160v-160H400v160Zm0 220h160v-160H400v160ZM180-400h160v-160H180v160Zm440 0h160v-160H620v160ZM180-180h160v-160H180v160Zm440 0h160v-160H620v160Z\"/>\n",
              "  </svg>\n",
              "    </button>\n",
              "\n",
              "  <style>\n",
              "    .colab-df-container {\n",
              "      display:flex;\n",
              "      gap: 12px;\n",
              "    }\n",
              "\n",
              "    .colab-df-convert {\n",
              "      background-color: #E8F0FE;\n",
              "      border: none;\n",
              "      border-radius: 50%;\n",
              "      cursor: pointer;\n",
              "      display: none;\n",
              "      fill: #1967D2;\n",
              "      height: 32px;\n",
              "      padding: 0 0 0 0;\n",
              "      width: 32px;\n",
              "    }\n",
              "\n",
              "    .colab-df-convert:hover {\n",
              "      background-color: #E2EBFA;\n",
              "      box-shadow: 0px 1px 2px rgba(60, 64, 67, 0.3), 0px 1px 3px 1px rgba(60, 64, 67, 0.15);\n",
              "      fill: #174EA6;\n",
              "    }\n",
              "\n",
              "    .colab-df-buttons div {\n",
              "      margin-bottom: 4px;\n",
              "    }\n",
              "\n",
              "    [theme=dark] .colab-df-convert {\n",
              "      background-color: #3B4455;\n",
              "      fill: #D2E3FC;\n",
              "    }\n",
              "\n",
              "    [theme=dark] .colab-df-convert:hover {\n",
              "      background-color: #434B5C;\n",
              "      box-shadow: 0px 1px 3px 1px rgba(0, 0, 0, 0.15);\n",
              "      filter: drop-shadow(0px 1px 2px rgba(0, 0, 0, 0.3));\n",
              "      fill: #FFFFFF;\n",
              "    }\n",
              "  </style>\n",
              "\n",
              "    <script>\n",
              "      const buttonEl =\n",
              "        document.querySelector('#df-b0212e3f-984b-4b1f-a03a-3d1756c5250c button.colab-df-convert');\n",
              "      buttonEl.style.display =\n",
              "        google.colab.kernel.accessAllowed ? 'block' : 'none';\n",
              "\n",
              "      async function convertToInteractive(key) {\n",
              "        const element = document.querySelector('#df-b0212e3f-984b-4b1f-a03a-3d1756c5250c');\n",
              "        const dataTable =\n",
              "          await google.colab.kernel.invokeFunction('convertToInteractive',\n",
              "                                                    [key], {});\n",
              "        if (!dataTable) return;\n",
              "\n",
              "        const docLinkHtml = 'Like what you see? Visit the ' +\n",
              "          '<a target=\"_blank\" href=https://colab.research.google.com/notebooks/data_table.ipynb>data table notebook</a>'\n",
              "          + ' to learn more about interactive tables.';\n",
              "        element.innerHTML = '';\n",
              "        dataTable['output_type'] = 'display_data';\n",
              "        await google.colab.output.renderOutput(dataTable, element);\n",
              "        const docLink = document.createElement('div');\n",
              "        docLink.innerHTML = docLinkHtml;\n",
              "        element.appendChild(docLink);\n",
              "      }\n",
              "    </script>\n",
              "  </div>\n",
              "\n",
              "\n",
              "<div id=\"df-ea8961d3-da50-4978-a6e4-a65f2472af27\">\n",
              "  <button class=\"colab-df-quickchart\" onclick=\"quickchart('df-ea8961d3-da50-4978-a6e4-a65f2472af27')\"\n",
              "            title=\"Suggest charts\"\n",
              "            style=\"display:none;\">\n",
              "\n",
              "<svg xmlns=\"http://www.w3.org/2000/svg\" height=\"24px\"viewBox=\"0 0 24 24\"\n",
              "     width=\"24px\">\n",
              "    <g>\n",
              "        <path d=\"M19 3H5c-1.1 0-2 .9-2 2v14c0 1.1.9 2 2 2h14c1.1 0 2-.9 2-2V5c0-1.1-.9-2-2-2zM9 17H7v-7h2v7zm4 0h-2V7h2v10zm4 0h-2v-4h2v4z\"/>\n",
              "    </g>\n",
              "</svg>\n",
              "  </button>\n",
              "\n",
              "<style>\n",
              "  .colab-df-quickchart {\n",
              "      --bg-color: #E8F0FE;\n",
              "      --fill-color: #1967D2;\n",
              "      --hover-bg-color: #E2EBFA;\n",
              "      --hover-fill-color: #174EA6;\n",
              "      --disabled-fill-color: #AAA;\n",
              "      --disabled-bg-color: #DDD;\n",
              "  }\n",
              "\n",
              "  [theme=dark] .colab-df-quickchart {\n",
              "      --bg-color: #3B4455;\n",
              "      --fill-color: #D2E3FC;\n",
              "      --hover-bg-color: #434B5C;\n",
              "      --hover-fill-color: #FFFFFF;\n",
              "      --disabled-bg-color: #3B4455;\n",
              "      --disabled-fill-color: #666;\n",
              "  }\n",
              "\n",
              "  .colab-df-quickchart {\n",
              "    background-color: var(--bg-color);\n",
              "    border: none;\n",
              "    border-radius: 50%;\n",
              "    cursor: pointer;\n",
              "    display: none;\n",
              "    fill: var(--fill-color);\n",
              "    height: 32px;\n",
              "    padding: 0;\n",
              "    width: 32px;\n",
              "  }\n",
              "\n",
              "  .colab-df-quickchart:hover {\n",
              "    background-color: var(--hover-bg-color);\n",
              "    box-shadow: 0 1px 2px rgba(60, 64, 67, 0.3), 0 1px 3px 1px rgba(60, 64, 67, 0.15);\n",
              "    fill: var(--button-hover-fill-color);\n",
              "  }\n",
              "\n",
              "  .colab-df-quickchart-complete:disabled,\n",
              "  .colab-df-quickchart-complete:disabled:hover {\n",
              "    background-color: var(--disabled-bg-color);\n",
              "    fill: var(--disabled-fill-color);\n",
              "    box-shadow: none;\n",
              "  }\n",
              "\n",
              "  .colab-df-spinner {\n",
              "    border: 2px solid var(--fill-color);\n",
              "    border-color: transparent;\n",
              "    border-bottom-color: var(--fill-color);\n",
              "    animation:\n",
              "      spin 1s steps(1) infinite;\n",
              "  }\n",
              "\n",
              "  @keyframes spin {\n",
              "    0% {\n",
              "      border-color: transparent;\n",
              "      border-bottom-color: var(--fill-color);\n",
              "      border-left-color: var(--fill-color);\n",
              "    }\n",
              "    20% {\n",
              "      border-color: transparent;\n",
              "      border-left-color: var(--fill-color);\n",
              "      border-top-color: var(--fill-color);\n",
              "    }\n",
              "    30% {\n",
              "      border-color: transparent;\n",
              "      border-left-color: var(--fill-color);\n",
              "      border-top-color: var(--fill-color);\n",
              "      border-right-color: var(--fill-color);\n",
              "    }\n",
              "    40% {\n",
              "      border-color: transparent;\n",
              "      border-right-color: var(--fill-color);\n",
              "      border-top-color: var(--fill-color);\n",
              "    }\n",
              "    60% {\n",
              "      border-color: transparent;\n",
              "      border-right-color: var(--fill-color);\n",
              "    }\n",
              "    80% {\n",
              "      border-color: transparent;\n",
              "      border-right-color: var(--fill-color);\n",
              "      border-bottom-color: var(--fill-color);\n",
              "    }\n",
              "    90% {\n",
              "      border-color: transparent;\n",
              "      border-bottom-color: var(--fill-color);\n",
              "    }\n",
              "  }\n",
              "</style>\n",
              "\n",
              "  <script>\n",
              "    async function quickchart(key) {\n",
              "      const quickchartButtonEl =\n",
              "        document.querySelector('#' + key + ' button');\n",
              "      quickchartButtonEl.disabled = true;  // To prevent multiple clicks.\n",
              "      quickchartButtonEl.classList.add('colab-df-spinner');\n",
              "      try {\n",
              "        const charts = await google.colab.kernel.invokeFunction(\n",
              "            'suggestCharts', [key], {});\n",
              "      } catch (error) {\n",
              "        console.error('Error during call to suggestCharts:', error);\n",
              "      }\n",
              "      quickchartButtonEl.classList.remove('colab-df-spinner');\n",
              "      quickchartButtonEl.classList.add('colab-df-quickchart-complete');\n",
              "    }\n",
              "    (() => {\n",
              "      let quickchartButtonEl =\n",
              "        document.querySelector('#df-ea8961d3-da50-4978-a6e4-a65f2472af27 button');\n",
              "      quickchartButtonEl.style.display =\n",
              "        google.colab.kernel.accessAllowed ? 'block' : 'none';\n",
              "    })();\n",
              "  </script>\n",
              "</div>\n",
              "\n",
              "    </div>\n",
              "  </div>\n"
            ]
          },
          "metadata": {},
          "execution_count": 4
        }
      ]
    },
    {
      "cell_type": "markdown",
      "source": [
        "**Q1 What are the data types? (Only numeric and categorical)**"
      ],
      "metadata": {
        "id": "lJ6ksxYIH3ma"
      }
    },
    {
      "cell_type": "code",
      "source": [
        "data.dtypes"
      ],
      "metadata": {
        "colab": {
          "base_uri": "https://localhost:8080/"
        },
        "id": "O1Qj6YzZHCx5",
        "outputId": "21002d6d-a3ec-498b-83a5-ff7d80fee2a8"
      },
      "execution_count": 5,
      "outputs": [
        {
          "output_type": "execute_result",
          "data": {
            "text/plain": [
              "price                int64\n",
              "area                 int64\n",
              "bedrooms             int64\n",
              "bathrooms            int64\n",
              "stories              int64\n",
              "mainroad            object\n",
              "guestroom           object\n",
              "basement            object\n",
              "hotwaterheating     object\n",
              "airconditioning     object\n",
              "parking              int64\n",
              "prefarea            object\n",
              "furnishingstatus    object\n",
              "dtype: object"
            ]
          },
          "metadata": {},
          "execution_count": 5
        }
      ]
    },
    {
      "cell_type": "markdown",
      "source": [
        "A. The dataset contains 7 Categorical and 6 Numerical features"
      ],
      "metadata": {
        "id": "f-ssuAujH0Ga"
      }
    },
    {
      "cell_type": "markdown",
      "source": [
        "Transform categorical data using Ordinal Encoding"
      ],
      "metadata": {
        "id": "gO5eCQBn_l0E"
      }
    },
    {
      "cell_type": "code",
      "source": [
        "numeric_cols=[]\n",
        "cat_cols=[]\n",
        "for column in data.columns:\n",
        "    if pd.api.types.is_numeric_dtype(data[column]):\n",
        "        print(f\"The column '{column}' is numeric.\")\n",
        "        numeric_cols.append(column)\n",
        "    else:\n",
        "        print(f\"The column '{column}' is not numeric.\")\n",
        "        cat_cols.append(column)"
      ],
      "metadata": {
        "colab": {
          "base_uri": "https://localhost:8080/"
        },
        "id": "j1DG9Gj8_i_A",
        "outputId": "35d90338-50b1-4e6c-e25f-ede2d564542d"
      },
      "execution_count": 3,
      "outputs": [
        {
          "output_type": "stream",
          "name": "stdout",
          "text": [
            "The column 'price' is numeric.\n",
            "The column 'area' is numeric.\n",
            "The column 'bedrooms' is numeric.\n",
            "The column 'bathrooms' is numeric.\n",
            "The column 'stories' is numeric.\n",
            "The column 'mainroad' is not numeric.\n",
            "The column 'guestroom' is not numeric.\n",
            "The column 'basement' is not numeric.\n",
            "The column 'hotwaterheating' is not numeric.\n",
            "The column 'airconditioning' is not numeric.\n",
            "The column 'parking' is numeric.\n",
            "The column 'prefarea' is not numeric.\n",
            "The column 'furnishingstatus' is not numeric.\n"
          ]
        }
      ]
    },
    {
      "cell_type": "code",
      "source": [
        "print(numeric_cols)\n",
        "print(cat_cols)"
      ],
      "metadata": {
        "colab": {
          "base_uri": "https://localhost:8080/"
        },
        "id": "rZecKpRh_sx7",
        "outputId": "158197a3-e153-4a2f-e22e-2f2e5d007026"
      },
      "execution_count": 30,
      "outputs": [
        {
          "output_type": "stream",
          "name": "stdout",
          "text": [
            "['price', 'area', 'bedrooms', 'bathrooms', 'stories', 'parking']\n",
            "['mainroad', 'guestroom', 'basement', 'hotwaterheating', 'airconditioning', 'prefarea', 'furnishingstatus']\n"
          ]
        }
      ]
    },
    {
      "cell_type": "code",
      "source": [
        "from sklearn.preprocessing import LabelEncoder\n",
        "le=LabelEncoder()"
      ],
      "metadata": {
        "id": "xYuCUJuU_yMZ"
      },
      "execution_count": 31,
      "outputs": []
    },
    {
      "cell_type": "code",
      "source": [
        "for col in cat_cols:\n",
        "    data[col]=le.fit_transform(data[col])\n",
        "data"
      ],
      "metadata": {
        "colab": {
          "base_uri": "https://localhost:8080/",
          "height": 423
        },
        "id": "YluLil7NAEMV",
        "outputId": "46c85652-83e3-4ec0-c0b7-6e6a3cbe8073"
      },
      "execution_count": 32,
      "outputs": [
        {
          "output_type": "execute_result",
          "data": {
            "text/plain": [
              "        price  area  bedrooms  bathrooms  stories  mainroad  guestroom  \\\n",
              "0    13300000  7420         4          2        3         1          0   \n",
              "1    12250000  8960         4          4        4         1          0   \n",
              "2    12250000  9960         3          2        2         1          0   \n",
              "3    12215000  7500         4          2        2         1          0   \n",
              "4    11410000  7420         4          1        2         1          1   \n",
              "..        ...   ...       ...        ...      ...       ...        ...   \n",
              "540   1820000  3000         2          1        1         1          0   \n",
              "541   1767150  2400         3          1        1         0          0   \n",
              "542   1750000  3620         2          1        1         1          0   \n",
              "543   1750000  2910         3          1        1         0          0   \n",
              "544   1750000  3850         3          1        2         1          0   \n",
              "\n",
              "     basement  hotwaterheating  airconditioning  parking  prefarea  \\\n",
              "0           0                0                1        2         1   \n",
              "1           0                0                1        3         0   \n",
              "2           1                0                0        2         1   \n",
              "3           1                0                1        3         1   \n",
              "4           1                0                1        2         0   \n",
              "..        ...              ...              ...      ...       ...   \n",
              "540         1                0                0        2         0   \n",
              "541         0                0                0        0         0   \n",
              "542         0                0                0        0         0   \n",
              "543         0                0                0        0         0   \n",
              "544         0                0                0        0         0   \n",
              "\n",
              "     furnishingstatus  \n",
              "0                   0  \n",
              "1                   0  \n",
              "2                   1  \n",
              "3                   0  \n",
              "4                   0  \n",
              "..                ...  \n",
              "540                 2  \n",
              "541                 1  \n",
              "542                 2  \n",
              "543                 0  \n",
              "544                 2  \n",
              "\n",
              "[545 rows x 13 columns]"
            ],
            "text/html": [
              "\n",
              "  <div id=\"df-ffd144cf-394d-48a2-a0f8-59e88e96503e\" class=\"colab-df-container\">\n",
              "    <div>\n",
              "<style scoped>\n",
              "    .dataframe tbody tr th:only-of-type {\n",
              "        vertical-align: middle;\n",
              "    }\n",
              "\n",
              "    .dataframe tbody tr th {\n",
              "        vertical-align: top;\n",
              "    }\n",
              "\n",
              "    .dataframe thead th {\n",
              "        text-align: right;\n",
              "    }\n",
              "</style>\n",
              "<table border=\"1\" class=\"dataframe\">\n",
              "  <thead>\n",
              "    <tr style=\"text-align: right;\">\n",
              "      <th></th>\n",
              "      <th>price</th>\n",
              "      <th>area</th>\n",
              "      <th>bedrooms</th>\n",
              "      <th>bathrooms</th>\n",
              "      <th>stories</th>\n",
              "      <th>mainroad</th>\n",
              "      <th>guestroom</th>\n",
              "      <th>basement</th>\n",
              "      <th>hotwaterheating</th>\n",
              "      <th>airconditioning</th>\n",
              "      <th>parking</th>\n",
              "      <th>prefarea</th>\n",
              "      <th>furnishingstatus</th>\n",
              "    </tr>\n",
              "  </thead>\n",
              "  <tbody>\n",
              "    <tr>\n",
              "      <th>0</th>\n",
              "      <td>13300000</td>\n",
              "      <td>7420</td>\n",
              "      <td>4</td>\n",
              "      <td>2</td>\n",
              "      <td>3</td>\n",
              "      <td>1</td>\n",
              "      <td>0</td>\n",
              "      <td>0</td>\n",
              "      <td>0</td>\n",
              "      <td>1</td>\n",
              "      <td>2</td>\n",
              "      <td>1</td>\n",
              "      <td>0</td>\n",
              "    </tr>\n",
              "    <tr>\n",
              "      <th>1</th>\n",
              "      <td>12250000</td>\n",
              "      <td>8960</td>\n",
              "      <td>4</td>\n",
              "      <td>4</td>\n",
              "      <td>4</td>\n",
              "      <td>1</td>\n",
              "      <td>0</td>\n",
              "      <td>0</td>\n",
              "      <td>0</td>\n",
              "      <td>1</td>\n",
              "      <td>3</td>\n",
              "      <td>0</td>\n",
              "      <td>0</td>\n",
              "    </tr>\n",
              "    <tr>\n",
              "      <th>2</th>\n",
              "      <td>12250000</td>\n",
              "      <td>9960</td>\n",
              "      <td>3</td>\n",
              "      <td>2</td>\n",
              "      <td>2</td>\n",
              "      <td>1</td>\n",
              "      <td>0</td>\n",
              "      <td>1</td>\n",
              "      <td>0</td>\n",
              "      <td>0</td>\n",
              "      <td>2</td>\n",
              "      <td>1</td>\n",
              "      <td>1</td>\n",
              "    </tr>\n",
              "    <tr>\n",
              "      <th>3</th>\n",
              "      <td>12215000</td>\n",
              "      <td>7500</td>\n",
              "      <td>4</td>\n",
              "      <td>2</td>\n",
              "      <td>2</td>\n",
              "      <td>1</td>\n",
              "      <td>0</td>\n",
              "      <td>1</td>\n",
              "      <td>0</td>\n",
              "      <td>1</td>\n",
              "      <td>3</td>\n",
              "      <td>1</td>\n",
              "      <td>0</td>\n",
              "    </tr>\n",
              "    <tr>\n",
              "      <th>4</th>\n",
              "      <td>11410000</td>\n",
              "      <td>7420</td>\n",
              "      <td>4</td>\n",
              "      <td>1</td>\n",
              "      <td>2</td>\n",
              "      <td>1</td>\n",
              "      <td>1</td>\n",
              "      <td>1</td>\n",
              "      <td>0</td>\n",
              "      <td>1</td>\n",
              "      <td>2</td>\n",
              "      <td>0</td>\n",
              "      <td>0</td>\n",
              "    </tr>\n",
              "    <tr>\n",
              "      <th>...</th>\n",
              "      <td>...</td>\n",
              "      <td>...</td>\n",
              "      <td>...</td>\n",
              "      <td>...</td>\n",
              "      <td>...</td>\n",
              "      <td>...</td>\n",
              "      <td>...</td>\n",
              "      <td>...</td>\n",
              "      <td>...</td>\n",
              "      <td>...</td>\n",
              "      <td>...</td>\n",
              "      <td>...</td>\n",
              "      <td>...</td>\n",
              "    </tr>\n",
              "    <tr>\n",
              "      <th>540</th>\n",
              "      <td>1820000</td>\n",
              "      <td>3000</td>\n",
              "      <td>2</td>\n",
              "      <td>1</td>\n",
              "      <td>1</td>\n",
              "      <td>1</td>\n",
              "      <td>0</td>\n",
              "      <td>1</td>\n",
              "      <td>0</td>\n",
              "      <td>0</td>\n",
              "      <td>2</td>\n",
              "      <td>0</td>\n",
              "      <td>2</td>\n",
              "    </tr>\n",
              "    <tr>\n",
              "      <th>541</th>\n",
              "      <td>1767150</td>\n",
              "      <td>2400</td>\n",
              "      <td>3</td>\n",
              "      <td>1</td>\n",
              "      <td>1</td>\n",
              "      <td>0</td>\n",
              "      <td>0</td>\n",
              "      <td>0</td>\n",
              "      <td>0</td>\n",
              "      <td>0</td>\n",
              "      <td>0</td>\n",
              "      <td>0</td>\n",
              "      <td>1</td>\n",
              "    </tr>\n",
              "    <tr>\n",
              "      <th>542</th>\n",
              "      <td>1750000</td>\n",
              "      <td>3620</td>\n",
              "      <td>2</td>\n",
              "      <td>1</td>\n",
              "      <td>1</td>\n",
              "      <td>1</td>\n",
              "      <td>0</td>\n",
              "      <td>0</td>\n",
              "      <td>0</td>\n",
              "      <td>0</td>\n",
              "      <td>0</td>\n",
              "      <td>0</td>\n",
              "      <td>2</td>\n",
              "    </tr>\n",
              "    <tr>\n",
              "      <th>543</th>\n",
              "      <td>1750000</td>\n",
              "      <td>2910</td>\n",
              "      <td>3</td>\n",
              "      <td>1</td>\n",
              "      <td>1</td>\n",
              "      <td>0</td>\n",
              "      <td>0</td>\n",
              "      <td>0</td>\n",
              "      <td>0</td>\n",
              "      <td>0</td>\n",
              "      <td>0</td>\n",
              "      <td>0</td>\n",
              "      <td>0</td>\n",
              "    </tr>\n",
              "    <tr>\n",
              "      <th>544</th>\n",
              "      <td>1750000</td>\n",
              "      <td>3850</td>\n",
              "      <td>3</td>\n",
              "      <td>1</td>\n",
              "      <td>2</td>\n",
              "      <td>1</td>\n",
              "      <td>0</td>\n",
              "      <td>0</td>\n",
              "      <td>0</td>\n",
              "      <td>0</td>\n",
              "      <td>0</td>\n",
              "      <td>0</td>\n",
              "      <td>2</td>\n",
              "    </tr>\n",
              "  </tbody>\n",
              "</table>\n",
              "<p>545 rows × 13 columns</p>\n",
              "</div>\n",
              "    <div class=\"colab-df-buttons\">\n",
              "\n",
              "  <div class=\"colab-df-container\">\n",
              "    <button class=\"colab-df-convert\" onclick=\"convertToInteractive('df-ffd144cf-394d-48a2-a0f8-59e88e96503e')\"\n",
              "            title=\"Convert this dataframe to an interactive table.\"\n",
              "            style=\"display:none;\">\n",
              "\n",
              "  <svg xmlns=\"http://www.w3.org/2000/svg\" height=\"24px\" viewBox=\"0 -960 960 960\">\n",
              "    <path d=\"M120-120v-720h720v720H120Zm60-500h600v-160H180v160Zm220 220h160v-160H400v160Zm0 220h160v-160H400v160ZM180-400h160v-160H180v160Zm440 0h160v-160H620v160ZM180-180h160v-160H180v160Zm440 0h160v-160H620v160Z\"/>\n",
              "  </svg>\n",
              "    </button>\n",
              "\n",
              "  <style>\n",
              "    .colab-df-container {\n",
              "      display:flex;\n",
              "      gap: 12px;\n",
              "    }\n",
              "\n",
              "    .colab-df-convert {\n",
              "      background-color: #E8F0FE;\n",
              "      border: none;\n",
              "      border-radius: 50%;\n",
              "      cursor: pointer;\n",
              "      display: none;\n",
              "      fill: #1967D2;\n",
              "      height: 32px;\n",
              "      padding: 0 0 0 0;\n",
              "      width: 32px;\n",
              "    }\n",
              "\n",
              "    .colab-df-convert:hover {\n",
              "      background-color: #E2EBFA;\n",
              "      box-shadow: 0px 1px 2px rgba(60, 64, 67, 0.3), 0px 1px 3px 1px rgba(60, 64, 67, 0.15);\n",
              "      fill: #174EA6;\n",
              "    }\n",
              "\n",
              "    .colab-df-buttons div {\n",
              "      margin-bottom: 4px;\n",
              "    }\n",
              "\n",
              "    [theme=dark] .colab-df-convert {\n",
              "      background-color: #3B4455;\n",
              "      fill: #D2E3FC;\n",
              "    }\n",
              "\n",
              "    [theme=dark] .colab-df-convert:hover {\n",
              "      background-color: #434B5C;\n",
              "      box-shadow: 0px 1px 3px 1px rgba(0, 0, 0, 0.15);\n",
              "      filter: drop-shadow(0px 1px 2px rgba(0, 0, 0, 0.3));\n",
              "      fill: #FFFFFF;\n",
              "    }\n",
              "  </style>\n",
              "\n",
              "    <script>\n",
              "      const buttonEl =\n",
              "        document.querySelector('#df-ffd144cf-394d-48a2-a0f8-59e88e96503e button.colab-df-convert');\n",
              "      buttonEl.style.display =\n",
              "        google.colab.kernel.accessAllowed ? 'block' : 'none';\n",
              "\n",
              "      async function convertToInteractive(key) {\n",
              "        const element = document.querySelector('#df-ffd144cf-394d-48a2-a0f8-59e88e96503e');\n",
              "        const dataTable =\n",
              "          await google.colab.kernel.invokeFunction('convertToInteractive',\n",
              "                                                    [key], {});\n",
              "        if (!dataTable) return;\n",
              "\n",
              "        const docLinkHtml = 'Like what you see? Visit the ' +\n",
              "          '<a target=\"_blank\" href=https://colab.research.google.com/notebooks/data_table.ipynb>data table notebook</a>'\n",
              "          + ' to learn more about interactive tables.';\n",
              "        element.innerHTML = '';\n",
              "        dataTable['output_type'] = 'display_data';\n",
              "        await google.colab.output.renderOutput(dataTable, element);\n",
              "        const docLink = document.createElement('div');\n",
              "        docLink.innerHTML = docLinkHtml;\n",
              "        element.appendChild(docLink);\n",
              "      }\n",
              "    </script>\n",
              "  </div>\n",
              "\n",
              "\n",
              "<div id=\"df-aa51bb45-ab17-459f-9656-ef9cd8e8cf8c\">\n",
              "  <button class=\"colab-df-quickchart\" onclick=\"quickchart('df-aa51bb45-ab17-459f-9656-ef9cd8e8cf8c')\"\n",
              "            title=\"Suggest charts\"\n",
              "            style=\"display:none;\">\n",
              "\n",
              "<svg xmlns=\"http://www.w3.org/2000/svg\" height=\"24px\"viewBox=\"0 0 24 24\"\n",
              "     width=\"24px\">\n",
              "    <g>\n",
              "        <path d=\"M19 3H5c-1.1 0-2 .9-2 2v14c0 1.1.9 2 2 2h14c1.1 0 2-.9 2-2V5c0-1.1-.9-2-2-2zM9 17H7v-7h2v7zm4 0h-2V7h2v10zm4 0h-2v-4h2v4z\"/>\n",
              "    </g>\n",
              "</svg>\n",
              "  </button>\n",
              "\n",
              "<style>\n",
              "  .colab-df-quickchart {\n",
              "      --bg-color: #E8F0FE;\n",
              "      --fill-color: #1967D2;\n",
              "      --hover-bg-color: #E2EBFA;\n",
              "      --hover-fill-color: #174EA6;\n",
              "      --disabled-fill-color: #AAA;\n",
              "      --disabled-bg-color: #DDD;\n",
              "  }\n",
              "\n",
              "  [theme=dark] .colab-df-quickchart {\n",
              "      --bg-color: #3B4455;\n",
              "      --fill-color: #D2E3FC;\n",
              "      --hover-bg-color: #434B5C;\n",
              "      --hover-fill-color: #FFFFFF;\n",
              "      --disabled-bg-color: #3B4455;\n",
              "      --disabled-fill-color: #666;\n",
              "  }\n",
              "\n",
              "  .colab-df-quickchart {\n",
              "    background-color: var(--bg-color);\n",
              "    border: none;\n",
              "    border-radius: 50%;\n",
              "    cursor: pointer;\n",
              "    display: none;\n",
              "    fill: var(--fill-color);\n",
              "    height: 32px;\n",
              "    padding: 0;\n",
              "    width: 32px;\n",
              "  }\n",
              "\n",
              "  .colab-df-quickchart:hover {\n",
              "    background-color: var(--hover-bg-color);\n",
              "    box-shadow: 0 1px 2px rgba(60, 64, 67, 0.3), 0 1px 3px 1px rgba(60, 64, 67, 0.15);\n",
              "    fill: var(--button-hover-fill-color);\n",
              "  }\n",
              "\n",
              "  .colab-df-quickchart-complete:disabled,\n",
              "  .colab-df-quickchart-complete:disabled:hover {\n",
              "    background-color: var(--disabled-bg-color);\n",
              "    fill: var(--disabled-fill-color);\n",
              "    box-shadow: none;\n",
              "  }\n",
              "\n",
              "  .colab-df-spinner {\n",
              "    border: 2px solid var(--fill-color);\n",
              "    border-color: transparent;\n",
              "    border-bottom-color: var(--fill-color);\n",
              "    animation:\n",
              "      spin 1s steps(1) infinite;\n",
              "  }\n",
              "\n",
              "  @keyframes spin {\n",
              "    0% {\n",
              "      border-color: transparent;\n",
              "      border-bottom-color: var(--fill-color);\n",
              "      border-left-color: var(--fill-color);\n",
              "    }\n",
              "    20% {\n",
              "      border-color: transparent;\n",
              "      border-left-color: var(--fill-color);\n",
              "      border-top-color: var(--fill-color);\n",
              "    }\n",
              "    30% {\n",
              "      border-color: transparent;\n",
              "      border-left-color: var(--fill-color);\n",
              "      border-top-color: var(--fill-color);\n",
              "      border-right-color: var(--fill-color);\n",
              "    }\n",
              "    40% {\n",
              "      border-color: transparent;\n",
              "      border-right-color: var(--fill-color);\n",
              "      border-top-color: var(--fill-color);\n",
              "    }\n",
              "    60% {\n",
              "      border-color: transparent;\n",
              "      border-right-color: var(--fill-color);\n",
              "    }\n",
              "    80% {\n",
              "      border-color: transparent;\n",
              "      border-right-color: var(--fill-color);\n",
              "      border-bottom-color: var(--fill-color);\n",
              "    }\n",
              "    90% {\n",
              "      border-color: transparent;\n",
              "      border-bottom-color: var(--fill-color);\n",
              "    }\n",
              "  }\n",
              "</style>\n",
              "\n",
              "  <script>\n",
              "    async function quickchart(key) {\n",
              "      const quickchartButtonEl =\n",
              "        document.querySelector('#' + key + ' button');\n",
              "      quickchartButtonEl.disabled = true;  // To prevent multiple clicks.\n",
              "      quickchartButtonEl.classList.add('colab-df-spinner');\n",
              "      try {\n",
              "        const charts = await google.colab.kernel.invokeFunction(\n",
              "            'suggestCharts', [key], {});\n",
              "      } catch (error) {\n",
              "        console.error('Error during call to suggestCharts:', error);\n",
              "      }\n",
              "      quickchartButtonEl.classList.remove('colab-df-spinner');\n",
              "      quickchartButtonEl.classList.add('colab-df-quickchart-complete');\n",
              "    }\n",
              "    (() => {\n",
              "      let quickchartButtonEl =\n",
              "        document.querySelector('#df-aa51bb45-ab17-459f-9656-ef9cd8e8cf8c button');\n",
              "      quickchartButtonEl.style.display =\n",
              "        google.colab.kernel.accessAllowed ? 'block' : 'none';\n",
              "    })();\n",
              "  </script>\n",
              "</div>\n",
              "\n",
              "  <div id=\"id_aad0cc73-801a-481d-8aa2-fb89d88372fc\">\n",
              "    <style>\n",
              "      .colab-df-generate {\n",
              "        background-color: #E8F0FE;\n",
              "        border: none;\n",
              "        border-radius: 50%;\n",
              "        cursor: pointer;\n",
              "        display: none;\n",
              "        fill: #1967D2;\n",
              "        height: 32px;\n",
              "        padding: 0 0 0 0;\n",
              "        width: 32px;\n",
              "      }\n",
              "\n",
              "      .colab-df-generate:hover {\n",
              "        background-color: #E2EBFA;\n",
              "        box-shadow: 0px 1px 2px rgba(60, 64, 67, 0.3), 0px 1px 3px 1px rgba(60, 64, 67, 0.15);\n",
              "        fill: #174EA6;\n",
              "      }\n",
              "\n",
              "      [theme=dark] .colab-df-generate {\n",
              "        background-color: #3B4455;\n",
              "        fill: #D2E3FC;\n",
              "      }\n",
              "\n",
              "      [theme=dark] .colab-df-generate:hover {\n",
              "        background-color: #434B5C;\n",
              "        box-shadow: 0px 1px 3px 1px rgba(0, 0, 0, 0.15);\n",
              "        filter: drop-shadow(0px 1px 2px rgba(0, 0, 0, 0.3));\n",
              "        fill: #FFFFFF;\n",
              "      }\n",
              "    </style>\n",
              "    <button class=\"colab-df-generate\" onclick=\"generateWithVariable('data')\"\n",
              "            title=\"Generate code using this dataframe.\"\n",
              "            style=\"display:none;\">\n",
              "\n",
              "  <svg xmlns=\"http://www.w3.org/2000/svg\" height=\"24px\"viewBox=\"0 0 24 24\"\n",
              "       width=\"24px\">\n",
              "    <path d=\"M7,19H8.4L18.45,9,17,7.55,7,17.6ZM5,21V16.75L18.45,3.32a2,2,0,0,1,2.83,0l1.4,1.43a1.91,1.91,0,0,1,.58,1.4,1.91,1.91,0,0,1-.58,1.4L9.25,21ZM18.45,9,17,7.55Zm-12,3A5.31,5.31,0,0,0,4.9,8.1,5.31,5.31,0,0,0,1,6.5,5.31,5.31,0,0,0,4.9,4.9,5.31,5.31,0,0,0,6.5,1,5.31,5.31,0,0,0,8.1,4.9,5.31,5.31,0,0,0,12,6.5,5.46,5.46,0,0,0,6.5,12Z\"/>\n",
              "  </svg>\n",
              "    </button>\n",
              "    <script>\n",
              "      (() => {\n",
              "      const buttonEl =\n",
              "        document.querySelector('#id_aad0cc73-801a-481d-8aa2-fb89d88372fc button.colab-df-generate');\n",
              "      buttonEl.style.display =\n",
              "        google.colab.kernel.accessAllowed ? 'block' : 'none';\n",
              "\n",
              "      buttonEl.onclick = () => {\n",
              "        google.colab.notebook.generateWithVariable('data');\n",
              "      }\n",
              "      })();\n",
              "    </script>\n",
              "  </div>\n",
              "\n",
              "    </div>\n",
              "  </div>\n"
            ]
          },
          "metadata": {},
          "execution_count": 32
        }
      ]
    },
    {
      "cell_type": "markdown",
      "source": [
        "**Q2 Are there any missing values?**"
      ],
      "metadata": {
        "id": "DYVuU0E-WjGG"
      }
    },
    {
      "cell_type": "code",
      "source": [
        "# checking if the any data is missing\n",
        "data.isnull().sum()"
      ],
      "metadata": {
        "colab": {
          "base_uri": "https://localhost:8080/"
        },
        "id": "b3FlvTjUHBw9",
        "outputId": "511ee3ee-38e9-4ba9-bbb7-07060992ecaa"
      },
      "execution_count": 14,
      "outputs": [
        {
          "output_type": "execute_result",
          "data": {
            "text/plain": [
              "price               0\n",
              "area                0\n",
              "bedrooms            0\n",
              "bathrooms           0\n",
              "stories             0\n",
              "mainroad            0\n",
              "guestroom           0\n",
              "basement            0\n",
              "hotwaterheating     0\n",
              "airconditioning     0\n",
              "parking             0\n",
              "prefarea            0\n",
              "furnishingstatus    0\n",
              "dtype: int64"
            ]
          },
          "metadata": {},
          "execution_count": 14
        }
      ]
    },
    {
      "cell_type": "markdown",
      "source": [
        "A. There are no missing values in the dataset"
      ],
      "metadata": {
        "id": "1fOzkO7jWKlR"
      }
    },
    {
      "cell_type": "markdown",
      "source": [
        "**Q5 Which independent variables have missing data? How much?**"
      ],
      "metadata": {
        "id": "2coJeCfkOSdW"
      }
    },
    {
      "cell_type": "markdown",
      "source": [
        "A. There is no missing data for independent variables"
      ],
      "metadata": {
        "id": "0zaE3CRK7-Xm"
      }
    },
    {
      "cell_type": "markdown",
      "source": [
        "**Q3 What are the likely distributions of the numeric variables?**"
      ],
      "metadata": {
        "id": "cpQoH-p7_Skk"
      }
    },
    {
      "cell_type": "code",
      "source": [
        "# Plotting the distribution of independent variables\n",
        "for column in data.columns:\n",
        "    # Check if the column is numeric (excluding 'object' dtype)\n",
        "    if pd.api.types.is_numeric_dtype(data[column]):\n",
        "        data[column].plot.density(color=\"Orange\")\n",
        "        plt.title(f\"Distribution of {column}\")\n",
        "        plt.xlabel(column)\n",
        "        plt.show()"
      ],
      "metadata": {
        "colab": {
          "base_uri": "https://localhost:8080/",
          "height": 1000
        },
        "id": "hxTdcSs9HAfs",
        "outputId": "b01bb3a0-156c-41e5-a2e0-4fdc89ec92f1"
      },
      "execution_count": 25,
      "outputs": [
        {
          "output_type": "display_data",
          "data": {
            "text/plain": [
              "<Figure size 640x480 with 1 Axes>"
            ],
            "image/png": "[encoded data removed]"
          },
          "metadata": {}
        },
        {
          "output_type": "display_data",
          "data": {
            "text/plain": [
              "<Figure size 640x480 with 1 Axes>"
            ],
            "image/png": "[encoded data removed]"
          },
          "metadata": {}
        },
        {
          "output_type": "display_data",
          "data": {
            "text/plain": [
              "<Figure size 640x480 with 1 Axes>"
            ],
            "image/png": "[encoded data removed]"
          },
          "metadata": {}
        },
        {
          "output_type": "display_data",
          "data": {
            "text/plain": [
              "<Figure size 640x480 with 1 Axes>"
            ],
            "image/png": "[encoded data removed]"
          },
          "metadata": {}
        },
        {
          "output_type": "display_data",
          "data": {
            "text/plain": [
              "<Figure size 640x480 with 1 Axes>"
            ],
            "image/png": "[encoded data removed]"
          },
          "metadata": {}
        },
        {
          "output_type": "display_data",
          "data": {
            "text/plain": [
              "<Figure size 640x480 with 1 Axes>"
            ],
            "image/png": "[encoded data removed]"
          },
          "metadata": {}
        },
        {
          "output_type": "display_data",
          "data": {
            "text/plain": [
              "<Figure size 640x480 with 1 Axes>"
            ],
            "image/png": "[encoded data removed]"
          },
          "metadata": {}
        },
        {
          "output_type": "display_data",
          "data": {
            "text/plain": [
              "<Figure size 640x480 with 1 Axes>"
            ],
            "image/png": "[encoded data removed]"
          },
          "metadata": {}
        },
        {
          "output_type": "display_data",
          "data": {
            "text/plain": [
              "<Figure size 640x480 with 1 Axes>"
            ],
            "image/png": "[encoded data removed]"
          },
          "metadata": {}
        },
        {
          "output_type": "display_data",
          "data": {
            "text/plain": [
              "<Figure size 640x480 with 1 Axes>"
            ],
            "image/png": "[encoded data removed]"
          },
          "metadata": {}
        },
        {
          "output_type": "display_data",
          "data": {
            "text/plain": [
              "<Figure size 640x480 with 1 Axes>"
            ],
            "image/png": "[encoded data removed]"
          },
          "metadata": {}
        },
        {
          "output_type": "display_data",
          "data": {
            "text/plain": [
              "<Figure size 640x480 with 1 Axes>"
            ],
            "image/png": "[encoded data removed]"
          },
          "metadata": {}
        },
        {
          "output_type": "display_data",
          "data": {
            "text/plain": [
              "<Figure size 640x480 with 1 Axes>"
            ],
            "image/png": "[encoded data removed]"
          },
          "metadata": {}
        }
      ]
    },
    {
      "cell_type": "markdown",
      "source": [
        "A. From the above graph it can be seen that for Area the distribution is more likely to be Normal Distribution.\n",
        "\n",
        "Note: The distribution graph may not provide meaningful insights for other numeric variables since they represent a limited range of discrete numeric values that don't fit well into typical distribution graphs."
      ],
      "metadata": {
        "id": "cLN4QPw7tXLj"
      }
    },
    {
      "cell_type": "markdown",
      "source": [
        "**Q9. Do the ranges of the predictor variables make sense?**"
      ],
      "metadata": {
        "id": "c3glEEJZnzVf"
      }
    },
    {
      "cell_type": "code",
      "source": [
        "#Range of each column\n",
        "data.max() - data.min()"
      ],
      "metadata": {
        "colab": {
          "base_uri": "https://localhost:8080/"
        },
        "id": "f14Y7mn0n531",
        "outputId": "642f56d3-2423-46ec-8548-f70322d5826f"
      },
      "execution_count": 16,
      "outputs": [
        {
          "output_type": "execute_result",
          "data": {
            "text/plain": [
              "price               11550000\n",
              "area                   14550\n",
              "bedrooms                   5\n",
              "bathrooms                  3\n",
              "stories                    3\n",
              "mainroad                   1\n",
              "guestroom                  1\n",
              "basement                   1\n",
              "hotwaterheating            1\n",
              "airconditioning            1\n",
              "parking                    3\n",
              "prefarea                   1\n",
              "furnishingstatus           2\n",
              "dtype: int64"
            ]
          },
          "metadata": {},
          "execution_count": 16
        }
      ]
    },
    {
      "cell_type": "markdown",
      "source": [
        "A. The range of \"price\" and \"area\" variables is high, this implies high variablity in their distribution."
      ],
      "metadata": {
        "id": "gE5JhQFSoDQx"
      }
    },
    {
      "cell_type": "markdown",
      "source": [
        "**Q4. Which independent variables are useful to predict a target (dependent variable)? (Use at least three methods)**"
      ],
      "metadata": {
        "id": "rh6AJLRUOzNX"
      }
    },
    {
      "cell_type": "markdown",
      "source": [
        "A. 1) Univariate Selction"
      ],
      "metadata": {
        "id": "KmH8gWu3PWXX"
      }
    },
    {
      "cell_type": "code",
      "source": [
        "from sklearn.feature_selection import SelectKBest\n",
        "from sklearn.feature_selection import chi2\n",
        "from sklearn.preprocessing import LabelEncoder\n",
        "\n",
        "# Separate features (independent variables) and the target (dependent variable)\n",
        "X = data.iloc[:, 1:13]  # Features\n",
        "y = data.iloc[:, -1]   # Target variable\n",
        "\n",
        "# Encode categorical features using one-hot encoding\n",
        "X_encoded = pd.get_dummies(X, drop_first=True)\n",
        "\n",
        "# Encode the target variable if it contains categorical values\n",
        "label_encoder = LabelEncoder()\n",
        "y_encoded = label_encoder.fit_transform(y)\n",
        "\n",
        "# Apply SelectKBest with the chi-squared scoring function\n",
        "k_best = SelectKBest(score_func=chi2, k='all')\n",
        "fit = k_best.fit(X, y_encoded)"
      ],
      "metadata": {
        "id": "wU5WFEmXM5in"
      },
      "execution_count": 17,
      "outputs": []
    },
    {
      "cell_type": "code",
      "source": [
        "# Get the scores and feature names\n",
        "scores = fit.scores_\n",
        "feature_names = X_encoded.columns\n",
        "\n",
        "# Create a DataFrame to display the scores for each feature\n",
        "feature_scores = pd.DataFrame({'Feature': feature_names, 'Score': scores})\n",
        "feature_scores = feature_scores.sort_values(by='Score', ascending=False)\n",
        "\n",
        "# Display the scores\n",
        "print(\"Feature Scores:\")\n",
        "print(feature_scores)"
      ],
      "metadata": {
        "colab": {
          "base_uri": "https://localhost:8080/"
        },
        "id": "Msq_vab9rdYU",
        "outputId": "8981da88-d643-4a67-a1e3-65330e4eda5c"
      },
      "execution_count": 18,
      "outputs": [
        {
          "output_type": "stream",
          "name": "stdout",
          "text": [
            "Feature Scores:\n",
            "             Feature         Score\n",
            "0               area  14646.254209\n",
            "11  furnishingstatus    294.795883\n",
            "9            parking     18.797594\n",
            "8    airconditioning     10.023289\n",
            "5          guestroom      6.277670\n",
            "6           basement      5.121420\n",
            "10          prefarea      5.001351\n",
            "3            stories      2.515769\n",
            "7    hotwaterheating      2.490420\n",
            "2          bathrooms      2.238329\n",
            "4           mainroad      1.891387\n",
            "1           bedrooms      1.682885\n"
          ]
        }
      ]
    },
    {
      "cell_type": "code",
      "source": [
        "#Applying SelectKBest class to extract top features\n",
        "bestFeatures = SelectKBest(score_func= chi2, k = 12)\n",
        "fit = bestFeatures.fit(X,y)"
      ],
      "metadata": {
        "id": "zVJqyDKnq2bP"
      },
      "execution_count": 19,
      "outputs": []
    },
    {
      "cell_type": "code",
      "source": [
        "dfscores = pd.DataFrame(fit.scores_)\n",
        "dfcolumns = pd.DataFrame(X.columns)\n",
        "\n",
        "#Conact two dataframes for better visualization\n",
        "featureScores = pd.concat([dfcolumns,dfscores], axis = 1)\n",
        "featureScores.columns = ['Specs','Score']\n",
        "featureScores\n",
        "\n",
        "#Ordering methods from highest importance to lowest\n",
        "print(featureScores.nlargest(10,'Score'))"
      ],
      "metadata": {
        "colab": {
          "base_uri": "https://localhost:8080/"
        },
        "id": "Mkwd8hSSsUzu",
        "outputId": "48a0e2a4-ac99-4392-ce08-5bbccddc64f3"
      },
      "execution_count": 20,
      "outputs": [
        {
          "output_type": "stream",
          "name": "stdout",
          "text": [
            "               Specs         Score\n",
            "0               area  14646.254209\n",
            "11  furnishingstatus    294.795883\n",
            "9            parking     18.797594\n",
            "8    airconditioning     10.023289\n",
            "5          guestroom      6.277670\n",
            "6           basement      5.121420\n",
            "10          prefarea      5.001351\n",
            "3            stories      2.515769\n",
            "7    hotwaterheating      2.490420\n",
            "2          bathrooms      2.238329\n"
          ]
        }
      ]
    },
    {
      "cell_type": "markdown",
      "source": [
        "2) Feature Importance using Random Forest Regressor"
      ],
      "metadata": {
        "id": "3bD19fzNvWEF"
      }
    },
    {
      "cell_type": "code",
      "source": [
        "from sklearn.ensemble import RandomForestRegressor\n",
        "rf_model = RandomForestRegressor()\n",
        "rf_model.fit(X, y)\n",
        "feature_importances = pd.Series(rf_model.feature_importances_, index=X.columns)\n",
        "selected_features = feature_importances.nlargest(5).index"
      ],
      "metadata": {
        "id": "9iSdg60hvevA"
      },
      "execution_count": 21,
      "outputs": []
    },
    {
      "cell_type": "code",
      "source": [
        "from sklearn.ensemble import RandomForestRegressor\n",
        "\n",
        "X = data.drop(\"price\", axis=1)  # Assuming \"target_variable\" is your target column\n",
        "y = data[\"price\"]\n",
        "\n",
        "# Instantiate the Random Forest regressor\n",
        "rf_model = RandomForestRegressor(n_estimators=100, random_state=42)\n",
        "\n",
        "# Fit the model to your data\n",
        "rf_model.fit(X, y)\n",
        "\n",
        "# Get feature importances\n",
        "feature_importances = pd.Series(rf_model.feature_importances_, index=X.columns)\n",
        "\n",
        "# Display feature importances in descending order\n",
        "print(feature_importances.sort_values(ascending=False))"
      ],
      "metadata": {
        "colab": {
          "base_uri": "https://localhost:8080/"
        },
        "id": "vPnbjKTeqdhT",
        "outputId": "40262091-d0e3-444e-fb75-1a9151025de0"
      },
      "execution_count": 22,
      "outputs": [
        {
          "output_type": "stream",
          "name": "stdout",
          "text": [
            "area                0.464784\n",
            "bathrooms           0.154948\n",
            "parking             0.061491\n",
            "stories             0.055532\n",
            "furnishingstatus    0.055284\n",
            "airconditioning     0.055122\n",
            "bedrooms            0.042762\n",
            "prefarea            0.034899\n",
            "basement            0.030898\n",
            "guestroom           0.017785\n",
            "hotwaterheating     0.016831\n",
            "mainroad            0.009665\n",
            "dtype: float64\n"
          ]
        }
      ]
    },
    {
      "cell_type": "markdown",
      "source": [
        "3) Recursive Feature Elimination(RFE)"
      ],
      "metadata": {
        "id": "nAUQhnx0qh7W"
      }
    },
    {
      "cell_type": "code",
      "source": [
        "from sklearn.feature_selection import RFE\n",
        "from sklearn.linear_model import LinearRegression\n",
        "\n",
        "# Assuming X is your feature matrix and y is your target variable\n",
        "X = data.drop(\"price\", axis=1)\n",
        "y = data[\"price\"]\n",
        "\n",
        "# Instantiate the linear regression model\n",
        "model = LinearRegression()\n",
        "\n",
        "# Specify the number of features to select (adjust as needed)\n",
        "n_features_to_select = 5\n",
        "\n",
        "# Create the RFE model\n",
        "rfe = RFE(model, n_features_to_select=n_features_to_select)\n",
        "\n",
        "# Fit the RFE model to your data\n",
        "fit = rfe.fit(X, y)\n",
        "\n",
        "# Print the ranking of features (1 indicates selected)\n",
        "print(\"Feature Ranking:\")\n",
        "print(fit.ranking_)\n",
        "\n",
        "# Get the selected features\n",
        "selected_features = X.columns[fit.support_]\n",
        "\n",
        "# Display the selected features\n",
        "print(\"\\nSelected Features:\")\n",
        "print(selected_features)"
      ],
      "metadata": {
        "colab": {
          "base_uri": "https://localhost:8080/"
        },
        "id": "lOT6dETTvvx0",
        "outputId": "5cc2144b-fc7c-4168-e6a3-ff9e70697b75"
      },
      "execution_count": 23,
      "outputs": [
        {
          "output_type": "stream",
          "name": "stdout",
          "text": [
            "Feature Ranking:\n",
            "[8 7 1 4 1 2 5 1 1 3 1 6]\n",
            "\n",
            "Selected Features:\n",
            "Index(['bathrooms', 'mainroad', 'hotwaterheating', 'airconditioning',\n",
            "       'prefarea'],\n",
            "      dtype='object')\n"
          ]
        }
      ]
    },
    {
      "cell_type": "markdown",
      "source": [
        "**Q8. Which predictor variables are the most important?**"
      ],
      "metadata": {
        "id": "Cx7y7kfA663g"
      }
    },
    {
      "cell_type": "markdown",
      "source": [
        "A. From the above feature selection process performed, we can say that \"area\", \"\", \"\", \"\", \"\" and \"\" predictor variables are the most important in this regression model."
      ],
      "metadata": {
        "id": "fkkLOrHX7umR"
      }
    },
    {
      "cell_type": "markdown",
      "source": [
        "**Q7. In the predictor variables independent of all the other predictor variables?**"
      ],
      "metadata": {
        "id": "uH1Vn9znswY9"
      }
    },
    {
      "cell_type": "code",
      "source": [
        "X = data.drop(\"price\", axis=1)\n",
        "X.corr()\n",
        "sns.heatmap(X.corr());"
      ],
      "metadata": {
        "colab": {
          "base_uri": "https://localhost:8080/",
          "height": 536
        },
        "id": "4O5U3xG3xUr4",
        "outputId": "e8399a08-4e69-4263-ceff-f449c179949b"
      },
      "execution_count": 24,
      "outputs": [
        {
          "output_type": "display_data",
          "data": {
            "text/plain": [
              "<Figure size 640x480 with 2 Axes>"
            ],
            "image/png": "[encoded data removed]"
          },
          "metadata": {}
        }
      ]
    },
    {
      "cell_type": "markdown",
      "source": [
        "A. According to the heatmap, we can see that there is no multicollinearity between the variables i.e most of the predictor variables are not correlated to each other."
      ],
      "metadata": {
        "id": "NpO73ElRs9k5"
      }
    },
    {
      "cell_type": "markdown",
      "source": [
        "**Q10. What are the distributions of the predictor variables?**"
      ],
      "metadata": {
        "id": "ElrP2grjs9u6"
      }
    },
    {
      "cell_type": "markdown",
      "source": [
        "Splitting the data into train and test; 75% for training and 25% for testing"
      ],
      "metadata": {
        "id": "koqREOPA9gdY"
      }
    },
    {
      "cell_type": "code",
      "source": [
        "from sklearn.model_selection import train_test_split\n",
        "from sklearn.linear_model import LinearRegression\n",
        "from sklearn.metrics import mean_squared_error, mean_absolute_error,r2_score"
      ],
      "metadata": {
        "id": "c5FxgUprYrvY"
      },
      "execution_count": 7,
      "outputs": []
    },
    {
      "cell_type": "code",
      "source": [
        "X = data.drop('price', axis=1)\n",
        "y = data['price']\n",
        "\n",
        "X_train, X_test, y_train, y_test = train_test_split(X, y, test_size = 0.25)\n",
        "model = LinearRegression()\n",
        "model.fit(X_train, y_train)\n",
        "y_pred = model.predict(X_test)\n",
        "print(y_pred)"
      ],
      "metadata": {
        "colab": {
          "base_uri": "https://localhost:8080/"
        },
        "id": "v52E96TE9Nir",
        "outputId": "051c021b-b215-4304-ee68-d0e503fe8b7f"
      },
      "execution_count": 36,
      "outputs": [
        {
          "output_type": "stream",
          "name": "stdout",
          "text": [
            "[ 4464348.76208794  3546484.32876789  4744685.20887987  5212187.68921012\n",
            "  5178180.27231526  3278700.94436936  3465799.21607481  4202525.94619813\n",
            "  4335933.30608589  3858219.49284619  2811207.94096006  7994916.2563859\n",
            "  3825535.7643265   3408546.34834288  3081488.94742977  3407367.63243476\n",
            "  4327281.0653985   4975166.02149697  5938750.44227231  5277395.70838214\n",
            "  3678409.41833194  4104104.00321249  3909618.08488321  4366317.78694697\n",
            "  5756287.83603096  3414756.484649    2398905.45733911  6642173.80507528\n",
            "  3750112.8980931   4085111.27853054  4746225.23616893  3263719.3729062\n",
            "  2617715.17773562  4317073.31374626  6490631.12840457  6206638.40576266\n",
            "  4679349.94673551  2716963.06613717  2727410.2122847   3701512.30063321\n",
            "  6912364.99427563  5875309.53275677  3396337.15120614 10689415.01913489\n",
            "  6632728.78019611  8257083.79976098  2716963.06613717  3135131.19802891\n",
            "  2965901.71384262  3093342.61343879  7116309.11261819  4237488.44517469\n",
            "  4233433.14871617  5618667.63083854  6467179.31198929  4572825.12973705\n",
            "  3237601.50753737  3858118.86944374  7701121.01905711  3227080.36753092\n",
            "  4494638.40144564  4287002.81520327  2042393.3462345   3083432.10800236\n",
            "  5125821.30869126  3277790.82840777  2803021.59567391  4645625.65244693\n",
            "  6111495.26430716  4730568.82837245  3217063.1083918   5611590.11867106\n",
            "  3133130.04606205  5132246.46543926  6812186.6790658   4353856.02263752\n",
            "  3952080.23400501  2238277.33650072  2194137.81773451  3908419.50127574\n",
            "  6446051.28022507  6166447.9112929   6187743.1442373   2076476.99739438\n",
            "  6486800.69793767  4699573.12457637  4162511.1658756   2622938.75080939\n",
            "  3684412.02014032  6505175.30712992  3700300.43673652  6354370.53818751\n",
            "  2702185.26747636  4762065.60796119  4391015.74136858  3892924.3448661\n",
            "  7128058.90321407  5559289.97272124  5540899.72631523  5173164.7460013\n",
            "  4990231.61377099  4305617.78108317  7073462.51986117  2976348.85999016\n",
            "  5940707.85290501  4926816.76233061  6381373.74901319  8071419.96391502\n",
            "  7131064.59350218  3185161.35676039  2912847.05640339  6667336.18299495\n",
            "  2159923.74039423  3676120.5028089   7179528.63021448  6397579.56893886\n",
            "  6479660.75809225  3394015.32929906  4013341.75462034  4545479.14125296\n",
            "  7438358.97493671  4118544.64949167  2699725.27499375  2622938.75080939\n",
            "  5977314.51875105  2528784.0093012   9068468.63144838  5795592.76134747\n",
            "  3693767.72157423  3615006.48858436  2634502.88636967  3175077.2486395\n",
            "  3952402.42616129  6440445.48251389  2211263.04121424  4627636.77767711\n",
            "  3970486.66830342]\n"
          ]
        }
      ]
    },
    {
      "cell_type": "markdown",
      "source": [
        "**Q6. Do the training and test sets have the same data?**"
      ],
      "metadata": {
        "id": "aJkdlDqHhyvP"
      }
    },
    {
      "cell_type": "code",
      "source": [
        "# Shape of Training and Testing Data\n",
        "print(\"Shape of Training data is = \" + str(X_train.shape))\n",
        "print(\"Shape of Test data is = \" + str(X_test.shape))"
      ],
      "metadata": {
        "colab": {
          "base_uri": "https://localhost:8080/"
        },
        "id": "S9wmBPY0hinO",
        "outputId": "1b59c35a-f0b8-46e6-f33a-63654d8d0927"
      },
      "execution_count": 42,
      "outputs": [
        {
          "output_type": "stream",
          "name": "stdout",
          "text": [
            "Shape of Training data is = (381, 12)\n",
            "Shape of Test data is = (164, 12)\n"
          ]
        }
      ]
    },
    {
      "cell_type": "code",
      "source": [
        "train_unique_values = set(y_train.unique())\n",
        "test_unique_values = set(y_test.unique())\n",
        "\n",
        "if train_unique_values == test_unique_values:\n",
        "    print(\"Training and test sets have the same unique values.\")\n",
        "else:\n",
        "    print(\"Training and test sets have different unique values.\")"
      ],
      "metadata": {
        "colab": {
          "base_uri": "https://localhost:8080/"
        },
        "id": "TVwfwiSxhtsQ",
        "outputId": "16d05f11-e47b-41c2-fc0b-77ab493ea512"
      },
      "execution_count": 43,
      "outputs": [
        {
          "output_type": "stream",
          "name": "stdout",
          "text": [
            "Training and test sets have different unique values.\n"
          ]
        }
      ]
    },
    {
      "cell_type": "markdown",
      "source": [
        "A. As we can see, the training and testing datasets are not same."
      ],
      "metadata": {
        "id": "CVDSEejNh9UF"
      }
    },
    {
      "cell_type": "markdown",
      "source": [
        "Here, we have trained the regression model without removing the outliers"
      ],
      "metadata": {
        "id": "EQDAvgTpGRg8"
      }
    },
    {
      "cell_type": "code",
      "source": [
        "print(\"mean squared error:\" , mean_squared_error(y_test,y_pred), \"\\n\")\n",
        "print(\"r2_score : \", r2_score(y_test, y_pred))"
      ],
      "metadata": {
        "colab": {
          "base_uri": "https://localhost:8080/"
        },
        "id": "vcjMO_skY1Sn",
        "outputId": "4985615a-5df3-4f86-a4ad-a8d4c0bfd5a0"
      },
      "execution_count": 37,
      "outputs": [
        {
          "output_type": "stream",
          "name": "stdout",
          "text": [
            "mean squared error: 962307352263.5323 \n",
            "\n",
            "r2_score :  0.7023222995804048\n"
          ]
        }
      ]
    },
    {
      "cell_type": "code",
      "source": [
        "plt.figure(figsize=[15, 8])\n",
        "sns.boxplot(data=data)"
      ],
      "metadata": {
        "colab": {
          "base_uri": "https://localhost:8080/",
          "height": 708
        },
        "id": "PoG1nTqHGcmg",
        "outputId": "e5450548-5d83-4543-b6bb-feea0066b156"
      },
      "execution_count": 10,
      "outputs": [
        {
          "output_type": "execute_result",
          "data": {
            "text/plain": [
              "<Axes: >"
            ]
          },
          "metadata": {},
          "execution_count": 10
        },
        {
          "output_type": "display_data",
          "data": {
            "text/plain": [
              "<Figure size 1500x800 with 1 Axes>"
            ],
            "image/png": "[encoded data removed]"
          },
          "metadata": {}
        }
      ]
    },
    {
      "cell_type": "markdown",
      "source": [
        "We can see that there are outliers present in multiple variables which we are going to remove in the next step"
      ],
      "metadata": {
        "id": "Xzn-rHxQGjsg"
      }
    },
    {
      "cell_type": "code",
      "source": [
        "pip install datasist"
      ],
      "metadata": {
        "colab": {
          "base_uri": "https://localhost:8080/"
        },
        "id": "zlkAcsrwG1mF",
        "outputId": "1ab003c6-7c54-434f-c221-12ca528af826"
      },
      "execution_count": 11,
      "outputs": [
        {
          "output_type": "stream",
          "name": "stdout",
          "text": [
            "Collecting datasist\n",
            "  Downloading datasist-1.5.3-py3-none-any.whl (33 kB)\n",
            "Requirement already satisfied: pandas in /usr/local/lib/python3.10/dist-packages (from datasist) (1.5.3)\n",
            "Requirement already satisfied: matplotlib in /usr/local/lib/python3.10/dist-packages (from datasist) (3.7.1)\n",
            "Requirement already satisfied: seaborn in /usr/local/lib/python3.10/dist-packages (from datasist) (0.13.1)\n",
            "Requirement already satisfied: numpy in /usr/local/lib/python3.10/dist-packages (from datasist) (1.23.5)\n",
            "Collecting jupyter (from datasist)\n",
            "  Downloading jupyter-1.0.0-py2.py3-none-any.whl (2.7 kB)\n",
            "Requirement already satisfied: scikit-learn in /usr/local/lib/python3.10/dist-packages (from datasist) (1.2.2)\n",
            "Requirement already satisfied: nltk in /usr/local/lib/python3.10/dist-packages (from datasist) (3.8.1)\n",
            "Requirement already satisfied: Joblib in /usr/local/lib/python3.10/dist-packages (from datasist) (1.3.2)\n",
            "Requirement already satisfied: notebook in /usr/local/lib/python3.10/dist-packages (from jupyter->datasist) (6.5.5)\n",
            "Collecting qtconsole (from jupyter->datasist)\n",
            "  Downloading qtconsole-5.5.1-py3-none-any.whl (123 kB)\n",
            "\u001b[2K     \u001b[90m━━━━━━━━━━━━━━━━━━━━━━━━━━━━━━━━━━━━━━━━\u001b[0m \u001b[32m123.4/123.4 kB\u001b[0m \u001b[31m6.2 MB/s\u001b[0m eta \u001b[36m0:00:00\u001b[0m\n",
            "\u001b[?25hRequirement already satisfied: jupyter-console in /usr/local/lib/python3.10/dist-packages (from jupyter->datasist) (6.1.0)\n",
            "Requirement already satisfied: nbconvert in /usr/local/lib/python3.10/dist-packages (from jupyter->datasist) (6.5.4)\n",
            "Requirement already satisfied: ipykernel in /usr/local/lib/python3.10/dist-packages (from jupyter->datasist) (5.5.6)\n",
            "Requirement already satisfied: ipywidgets in /usr/local/lib/python3.10/dist-packages (from jupyter->datasist) (7.7.1)\n",
            "Requirement already satisfied: contourpy>=1.0.1 in /usr/local/lib/python3.10/dist-packages (from matplotlib->datasist) (1.2.0)\n",
            "Requirement already satisfied: cycler>=0.10 in /usr/local/lib/python3.10/dist-packages (from matplotlib->datasist) (0.12.1)\n",
            "Requirement already satisfied: fonttools>=4.22.0 in /usr/local/lib/python3.10/dist-packages (from matplotlib->datasist) (4.47.2)\n",
            "Requirement already satisfied: kiwisolver>=1.0.1 in /usr/local/lib/python3.10/dist-packages (from matplotlib->datasist) (1.4.5)\n",
            "Requirement already satisfied: packaging>=20.0 in /usr/local/lib/python3.10/dist-packages (from matplotlib->datasist) (23.2)\n",
            "Requirement already satisfied: pillow>=6.2.0 in /usr/local/lib/python3.10/dist-packages (from matplotlib->datasist) (9.4.0)\n",
            "Requirement already satisfied: pyparsing>=2.3.1 in /usr/local/lib/python3.10/dist-packages (from matplotlib->datasist) (3.1.1)\n",
            "Requirement already satisfied: python-dateutil>=2.7 in /usr/local/lib/python3.10/dist-packages (from matplotlib->datasist) (2.8.2)\n",
            "Requirement already satisfied: click in /usr/local/lib/python3.10/dist-packages (from nltk->datasist) (8.1.7)\n",
            "Requirement already satisfied: regex>=2021.8.3 in /usr/local/lib/python3.10/dist-packages (from nltk->datasist) (2023.6.3)\n",
            "Requirement already satisfied: tqdm in /usr/local/lib/python3.10/dist-packages (from nltk->datasist) (4.66.1)\n",
            "Requirement already satisfied: pytz>=2020.1 in /usr/local/lib/python3.10/dist-packages (from pandas->datasist) (2023.3.post1)\n",
            "Requirement already satisfied: scipy>=1.3.2 in /usr/local/lib/python3.10/dist-packages (from scikit-learn->datasist) (1.11.4)\n",
            "Requirement already satisfied: threadpoolctl>=2.0.0 in /usr/local/lib/python3.10/dist-packages (from scikit-learn->datasist) (3.2.0)\n",
            "Requirement already satisfied: six>=1.5 in /usr/local/lib/python3.10/dist-packages (from python-dateutil>=2.7->matplotlib->datasist) (1.16.0)\n",
            "Requirement already satisfied: ipython-genutils in /usr/local/lib/python3.10/dist-packages (from ipykernel->jupyter->datasist) (0.2.0)\n",
            "Requirement already satisfied: ipython>=5.0.0 in /usr/local/lib/python3.10/dist-packages (from ipykernel->jupyter->datasist) (7.34.0)\n",
            "Requirement already satisfied: traitlets>=4.1.0 in /usr/local/lib/python3.10/dist-packages (from ipykernel->jupyter->datasist) (5.7.1)\n",
            "Requirement already satisfied: jupyter-client in /usr/local/lib/python3.10/dist-packages (from ipykernel->jupyter->datasist) (6.1.12)\n",
            "Requirement already satisfied: tornado>=4.2 in /usr/local/lib/python3.10/dist-packages (from ipykernel->jupyter->datasist) (6.3.2)\n",
            "Requirement already satisfied: widgetsnbextension~=3.6.0 in /usr/local/lib/python3.10/dist-packages (from ipywidgets->jupyter->datasist) (3.6.6)\n",
            "Requirement already satisfied: jupyterlab-widgets>=1.0.0 in /usr/local/lib/python3.10/dist-packages (from ipywidgets->jupyter->datasist) (3.0.9)\n",
            "Requirement already satisfied: prompt-toolkit!=3.0.0,!=3.0.1,<3.1.0,>=2.0.0 in /usr/local/lib/python3.10/dist-packages (from jupyter-console->jupyter->datasist) (3.0.43)\n",
            "Requirement already satisfied: pygments in /usr/local/lib/python3.10/dist-packages (from jupyter-console->jupyter->datasist) (2.16.1)\n",
            "Requirement already satisfied: lxml in /usr/local/lib/python3.10/dist-packages (from nbconvert->jupyter->datasist) (4.9.4)\n",
            "Requirement already satisfied: beautifulsoup4 in /usr/local/lib/python3.10/dist-packages (from nbconvert->jupyter->datasist) (4.11.2)\n",
            "Requirement already satisfied: bleach in /usr/local/lib/python3.10/dist-packages (from nbconvert->jupyter->datasist) (6.1.0)\n",
            "Requirement already satisfied: defusedxml in /usr/local/lib/python3.10/dist-packages (from nbconvert->jupyter->datasist) (0.7.1)\n",
            "Requirement already satisfied: entrypoints>=0.2.2 in /usr/local/lib/python3.10/dist-packages (from nbconvert->jupyter->datasist) (0.4)\n",
            "Requirement already satisfied: jinja2>=3.0 in /usr/local/lib/python3.10/dist-packages (from nbconvert->jupyter->datasist) (3.1.3)\n",
            "Requirement already satisfied: jupyter-core>=4.7 in /usr/local/lib/python3.10/dist-packages (from nbconvert->jupyter->datasist) (5.7.1)\n",
            "Requirement already satisfied: jupyterlab-pygments in /usr/local/lib/python3.10/dist-packages (from nbconvert->jupyter->datasist) (0.3.0)\n",
            "Requirement already satisfied: MarkupSafe>=2.0 in /usr/local/lib/python3.10/dist-packages (from nbconvert->jupyter->datasist) (2.1.4)\n",
            "Requirement already satisfied: mistune<2,>=0.8.1 in /usr/local/lib/python3.10/dist-packages (from nbconvert->jupyter->datasist) (0.8.4)\n",
            "Requirement already satisfied: nbclient>=0.5.0 in /usr/local/lib/python3.10/dist-packages (from nbconvert->jupyter->datasist) (0.9.0)\n",
            "Requirement already satisfied: nbformat>=5.1 in /usr/local/lib/python3.10/dist-packages (from nbconvert->jupyter->datasist) (5.9.2)\n",
            "Requirement already satisfied: pandocfilters>=1.4.1 in /usr/local/lib/python3.10/dist-packages (from nbconvert->jupyter->datasist) (1.5.1)\n",
            "Requirement already satisfied: tinycss2 in /usr/local/lib/python3.10/dist-packages (from nbconvert->jupyter->datasist) (1.2.1)\n",
            "Requirement already satisfied: pyzmq<25,>=17 in /usr/local/lib/python3.10/dist-packages (from notebook->jupyter->datasist) (23.2.1)\n",
            "Requirement already satisfied: argon2-cffi in /usr/local/lib/python3.10/dist-packages (from notebook->jupyter->datasist) (23.1.0)\n",
            "Requirement already satisfied: nest-asyncio>=1.5 in /usr/local/lib/python3.10/dist-packages (from notebook->jupyter->datasist) (1.6.0)\n",
            "Requirement already satisfied: Send2Trash>=1.8.0 in /usr/local/lib/python3.10/dist-packages (from notebook->jupyter->datasist) (1.8.2)\n",
            "Requirement already satisfied: terminado>=0.8.3 in /usr/local/lib/python3.10/dist-packages (from notebook->jupyter->datasist) (0.18.0)\n",
            "Requirement already satisfied: prometheus-client in /usr/local/lib/python3.10/dist-packages (from notebook->jupyter->datasist) (0.19.0)\n",
            "Requirement already satisfied: nbclassic>=0.4.7 in /usr/local/lib/python3.10/dist-packages (from notebook->jupyter->datasist) (1.0.0)\n",
            "Collecting qtpy>=2.4.0 (from qtconsole->jupyter->datasist)\n",
            "  Downloading QtPy-2.4.1-py3-none-any.whl (93 kB)\n",
            "\u001b[2K     \u001b[90m━━━━━━━━━━━━━━━━━━━━━━━━━━━━━━━━━━━━━━━━\u001b[0m \u001b[32m93.5/93.5 kB\u001b[0m \u001b[31m12.8 MB/s\u001b[0m eta \u001b[36m0:00:00\u001b[0m\n",
            "\u001b[?25hRequirement already satisfied: setuptools>=18.5 in /usr/local/lib/python3.10/dist-packages (from ipython>=5.0.0->ipykernel->jupyter->datasist) (67.7.2)\n",
            "Collecting jedi>=0.16 (from ipython>=5.0.0->ipykernel->jupyter->datasist)\n",
            "  Downloading jedi-0.19.1-py2.py3-none-any.whl (1.6 MB)\n",
            "\u001b[2K     \u001b[90m━━━━━━━━━━━━━━━━━━━━━━━━━━━━━━━━━━━━━━━━\u001b[0m \u001b[32m1.6/1.6 MB\u001b[0m \u001b[31m48.5 MB/s\u001b[0m eta \u001b[36m0:00:00\u001b[0m\n",
            "\u001b[?25hRequirement already satisfied: decorator in /usr/local/lib/python3.10/dist-packages (from ipython>=5.0.0->ipykernel->jupyter->datasist) (4.4.2)\n",
            "Requirement already satisfied: pickleshare in /usr/local/lib/python3.10/dist-packages (from ipython>=5.0.0->ipykernel->jupyter->datasist) (0.7.5)\n",
            "Requirement already satisfied: backcall in /usr/local/lib/python3.10/dist-packages (from ipython>=5.0.0->ipykernel->jupyter->datasist) (0.2.0)\n",
            "Requirement already satisfied: matplotlib-inline in /usr/local/lib/python3.10/dist-packages (from ipython>=5.0.0->ipykernel->jupyter->datasist) (0.1.6)\n",
            "Requirement already satisfied: pexpect>4.3 in /usr/local/lib/python3.10/dist-packages (from ipython>=5.0.0->ipykernel->jupyter->datasist) (4.9.0)\n",
            "Requirement already satisfied: platformdirs>=2.5 in /usr/local/lib/python3.10/dist-packages (from jupyter-core>=4.7->nbconvert->jupyter->datasist) (4.1.0)\n",
            "Requirement already satisfied: jupyter-server>=1.8 in /usr/local/lib/python3.10/dist-packages (from nbclassic>=0.4.7->notebook->jupyter->datasist) (1.24.0)\n",
            "Requirement already satisfied: notebook-shim>=0.2.3 in /usr/local/lib/python3.10/dist-packages (from nbclassic>=0.4.7->notebook->jupyter->datasist) (0.2.3)\n",
            "Requirement already satisfied: fastjsonschema in /usr/local/lib/python3.10/dist-packages (from nbformat>=5.1->nbconvert->jupyter->datasist) (2.19.1)\n",
            "Requirement already satisfied: jsonschema>=2.6 in /usr/local/lib/python3.10/dist-packages (from nbformat>=5.1->nbconvert->jupyter->datasist) (4.19.2)\n",
            "Requirement already satisfied: wcwidth in /usr/local/lib/python3.10/dist-packages (from prompt-toolkit!=3.0.0,!=3.0.1,<3.1.0,>=2.0.0->jupyter-console->jupyter->datasist) (0.2.13)\n",
            "Requirement already satisfied: ptyprocess in /usr/local/lib/python3.10/dist-packages (from terminado>=0.8.3->notebook->jupyter->datasist) (0.7.0)\n",
            "Requirement already satisfied: argon2-cffi-bindings in /usr/local/lib/python3.10/dist-packages (from argon2-cffi->notebook->jupyter->datasist) (21.2.0)\n",
            "Requirement already satisfied: soupsieve>1.2 in /usr/local/lib/python3.10/dist-packages (from beautifulsoup4->nbconvert->jupyter->datasist) (2.5)\n",
            "Requirement already satisfied: webencodings in /usr/local/lib/python3.10/dist-packages (from bleach->nbconvert->jupyter->datasist) (0.5.1)\n",
            "Requirement already satisfied: parso<0.9.0,>=0.8.3 in /usr/local/lib/python3.10/dist-packages (from jedi>=0.16->ipython>=5.0.0->ipykernel->jupyter->datasist) (0.8.3)\n",
            "Requirement already satisfied: attrs>=22.2.0 in /usr/local/lib/python3.10/dist-packages (from jsonschema>=2.6->nbformat>=5.1->nbconvert->jupyter->datasist) (23.2.0)\n",
            "Requirement already satisfied: jsonschema-specifications>=2023.03.6 in /usr/local/lib/python3.10/dist-packages (from jsonschema>=2.6->nbformat>=5.1->nbconvert->jupyter->datasist) (2023.12.1)\n",
            "Requirement already satisfied: referencing>=0.28.4 in /usr/local/lib/python3.10/dist-packages (from jsonschema>=2.6->nbformat>=5.1->nbconvert->jupyter->datasist) (0.32.1)\n",
            "Requirement already satisfied: rpds-py>=0.7.1 in /usr/local/lib/python3.10/dist-packages (from jsonschema>=2.6->nbformat>=5.1->nbconvert->jupyter->datasist) (0.17.1)\n",
            "Requirement already satisfied: anyio<4,>=3.1.0 in /usr/local/lib/python3.10/dist-packages (from jupyter-server>=1.8->nbclassic>=0.4.7->notebook->jupyter->datasist) (3.7.1)\n",
            "Requirement already satisfied: websocket-client in /usr/local/lib/python3.10/dist-packages (from jupyter-server>=1.8->nbclassic>=0.4.7->notebook->jupyter->datasist) (1.7.0)\n",
            "Requirement already satisfied: cffi>=1.0.1 in /usr/local/lib/python3.10/dist-packages (from argon2-cffi-bindings->argon2-cffi->notebook->jupyter->datasist) (1.16.0)\n",
            "Requirement already satisfied: idna>=2.8 in /usr/local/lib/python3.10/dist-packages (from anyio<4,>=3.1.0->jupyter-server>=1.8->nbclassic>=0.4.7->notebook->jupyter->datasist) (3.6)\n",
            "Requirement already satisfied: sniffio>=1.1 in /usr/local/lib/python3.10/dist-packages (from anyio<4,>=3.1.0->jupyter-server>=1.8->nbclassic>=0.4.7->notebook->jupyter->datasist) (1.3.0)\n",
            "Requirement already satisfied: exceptiongroup in /usr/local/lib/python3.10/dist-packages (from anyio<4,>=3.1.0->jupyter-server>=1.8->nbclassic>=0.4.7->notebook->jupyter->datasist) (1.2.0)\n",
            "Requirement already satisfied: pycparser in /usr/local/lib/python3.10/dist-packages (from cffi>=1.0.1->argon2-cffi-bindings->argon2-cffi->notebook->jupyter->datasist) (2.21)\n",
            "Installing collected packages: qtpy, jedi, qtconsole, jupyter, datasist\n",
            "Successfully installed datasist-1.5.3 jedi-0.19.1 jupyter-1.0.0 qtconsole-5.5.1 qtpy-2.4.1\n"
          ]
        }
      ]
    },
    {
      "cell_type": "code",
      "source": [
        "from datasist.structdata import detect_outliers\n",
        "\n",
        "index = detect_outliers(\n",
        "    data,\n",
        "    0,\n",
        "    [\n",
        "         \"price\",\n",
        "        \"area\",\n",
        "        \"bedrooms\",\n",
        "        \"bathrooms\",\n",
        "        \"stories\",\n",
        "        \"mainroad\",\n",
        "        \"guestroom\",\n",
        "        \"basement\",\n",
        "        \"hotwaterheating\",\n",
        "        \"airconditioning\",\n",
        "        \"parking\",\n",
        "        \"prefarea\",\n",
        "        \"furnishingstatus\",\n",
        "    ],\n",
        ")\n",
        "len(index)"
      ],
      "metadata": {
        "colab": {
          "base_uri": "https://localhost:8080/"
        },
        "id": "_pWgIqkDG8de",
        "outputId": "7959775b-6193-4276-ba21-e7a29398ef73"
      },
      "execution_count": 38,
      "outputs": [
        {
          "output_type": "execute_result",
          "data": {
            "text/plain": [
              "308"
            ]
          },
          "metadata": {},
          "execution_count": 38
        }
      ]
    },
    {
      "cell_type": "code",
      "source": [
        "for col in data[\n",
        "    [\n",
        "        \"price\",\n",
        "        \"area\",\n",
        "        \"bedrooms\",\n",
        "        \"bathrooms\",\n",
        "        \"stories\",\n",
        "        \"mainroad\",\n",
        "        \"guestroom\",\n",
        "        \"basement\",\n",
        "        \"hotwaterheating\",\n",
        "        \"airconditioning\",\n",
        "        \"parking\",\n",
        "        \"prefarea\",\n",
        "        \"furnishingstatus\",\n",
        "    ]\n",
        "]:\n",
        "    outliers_indices = detect_outliers(data, 0, [col])\n",
        "    col_median = data[col].median()\n",
        "    data[col].iloc[outliers_indices] = col_median"
      ],
      "metadata": {
        "id": "AyNJg2pPHmrt"
      },
      "execution_count": 39,
      "outputs": []
    },
    {
      "cell_type": "markdown",
      "source": [
        "Now we can see that outliers have been reduced from the dataset"
      ],
      "metadata": {
        "id": "rbq_zu1MH19I"
      }
    },
    {
      "cell_type": "code",
      "source": [
        "X = data.drop('price', axis=1)\n",
        "y = data['price']\n",
        "\n",
        "X_train, X_test, y_train, y_test = train_test_split(X, y, test_size = 0.3)\n",
        "model = LinearRegression()\n",
        "model.fit(X_train, y_train)\n",
        "y_pred = model.predict(X_test)\n",
        "print(y_pred)"
      ],
      "metadata": {
        "colab": {
          "base_uri": "https://localhost:8080/"
        },
        "id": "Lr3ENGaMH3S2",
        "outputId": "7105a414-a3d0-47da-f5d3-27f60963f1ff"
      },
      "execution_count": 40,
      "outputs": [
        {
          "output_type": "stream",
          "name": "stdout",
          "text": [
            "[4546983.34497444 6677508.07392132 3220714.6232854  4538054.43870065\n",
            " 5441644.33429375 4828438.91229226 5306432.21038788 4925822.37994944\n",
            " 5982928.35871616 6103909.13219782 3341545.17006756 3899608.9155737\n",
            " 5361222.71130648 5439922.73338909 3830944.50666337 5214884.28472329\n",
            " 5105216.77142297 7209859.61751893 3610230.86436618 3956150.15663194\n",
            " 3801436.03542714 4087714.01722455 5395814.51764583 4408404.21772733\n",
            " 3929533.15931897 4345923.43466405 3802374.55618998 4215063.45278158\n",
            " 5618405.08838839 5368566.4224747  6510382.12057712 2787428.7809671\n",
            " 4381020.277272   5559681.91000334 4173041.58262292 4248373.98213263\n",
            " 4675953.96074308 5178986.07131641 4472937.79278818 3501199.90419099\n",
            " 3681514.07916979 3059784.5938683  4687914.45960367 4703680.73187225\n",
            " 6000673.2835279  2740739.19755341 3918643.17616167 5125642.38447395\n",
            " 3147661.10859808 4729036.43648212 4017455.18077134 5176594.1539958\n",
            " 4497814.17647434 3187722.65098149 5262167.0358072  7484914.68740842\n",
            " 4772437.56614929 3080553.61152023 5601517.31328804 4687465.5369383\n",
            " 3759739.71463588 5187620.16264551 4507620.80548022 2856565.25654971\n",
            " 4999395.24261711 4837341.68512897 4307196.75917844 7407377.55096757\n",
            " 3971752.6106586  4933191.14802349 3327975.28357688 3611270.20280379\n",
            " 3511767.55313081 2497190.2494783  4596998.26910018 5109770.28859398\n",
            " 5490905.92816055 6807041.13377945 2955032.35813707 5780162.92601437\n",
            " 3915321.75093339 3540481.9925902  7623711.53806573 3244841.95124571\n",
            " 5681031.73372727 6168806.23445825 2955032.35813707 4038869.51067016\n",
            " 5817934.18450576 6198965.59834012 6381583.00798059 4466006.27992976\n",
            " 4710431.74490461 3671422.28725424 3750720.41131427 5496762.09174129\n",
            " 4137074.15646612 6036805.90355588 3366918.83064376 3744959.03834905\n",
            " 3304516.41187039 3665462.70247777 5662559.31288293 5643874.16014681\n",
            " 4174598.4944554  5107281.98663236 3527387.9631238  3414779.30971272\n",
            " 5507671.26782897 4249953.4495883  2801705.68036047 6454653.24955662\n",
            " 4231555.74212546 3937185.71701308 5342741.89074147 4193025.55695419\n",
            " 3895203.65811008 3235978.53597972 4647292.38299051 6487513.56752473\n",
            " 5961514.02881734 3627636.53433007 3030977.72904221 6424217.84953469\n",
            " 5213257.43650173 4388333.58011828 6081354.93553236 3736509.00292869\n",
            " 3131226.30024849 5830720.96497368 3082202.93553776 3328370.68950615\n",
            " 2719788.75040717 6105776.03486316 4447322.77892696 5865705.6594471\n",
            " 4157642.32235894 3498222.65250737 6666015.82698203 4417165.411181\n",
            " 6727472.37000833 5259593.59832308 5102738.29505077 2952413.55224379\n",
            " 2918369.07563114 3782575.0204138  2996933.25242956 5743090.7478997\n",
            " 4398287.43994454 4755334.87674795 5047934.20371991 4440563.8357083\n",
            " 5826262.66885788 5107975.90683733 3816845.89022426 4201888.97222017\n",
            " 4343914.31531272 4535125.87246265 4167190.42423885 4955450.99811638\n",
            " 3749713.41372813 4801225.10171945 3300714.73605014 3613359.6349367 ]\n"
          ]
        }
      ]
    },
    {
      "cell_type": "markdown",
      "source": [
        "Here we can see that removing outliers has affected in prediction accuracy of the model"
      ],
      "metadata": {
        "id": "jbD8tFwHIAPD"
      }
    },
    {
      "cell_type": "code",
      "source": [
        "print(\"mean squared error:\" , mean_squared_error(y_test,y_pred), \"\\n\")\n",
        "print(\"r2_score : \", r2_score(y_test, y_pred))"
      ],
      "metadata": {
        "colab": {
          "base_uri": "https://localhost:8080/"
        },
        "id": "moWiifYVH_In",
        "outputId": "faf2dbbc-9c3d-497b-92d5-3d6c1a56dde7"
      },
      "execution_count": 41,
      "outputs": [
        {
          "output_type": "stream",
          "name": "stdout",
          "text": [
            "mean squared error: 1058911906817.0728 \n",
            "\n",
            "r2_score :  0.5307267852341796\n"
          ]
        }
      ]
    },
    {
      "cell_type": "markdown",
      "source": [
        "**Q11. Remove outliers and keep outliers (does if have an effect of the final predictive model)?**"
      ],
      "metadata": {
        "id": "eZPfw1mLINF5"
      }
    },
    {
      "cell_type": "markdown",
      "source": [
        "A. It is observed that the error rate in prediction of prices has increased when outliers are removed thus decreasing the accuracy."
      ],
      "metadata": {
        "id": "STtNqvq4IRc4"
      }
    },
    {
      "cell_type": "markdown",
      "source": [
        "**Q6. What are the distributions of the predictor variables?**"
      ],
      "metadata": {
        "id": "aa1OM9hK9Ag_"
      }
    },
    {
      "cell_type": "code",
      "source": [
        "numeric_columns = data.select_dtypes(include='number').columns  # Selecting numeric columns\n",
        "\n",
        "# Set up subplots\n",
        "fig, axes = plt.subplots(nrows=len(numeric_columns), ncols=1, figsize=(10, 15))\n",
        "fig.subplots_adjust(hspace=0.5)\n",
        "\n",
        "# Iterate through numeric columns and create distplot\n",
        "for i, column in enumerate(numeric_columns):\n",
        "    sns.distplot(data[column], kde=False, bins=30, ax=axes[i])  # Set kde=False if you don't want the kernel density estimate\n",
        "    axes[i].set_title(f'Distribution of {column}')\n",
        "    axes[i].set_xlabel(column)\n",
        "    axes[i].set_ylabel('Frequency')\n",
        "\n",
        "plt.show()"
      ],
      "metadata": {
        "colab": {
          "base_uri": "https://localhost:8080/",
          "height": 1000
        },
        "id": "HOCRuKIh9H_x",
        "outputId": "d992c58c-3abe-45e8-95e6-f5f443df6feb"
      },
      "execution_count": 75,
      "outputs": [
        {
          "output_type": "stream",
          "name": "stderr",
          "text": [
            "<ipython-input-75-109621cc0ed1>:9: UserWarning: \n",
            "\n",
            "`distplot` is a deprecated function and will be removed in seaborn v0.14.0.\n",
            "\n",
            "Please adapt your code to use either `displot` (a figure-level function with\n",
            "similar flexibility) or `histplot` (an axes-level function for histograms).\n",
            "\n",
            "For a guide to updating your code to use the new functions, please see\n",
            "https://gist.github.com/mwaskom/de44147ed2974457ad6372750bbe5751\n",
            "\n",
            "  sns.distplot(data[column], kde=False, bins=30, ax=axes[i])  # Set kde=False if you don't want the kernel density estimate\n"
          ]
        },
        {
          "output_type": "display_data",
          "data": {
            "text/plain": [
              "<Figure size 1000x1500 with 13 Axes>"
            ],
            "image/png": "[encoded data removed]"
          },
          "metadata": {}
        }
      ]
    },
    {
      "cell_type": "markdown",
      "source": [
        " **Q12. Remove 1%, 5%, and 10% of your data randomly and impute the values back using at least 3 imputation methods. How well did the methods recover the missing values?  That is remove some data, check the % error on residuals for numeric data and check for bias and variance of the error.**"
      ],
      "metadata": {
        "id": "-mMF4qUImGXK"
      }
    },
    {
      "cell_type": "code",
      "source": [
        "df_imputation= data[['price']]\n",
        "df_imputation['1_percent'] = df_imputation[['price']]\n",
        "df_imputation['5_percent'] = df_imputation[['price']]\n",
        "df_imputation['10_percent'] = df_imputation[['price']]\n",
        "# df_imputation['sample_num'] = df_imputation[['Unnamed: 0']]\n",
        "# df_imputation['sample_num'] = df_imputation['sample_num']/1000\n",
        "df_imputation.head()"
      ],
      "metadata": {
        "colab": {
          "base_uri": "https://localhost:8080/",
          "height": 659
        },
        "id": "OP6DzWeydwrz",
        "outputId": "ef7c6564-3420-4185-a73c-c26c41667a27"
      },
      "execution_count": 44,
      "outputs": [
        {
          "output_type": "stream",
          "name": "stderr",
          "text": [
            "<ipython-input-44-f7ae06fe6ec8>:2: SettingWithCopyWarning: \n",
            "A value is trying to be set on a copy of a slice from a DataFrame.\n",
            "Try using .loc[row_indexer,col_indexer] = value instead\n",
            "\n",
            "See the caveats in the documentation: https://pandas.pydata.org/pandas-docs/stable/user_guide/indexing.html#returning-a-view-versus-a-copy\n",
            "  df_imputation['1_percent'] = df_imputation[['price']]\n",
            "<ipython-input-44-f7ae06fe6ec8>:3: SettingWithCopyWarning: \n",
            "A value is trying to be set on a copy of a slice from a DataFrame.\n",
            "Try using .loc[row_indexer,col_indexer] = value instead\n",
            "\n",
            "See the caveats in the documentation: https://pandas.pydata.org/pandas-docs/stable/user_guide/indexing.html#returning-a-view-versus-a-copy\n",
            "  df_imputation['5_percent'] = df_imputation[['price']]\n",
            "<ipython-input-44-f7ae06fe6ec8>:4: SettingWithCopyWarning: \n",
            "A value is trying to be set on a copy of a slice from a DataFrame.\n",
            "Try using .loc[row_indexer,col_indexer] = value instead\n",
            "\n",
            "See the caveats in the documentation: https://pandas.pydata.org/pandas-docs/stable/user_guide/indexing.html#returning-a-view-versus-a-copy\n",
            "  df_imputation['10_percent'] = df_imputation[['price']]\n"
          ]
        },
        {
          "output_type": "execute_result",
          "data": {
            "text/plain": [
              "     price  1_percent  5_percent  10_percent\n",
              "0  4340000    4340000    4340000     4340000\n",
              "1  4340000    4340000    4340000     4340000\n",
              "2  4340000    4340000    4340000     4340000\n",
              "3  4340000    4340000    4340000     4340000\n",
              "4  4340000    4340000    4340000     4340000"
            ],
            "text/html": [
              "\n",
              "  <div id=\"df-4063f12e-e412-4e3b-89d4-8da006df8ac7\" class=\"colab-df-container\">\n",
              "    <div>\n",
              "<style scoped>\n",
              "    .dataframe tbody tr th:only-of-type {\n",
              "        vertical-align: middle;\n",
              "    }\n",
              "\n",
              "    .dataframe tbody tr th {\n",
              "        vertical-align: top;\n",
              "    }\n",
              "\n",
              "    .dataframe thead th {\n",
              "        text-align: right;\n",
              "    }\n",
              "</style>\n",
              "<table border=\"1\" class=\"dataframe\">\n",
              "  <thead>\n",
              "    <tr style=\"text-align: right;\">\n",
              "      <th></th>\n",
              "      <th>price</th>\n",
              "      <th>1_percent</th>\n",
              "      <th>5_percent</th>\n",
              "      <th>10_percent</th>\n",
              "    </tr>\n",
              "  </thead>\n",
              "  <tbody>\n",
              "    <tr>\n",
              "      <th>0</th>\n",
              "      <td>4340000</td>\n",
              "      <td>4340000</td>\n",
              "      <td>4340000</td>\n",
              "      <td>4340000</td>\n",
              "    </tr>\n",
              "    <tr>\n",
              "      <th>1</th>\n",
              "      <td>4340000</td>\n",
              "      <td>4340000</td>\n",
              "      <td>4340000</td>\n",
              "      <td>4340000</td>\n",
              "    </tr>\n",
              "    <tr>\n",
              "      <th>2</th>\n",
              "      <td>4340000</td>\n",
              "      <td>4340000</td>\n",
              "      <td>4340000</td>\n",
              "      <td>4340000</td>\n",
              "    </tr>\n",
              "    <tr>\n",
              "      <th>3</th>\n",
              "      <td>4340000</td>\n",
              "      <td>4340000</td>\n",
              "      <td>4340000</td>\n",
              "      <td>4340000</td>\n",
              "    </tr>\n",
              "    <tr>\n",
              "      <th>4</th>\n",
              "      <td>4340000</td>\n",
              "      <td>4340000</td>\n",
              "      <td>4340000</td>\n",
              "      <td>4340000</td>\n",
              "    </tr>\n",
              "  </tbody>\n",
              "</table>\n",
              "</div>\n",
              "    <div class=\"colab-df-buttons\">\n",
              "\n",
              "  <div class=\"colab-df-container\">\n",
              "    <button class=\"colab-df-convert\" onclick=\"convertToInteractive('df-4063f12e-e412-4e3b-89d4-8da006df8ac7')\"\n",
              "            title=\"Convert this dataframe to an interactive table.\"\n",
              "            style=\"display:none;\">\n",
              "\n",
              "  <svg xmlns=\"http://www.w3.org/2000/svg\" height=\"24px\" viewBox=\"0 -960 960 960\">\n",
              "    <path d=\"M120-120v-720h720v720H120Zm60-500h600v-160H180v160Zm220 220h160v-160H400v160Zm0 220h160v-160H400v160ZM180-400h160v-160H180v160Zm440 0h160v-160H620v160ZM180-180h160v-160H180v160Zm440 0h160v-160H620v160Z\"/>\n",
              "  </svg>\n",
              "    </button>\n",
              "\n",
              "  <style>\n",
              "    .colab-df-container {\n",
              "      display:flex;\n",
              "      gap: 12px;\n",
              "    }\n",
              "\n",
              "    .colab-df-convert {\n",
              "      background-color: #E8F0FE;\n",
              "      border: none;\n",
              "      border-radius: 50%;\n",
              "      cursor: pointer;\n",
              "      display: none;\n",
              "      fill: #1967D2;\n",
              "      height: 32px;\n",
              "      padding: 0 0 0 0;\n",
              "      width: 32px;\n",
              "    }\n",
              "\n",
              "    .colab-df-convert:hover {\n",
              "      background-color: #E2EBFA;\n",
              "      box-shadow: 0px 1px 2px rgba(60, 64, 67, 0.3), 0px 1px 3px 1px rgba(60, 64, 67, 0.15);\n",
              "      fill: #174EA6;\n",
              "    }\n",
              "\n",
              "    .colab-df-buttons div {\n",
              "      margin-bottom: 4px;\n",
              "    }\n",
              "\n",
              "    [theme=dark] .colab-df-convert {\n",
              "      background-color: #3B4455;\n",
              "      fill: #D2E3FC;\n",
              "    }\n",
              "\n",
              "    [theme=dark] .colab-df-convert:hover {\n",
              "      background-color: #434B5C;\n",
              "      box-shadow: 0px 1px 3px 1px rgba(0, 0, 0, 0.15);\n",
              "      filter: drop-shadow(0px 1px 2px rgba(0, 0, 0, 0.3));\n",
              "      fill: #FFFFFF;\n",
              "    }\n",
              "  </style>\n",
              "\n",
              "    <script>\n",
              "      const buttonEl =\n",
              "        document.querySelector('#df-4063f12e-e412-4e3b-89d4-8da006df8ac7 button.colab-df-convert');\n",
              "      buttonEl.style.display =\n",
              "        google.colab.kernel.accessAllowed ? 'block' : 'none';\n",
              "\n",
              "      async function convertToInteractive(key) {\n",
              "        const element = document.querySelector('#df-4063f12e-e412-4e3b-89d4-8da006df8ac7');\n",
              "        const dataTable =\n",
              "          await google.colab.kernel.invokeFunction('convertToInteractive',\n",
              "                                                    [key], {});\n",
              "        if (!dataTable) return;\n",
              "\n",
              "        const docLinkHtml = 'Like what you see? Visit the ' +\n",
              "          '<a target=\"_blank\" href=https://colab.research.google.com/notebooks/data_table.ipynb>data table notebook</a>'\n",
              "          + ' to learn more about interactive tables.';\n",
              "        element.innerHTML = '';\n",
              "        dataTable['output_type'] = 'display_data';\n",
              "        await google.colab.output.renderOutput(dataTable, element);\n",
              "        const docLink = document.createElement('div');\n",
              "        docLink.innerHTML = docLinkHtml;\n",
              "        element.appendChild(docLink);\n",
              "      }\n",
              "    </script>\n",
              "  </div>\n",
              "\n",
              "\n",
              "<div id=\"df-0b531b33-7a66-4ef6-a1dd-8c2687dcfa14\">\n",
              "  <button class=\"colab-df-quickchart\" onclick=\"quickchart('df-0b531b33-7a66-4ef6-a1dd-8c2687dcfa14')\"\n",
              "            title=\"Suggest charts\"\n",
              "            style=\"display:none;\">\n",
              "\n",
              "<svg xmlns=\"http://www.w3.org/2000/svg\" height=\"24px\"viewBox=\"0 0 24 24\"\n",
              "     width=\"24px\">\n",
              "    <g>\n",
              "        <path d=\"M19 3H5c-1.1 0-2 .9-2 2v14c0 1.1.9 2 2 2h14c1.1 0 2-.9 2-2V5c0-1.1-.9-2-2-2zM9 17H7v-7h2v7zm4 0h-2V7h2v10zm4 0h-2v-4h2v4z\"/>\n",
              "    </g>\n",
              "</svg>\n",
              "  </button>\n",
              "\n",
              "<style>\n",
              "  .colab-df-quickchart {\n",
              "      --bg-color: #E8F0FE;\n",
              "      --fill-color: #1967D2;\n",
              "      --hover-bg-color: #E2EBFA;\n",
              "      --hover-fill-color: #174EA6;\n",
              "      --disabled-fill-color: #AAA;\n",
              "      --disabled-bg-color: #DDD;\n",
              "  }\n",
              "\n",
              "  [theme=dark] .colab-df-quickchart {\n",
              "      --bg-color: #3B4455;\n",
              "      --fill-color: #D2E3FC;\n",
              "      --hover-bg-color: #434B5C;\n",
              "      --hover-fill-color: #FFFFFF;\n",
              "      --disabled-bg-color: #3B4455;\n",
              "      --disabled-fill-color: #666;\n",
              "  }\n",
              "\n",
              "  .colab-df-quickchart {\n",
              "    background-color: var(--bg-color);\n",
              "    border: none;\n",
              "    border-radius: 50%;\n",
              "    cursor: pointer;\n",
              "    display: none;\n",
              "    fill: var(--fill-color);\n",
              "    height: 32px;\n",
              "    padding: 0;\n",
              "    width: 32px;\n",
              "  }\n",
              "\n",
              "  .colab-df-quickchart:hover {\n",
              "    background-color: var(--hover-bg-color);\n",
              "    box-shadow: 0 1px 2px rgba(60, 64, 67, 0.3), 0 1px 3px 1px rgba(60, 64, 67, 0.15);\n",
              "    fill: var(--button-hover-fill-color);\n",
              "  }\n",
              "\n",
              "  .colab-df-quickchart-complete:disabled,\n",
              "  .colab-df-quickchart-complete:disabled:hover {\n",
              "    background-color: var(--disabled-bg-color);\n",
              "    fill: var(--disabled-fill-color);\n",
              "    box-shadow: none;\n",
              "  }\n",
              "\n",
              "  .colab-df-spinner {\n",
              "    border: 2px solid var(--fill-color);\n",
              "    border-color: transparent;\n",
              "    border-bottom-color: var(--fill-color);\n",
              "    animation:\n",
              "      spin 1s steps(1) infinite;\n",
              "  }\n",
              "\n",
              "  @keyframes spin {\n",
              "    0% {\n",
              "      border-color: transparent;\n",
              "      border-bottom-color: var(--fill-color);\n",
              "      border-left-color: var(--fill-color);\n",
              "    }\n",
              "    20% {\n",
              "      border-color: transparent;\n",
              "      border-left-color: var(--fill-color);\n",
              "      border-top-color: var(--fill-color);\n",
              "    }\n",
              "    30% {\n",
              "      border-color: transparent;\n",
              "      border-left-color: var(--fill-color);\n",
              "      border-top-color: var(--fill-color);\n",
              "      border-right-color: var(--fill-color);\n",
              "    }\n",
              "    40% {\n",
              "      border-color: transparent;\n",
              "      border-right-color: var(--fill-color);\n",
              "      border-top-color: var(--fill-color);\n",
              "    }\n",
              "    60% {\n",
              "      border-color: transparent;\n",
              "      border-right-color: var(--fill-color);\n",
              "    }\n",
              "    80% {\n",
              "      border-color: transparent;\n",
              "      border-right-color: var(--fill-color);\n",
              "      border-bottom-color: var(--fill-color);\n",
              "    }\n",
              "    90% {\n",
              "      border-color: transparent;\n",
              "      border-bottom-color: var(--fill-color);\n",
              "    }\n",
              "  }\n",
              "</style>\n",
              "\n",
              "  <script>\n",
              "    async function quickchart(key) {\n",
              "      const quickchartButtonEl =\n",
              "        document.querySelector('#' + key + ' button');\n",
              "      quickchartButtonEl.disabled = true;  // To prevent multiple clicks.\n",
              "      quickchartButtonEl.classList.add('colab-df-spinner');\n",
              "      try {\n",
              "        const charts = await google.colab.kernel.invokeFunction(\n",
              "            'suggestCharts', [key], {});\n",
              "      } catch (error) {\n",
              "        console.error('Error during call to suggestCharts:', error);\n",
              "      }\n",
              "      quickchartButtonEl.classList.remove('colab-df-spinner');\n",
              "      quickchartButtonEl.classList.add('colab-df-quickchart-complete');\n",
              "    }\n",
              "    (() => {\n",
              "      let quickchartButtonEl =\n",
              "        document.querySelector('#df-0b531b33-7a66-4ef6-a1dd-8c2687dcfa14 button');\n",
              "      quickchartButtonEl.style.display =\n",
              "        google.colab.kernel.accessAllowed ? 'block' : 'none';\n",
              "    })();\n",
              "  </script>\n",
              "</div>\n",
              "\n",
              "    </div>\n",
              "  </div>\n"
            ]
          },
          "metadata": {},
          "execution_count": 44
        },
        {
          "output_type": "display_data",
          "data": {
            "text/plain": [
              "<google.colab._quickchart_helpers.SectionTitle at 0x7c561ca912d0>"
            ],
            "text/html": [
              "<h4 class=\"colab-quickchart-section-title\">Time series</h4>\n",
              "<style>\n",
              "  .colab-quickchart-section-title {\n",
              "      clear: both;\n",
              "  }\n",
              "</style>"
            ]
          },
          "metadata": {}
        },
        {
          "output_type": "display_data",
          "data": {
            "text/plain": [
              "from matplotlib import pyplot as plt\n",
              "import seaborn as sns\n",
              "def _plot_series(series, series_name, series_index=0):\n",
              "  from matplotlib import pyplot as plt\n",
              "  import seaborn as sns\n",
              "  palette = list(sns.palettes.mpl_palette('Dark2'))\n",
              "  counted = (series['price']\n",
              "                .value_counts()\n",
              "              .reset_index(name='counts')\n",
              "              .rename({'index': 'price'}, axis=1)\n",
              "              .sort_values('price', ascending=True))\n",
              "  xs = counted['price']\n",
              "  ys = counted['counts']\n",
              "  plt.plot(xs, ys, label=series_name, color=palette[series_index % len(palette)])\n",
              "\n",
              "fig, ax = plt.subplots(figsize=(10, 5.2), layout='constrained')\n",
              "df_sorted = _df_0.sort_values('price', ascending=True)\n",
              "_plot_series(df_sorted, '')\n",
              "sns.despine(fig=fig, ax=ax)\n",
              "plt.xlabel('price')\n",
              "_ = plt.ylabel('count()')"
            ],
            "text/html": [
              "      <div class=\"colab-quickchart-chart-with-code\" id=\"chart-5477b37f-d978-4f38-945f-a2e7033c244e\">\n",
              "        <img style=\"width: 180px;\" src=\"data:image/png;base64,iVBORw0KGgoAAAANSUhEUgAAA/MAAAITCAYAAABLz0yVAAAAOXRFWHRTb2Z0d2FyZQBNYXRwbG90\n",
              "bGliIHZlcnNpb24zLjcuMSwgaHR0cHM6Ly9tYXRwbG90bGliLm9yZy/bCgiHAAAACXBIWXMAAA9h\n",
              "AAAPYQGoP6dpAAAgwElEQVR4nO3de5DV9X3/8dcKeAzKzWJExuKWBEwt4JJFhgSiphdjM4pR6tCZ\n",
              "xkuQqKipShMyFNFoW0nShInaab11SEmUMiOUOnXaTGzTQkRnoUCItXaCuloNi7bhYhYE2d3fH/m5\n",
              "dcMu2Q17dvnI4zHznWG/53POeZ8/PuM8/Z5LTVtbW1sAAACAYhzX3wMAAAAAPSPmAQAAoDBiHgAA\n",
              "AAoj5gEAAKAwYh4AAAAKI+YBAACgMGIeAAAACiPmAQAAoDDviZi/5557+nsEAAAA6DPviZh/+eWX\n",
              "+3sEAAAA6DPviZgHAACAY4mYBwAAgMKIeQAAACiMmAcAAIDCiHkAAAAojJgHAACAwoh5AAAAKIyY\n",
              "BwAAgMKIeQAAACiMmAcAAIDCiHkAAAAojJgHAACAwoh5AAAAKIyYBwAAgMKIeQAAACiMmAcAAIDC\n",
              "iHkAAAAojJgHAACAwoh5AAAAKIyYBwAAgMKIeQAAACiMmAcAAIDCiHkAAAAojJgHAACAwoh5AAAA\n",
              "KIyYBwAAgMKIeQAAACiMmAcAAIDCiHkAAAAojJgHAACAwoh5AAAAKIyYBwAAgMKIeQAAACiMmAcA\n",
              "AIDCiHkAAAAojJgHAACAwoh5AAAAKIyYBwAAgMKIeQAAACiMmAcAAIDCiHkAAAAojJgHAACAwoh5\n",
              "AAAAKIyYBwAAgMKIeQAAACiMmAcAAIDCiHkAAAAojJgHAACAwoh5AAAAKIyYBwAAgMKIeQAAACiM\n",
              "mAcAAIDCiHkAAAAojJgHAACAwoh5AAAAKIyYBwAAgMKIeQAAACiMmAcAAIDCiHkAAAAojJgHAACA\n",
              "wlQ15mtra3PmmWemrq4udXV1Wbly5SFr/uVf/iVTp07NWWedld/4jd/IggUL0traWs2xAAAAoGgD\n",
              "q/0EK1euTF1dXZe3jxgxIn/7t3+bsWPH5q233spv//ZvZ/ny5bn66qurPRoAAAAUqeox/4tMnjy5\n",
              "/d8nnHBC6urq0tjY2OX6/fv3Z//+/R3OtbS0VGs8AAAAOOpU/TPzV155ZSZOnJhrrrkmb7zxxmHX\n",
              "NjU15bHHHstFF13U5ZolS5Zk2LBhHY6GhobeHhsAAACOWlWN+bVr12br1q3ZtGlTRo4cmauuuqrL\n",
              "tXv27MnFF1+cBQsWZMqUKV2uW7hwYXbv3t3hmDp1ajXGBwAAgKNSVd9mP2bMmCTJoEGDcsstt2T8\n",
              "+PGdrnvzzTdz4YUX5pJLLsn8+fMP+5iVSiWVSqXDuQEDBvTOwAAAAFCAql2Zb25uzq5du9r/XrFi\n",
              "RYfPx7/jpz/9aS688MJceOGFue2226o1DgAAALxnVO3K/I4dOzJr1qy0tLSkra0tY8eOzfLly5Mk\n",
              "c+fOzcyZMzNz5szcc889aWhoSHNzc1avXp0kufzyy7No0aJqjQYAAABFq2lra2vr7yGO1Pz587N0\n",
              "6dL+HgMAAAD6RNW/zR4AAADoXWIeAAAACiPmAQAAoDBiHgAAAAoj5gEAAKAwYh4AAAAKI+YBAACg\n",
              "MGIeAAAACiPmAQAAoDBiHgAAAAoj5gEAAKAwYh4AAAAKI+YBAACgMGIeAAAACiPmAQAAoDBiHgAA\n",
              "AAoj5gEAAKAwYh4AAAAKI+YBAACgMGIeAAAACiPmAQAAoDBiHgAAAAoj5gEAAKAwYh4AAAAKI+YB\n",
              "AACgMGIeAAAACiPmAQAAoDBiHgAAAAoj5gEAAKAwYh4AAAAKI+YBAACgMGIeAAAACiPmAQAAoDBi\n",
              "HgAAAAoj5gEAAKAwYh4AAAAKI+YBAACgMGIeAAAACiPmAQAAoDBiHgAAAAoj5gEAAKAwYh4AAAAK\n",
              "I+YBAACgMGIeAAAACiPmAQAAoDBiHgAAAAoj5gEAAKAwYh4AAAAKI+YBAACgMGIeAAAACiPmAQAA\n",
              "oDBiHgAAAAoj5gEAAKAwYh4AAAAKI+YBAACgMGIeAAAACiPmAQAAoDBiHgAAAAoj5gEAAKAwYh4A\n",
              "AAAKI+YBAACgMGIeAAAACiPmAQAAoDBiHgAAAAoj5gEAAKAwYh4AAAAKI+YBAACgMGIeAAAACiPm\n",
              "AQAAoDBiHgAAAAoj5gEAAKAwYh4AAAAKI+YBAACgMGIeAAAACiPmAQAAoDBiHgAAAAoj5gEAAKAw\n",
              "Yh4AAAAKU9WYr62tzZlnnpm6urrU1dVl5cqVh6xpbGzM+eefn2HDhqWurq6a4wAAAMB7wsBqP8HK\n",
              "lSsPG+lDhw7Nn/7pn2b37t1ZtGhRtccBAACA4vX72+xPPvnkzJgxIyeeeGK31u/fvz979uzpcLS0\n",
              "tFR5SgAAADh6VD3mr7zyykycODHXXHNN3njjjSN+vCVLlmTYsGEdjoaGhl6YFAAAAMpQ1Zhfu3Zt\n",
              "tm7dmk2bNmXkyJG56qqrjvgxFy5cmN27d3c4pk6d2gvTAgAAQBmq+pn5MWPGJEkGDRqUW265JePH\n",
              "jz/ix6xUKqlUKh3ODRgw4IgfFwAAAEpRtSvzzc3N2bVrV/vfK1asyOTJk6v1dAAAAHDMqNqV+R07\n",
              "dmTWrFlpaWlJW1tbxo4dm+XLlydJ5s6dm5kzZ2bmzJnZu3dvxo8fn/3792f37t05/fTTc8UVV2TJ\n",
              "kiXVGg0AAACKVrWYHzt2bDZv3tzpbQ8//HD7vwcPHpxXX321WmMAAADAe06//zQdAAAA0DNiHgAA\n",
              "AAoj5gEAAKAwYh4AAAAKI+YBAACgMGIeAAAACiPmAQAAoDBiHgAAAAoj5gEAAKAwYh4AAAAKI+YB\n",
              "AACgMGIeAAAACiPmAQAAoDBiHgAAAAoj5gEAAKAwYh4AAAAKI+YBAACgMGIeAAAACiPmAQAAoDBi\n",
              "HgAAAAoj5gEAAKAwYh4AAAAKI+YBAACgMGIeAAAACiPmAQAAoDBiHgAAAAoj5gEAAKAwYh4AAAAK\n",
              "I+YBAACgMGIeAAAACiPmAQAAoDBiHgAAAAoj5gEAAKAwYh4AAAAKI+YBAACgMGIeAAAACiPmAQAA\n",
              "oDBiHgAAAAoj5gEAAKAwYh4AAAAKI+YBAACgMGIeAAAACiPmAQAAoDBiHgAAAAoj5gEAAKAwYh4A\n",
              "AAAKI+YBAACgMGIeAAAACiPmAQAAoDBiHgAAAAoj5gEAAKAwYh4AAAAKI+YBAACgMGIeAAAACiPm\n",
              "AQAAoDBiHgAAAAoj5gEAAKAwYh4AAAAKI+YBAACgMGIeAAAACiPmAQAAoDBiHgAAAAoj5gEAAKAw\n",
              "Yh4AAAAKM/CXudNzzz2XV199Ne973/syceLEDB8+vJfHAgAAALrS7Zh/880387WvfS0PPfRQBg8e\n",
              "nFNPPTVvvfVWXnjhhUydOjVf/OIX81u/9VvVnBUAAABID2L+4x//eK688sps3rw5p556avv51tbW\n",
              "rFu3Lvfff3+2bduW6667riqDAgAAAD/T7Zh/6qmnUqlUDjl/3HHH5bzzzst5552X/fv39+pwAAAA\n",
              "wKG6/QV4nYX8L7MGAAAAODLdjvmLLroo69ev7/S2Xbt25etf/3oeeOCBXhsMAAAA6Fy332Z/9913\n",
              "Z+HChXnuuedyzjnntH8B3vPPP5/XXnstN954Y+bMmVPNWQEAAID0IOYnTZqUJ554Iv/93/+df/u3\n",
              "f8urr76awYMH5w/+4A8yY8aMDBz4S/3KHQAAANBDPS7wnTt35tOf/nSHc1u3bs2kSZN6bSgAAACg\n",
              "a93+zPw7rr766m6dAwAAAKqj21fmX3/99TQ1NWXfvn354Q9/mLa2tiTJ7t2709zcXLUBAQAAgI66\n",
              "HfMrVqzIN77xjfz4xz/OzJkz288PGzYsCxYsqMpwAAAAwKG6HfM333xzbr755vzJn/xJFi9eXM2Z\n",
              "AAAAgMPo8RfgLV68OK2trWlqasrBgwfbz48ZM6ZXBwMAAAA61+MvwPubv/mbDB8+PBMnTkx9fX3q\n",
              "6+szZcqUTtfW1tbmzDPPTF1dXerq6rJy5cpO1/31X/91xo0blw984AP57Gc/m7fffrunYwEAAMAx\n",
              "o8dX5u+6665s2LAhZ555ZrfWr1y5MnV1dV3e/tJLL2Xx4sXZtGlTTj311FxyySV58MEHc+ONN/Z0\n",
              "NAAAADgm9PjK/MiRI7sd8t3x2GOPZebMmRk1alRqampy/fXXZ8WKFV2u379/f/bs2dPhaGlp6bV5\n",
              "AAAA4GjX45j/1Kc+lW984xt5/fXXOwR1V6688spMnDgx11xzTd54441Dbn/llVdyxhlntP9dW1ub\n",
              "V155pcvHW7JkSYYNG9bhaGho6OnLAAAAgGL1OOYXLVqU+fPnZ9SoURkxYkSGDx+eESNGdLp27dq1\n",
              "2bp1azZt2pSRI0fmqquuOuKBFy5cmN27d3c4pk6desSPCwAAAKXo8WfmW1tbu732nW+4HzRoUG65\n",
              "5ZaMHz++0zUvvPBC+9+NjY2H/Wb8SqWSSqXS4dyAAQO6PRMAAACUrsdX5rurubk5u3btav97xYoV\n",
              "mTx58iHrZs2alccffzxNTU1pa2vL/fffn9///d+v1lgAAABQvB5fmT/uuONSU1NzyPmf/xK6HTt2\n",
              "ZNasWWlpaUlbW1vGjh2b5cuXJ0nmzp2bmTNnZubMmRk7dmzuvPPOTJ8+PUly/vnn57rrrvtlXgsA\n",
              "AAAcE2ra2traenKH5ubm9n/v27cvy5cvT0tLS77whS/0+nDdNX/+/CxdurTfnh8AAAD6Uo/fZn/i\n",
              "iSe2HyNHjsz8+fPz2GOPVWM2AAAAoBNH/Jn5559/Pv/zP//TG7MAAAAA3dDjz8yPGDGi/TPzBw8e\n",
              "TJLcd999vTsVAAAA0KUex/yWLVv+784DB2bUqFF+Gg4AAAD6UI9j/owzzsjevXvbo37EiBEZPHhw\n",
              "b88FAAAAdKHHMb9+/frMmjUro0aNSvKzn6BbtWpVPvKRj/T6cAAAAMChehzz73x7/Tu/C79+/frc\n",
              "euuteeaZZ3p9OAAAAOBQPf42+3379rWHfJJ89KMfzVtvvdWrQwEAAABd63HMn3TSSXnyySfb//7n\n",
              "f/7nnHjiib06FAAAANC1Hr/N/t57781ll13W/g32ra2tWb16da8PBgAAAHSuxzH/4x//OBs3bsyO\n",
              "HTuSJKeeemoaGhp6fTAAAACgcz1+m/3ixYtzyimnZMKECZkwYUJGjhyZxYsXV2M2AAAAoBM9jvmf\n",
              "V1NTk5aWlt6YBQAAAOiGHsf8kCFDsn79+va/n3rqqQwZMqRXhwIAAAC61uPPzH/1q1/NpZdemg99\n",
              "6ENJkh/96Ef5u7/7u14fDAAAAOhcj2P+Ix/5SP7zP/8zTz/9dJKf/c788OHDe3suAAAAoAs9jvkk\n",
              "GTFiRD75yU/29iwAAABANxzxF+ABAAAAfUvMAwAAQGHEPAAAABRGzAMAAEBhxDwAAAAURswDAABA\n",
              "YcQ8AAAAFEbMAwAAQGHEPAAAABRGzAMAAEBhxDwAAAAURswDAABAYcQ8AAAAFEbMAwAAQGHEPAAA\n",
              "ABRGzAMAAEBhxDwAAAAURswDAABAYcQ8AAAAFEbMAwAAQGHEPAAAABRGzAMAAEBhxDwAAAAURswD\n",
              "AABAYcQ8AAAAFEbMAwAAQGHEPAAAABRGzAMAAEBhxDwAAAAURswDAABAYcQ8AAAAFEbMAwAAQGHE\n",
              "PAAAABRGzAMAAEBhxDwAAAAURswDAABAYcQ8AAAAFEbMAwAAQGHEPAAAABRGzAMAAEBhxDwAAAAU\n",
              "RswDAABAYcQ8AAAAFEbMAwAAQGHEPAAAABRGzAMAAEBhxDwAAAAURswDAABAYcQ8AAAAFEbMAwAA\n",
              "QGHEPAAAABRGzAMAAEBhxDwAAAAURswDAABAYcQ8AAAAFEbMAwAAQGHEPAAAABRGzAMAAEBhxDwA\n",
              "AAAURswDAABAYcQ8AAAAFKZPYn7ZsmWpqanJmjVrOr39z//8zzNhwoScddZZufTSS7Nr166+GAsA\n",
              "AACKVPWYb2xszEMPPZRp06Z1evt3v/vdLFu2LE8//XSee+651NfXZ9GiRdUeCwAAAIpV1ZhvbW3N\n",
              "3Llzc99996VSqXS65gc/+EFmzJiRIUOGJEk++clP5lvf+laXj7l///7s2bOnw9HS0lKV+QEAAOBo\n",
              "VNWYX7p0aaZPn576+vou19TX1+fJJ59MU1NT2tra8sgjj+TNN9/MT37yk07XL1myJMOGDetwNDQ0\n",
              "VOslAAAAwFGnajH/7LPPZtWqVbntttsOu+7jH/94Pv/5z+eiiy7KtGnTcsoppyRJBg4c2On6hQsX\n",
              "Zvfu3R2OqVOn9vr8AAAAcLTqvJh7wbp169LY2Jhx48YlSZqamnLttddm+/btmTdvXoe1N9xwQ264\n",
              "4YYkyTPPPJPTTz89Q4cO7fRxK5XKIW/ZHzBgQBVeAQAAABydqnZlft68edm+fXsaGxvT2NiYadOm\n",
              "5cEHHzwk5JNk+/btSZK9e/fm9ttvz4IFC6o1FgAAABSvalfmD+f222/P6NGjc/311ydJLrjggrS2\n",
              "tubAgQO54oorctNNN/XHWAAAAFCEmra2trb+HuJIzZ8/P0uXLu3vMQAAAKBPVP135gEAAIDeJeYB\n",
              "AACgMGIeAAAACiPmAQAAoDBiHgAAAAoj5gEAAKAwYh4AAAAKI+YBAACgMGIeAAAACiPmAQAAoDBi\n",
              "HgAAAAoj5gEAAKAwYh4AAAAKI+YBAACgMGIeAAAACiPmAQAAoDBiHgAAAAoj5gEAAKAwYh4AAAAK\n",
              "I+YBAACgMGIeAAAACiPmAQAAoDBiHgAAAAoj5gEAAKAwYh4AAAAKI+YBAACgMGIeAAAACiPmAQAA\n",
              "oDBiHgAAAAoj5gEAAKAwYh4AAAAKI+YBAACgMGIeAAAACiPmAQAAoDBiHgAAAAoj5gEAAKAwYh4A\n",
              "AAAKI+YBAACgMGIeAAAACiPmAQAAoDBiHgAAAAoj5gEAAKAwYh4AAAAKI+YBAACgMGIeAAAACiPm\n",
              "AQAAoDBiHgAAAAoj5gEAAKAwYh4AAAAKI+YBAACgMGIeAAAACiPmAQAAoDBiHgAAAAoj5gEAAKAw\n",
              "Yh4AAAAKI+YBAACgMGIeAAAACiPmAQAAoDBiHgAAAAoj5gEAAKAwYh4AAAAKI+YBAACgMGIeAAAA\n",
              "CiPmAQAAoDBiHgAAAAoj5gEAAKAwYh4AAAAKI+YBAACgMGIeAAAACiPmAQAAoDBiHgAAAAoj5gEA\n",
              "AKAwYh4AAAAKI+YBAACgMGIeAAAACiPmAQAAoDBiHgAAAAoj5gEAAKAwfRLzy5YtS01NTdasWdPp\n",
              "7V/5yldy1llnpa6uLtOmTUtDQ0NfjAUAAABFGljtJ2hsbMxDDz2UadOmdXr7li1b8pd/+Zf5j//4\n",
              "j5x00kn59re/nZtuuknQAwAAQBeqemW+tbU1c+fOzX333ZdKpdLpmpqamrz99ttpbm5OkuzatSun\n",
              "n356l4+5f//+7Nmzp8PR0tJSlfkBAADgaFTVK/NLly7N9OnTU19f3+Was88+O7feemt+7dd+LSef\n",
              "fHIqlUrWrl3b5folS5bkzjvv7HCuq6v+AAAA8F5UtSvzzz77bFatWpXbbrvtsOteeumlrF69Otu2\n",
              "bcurr76aW2+9NbNnz+5y/cKFC7N79+4Ox9SpU3t7fAAAADhqVe3K/Lp169LY2Jhx48YlSZqamnLt\n",
              "tddm+/btmTdvXvu6VatWZeLEiRk9enSS5DOf+Uw+97nP5cCBAzn++OMPedxKpXLIW/YHDBhQrZcB\n",
              "AAAAR52qXZmfN29etm/fnsbGxjQ2NmbatGl58MEHO4R8kowdOzZPPfVUfvrTnyZJ/uEf/iHjx4/v\n",
              "NOQBAACAPvg2+87cfvvtGT16dK6//vpceuml2bBhQ6ZMmZJKpZITTzwxjz76aH+MBQAAAEWoaWtr\n",
              "a+vvIY7U/Pnzs3Tp0v4eAwAAAPpEVX+aDgAAAOh9Yh4AAAAKI+YBAACgMGIeAAAACiPmAQAAoDBi\n",
              "HgAAAAoj5gEAAKAwYh4AAAAKI+YBAACgMGIeAAAACiPmAQAAoDBiHgAAAAoj5gEAAKAwYh4AAAAK\n",
              "I+YBAACgMGIeAAAACiPmAQAAoDBiHgAAAAoj5gEAAKAwYh4AAAAKI+YBAACgMGIeAAAACiPmAQAA\n",
              "oDBiHgAAAAoj5gEAAKAwYh4AAAAKI+YBAACgMGIeAAAACiPmAQAAoDBiHgAAAAoj5gEAAKAwYh4A\n",
              "AAAKI+YBAACgMGIeAAAACiPmAQAAoDBiHgAAAAoj5gEAAKAwYh4AAAAKI+YBAACgMGIeAAAACiPm\n",
              "AQAAoDBiHgAAAAoj5gEAAKAwYh4AAAAKI+YBAACgMGIeAAAACiPmAQAAoDBiHgAAAAoj5gEAAKAw\n",
              "Yh4AAAAKI+YBAACgMGIeAAAACiPmAQAAoDBiHgAAAAoj5gEAAKAwYh4AAAAKI+YBAACgMGIeAAAA\n",
              "CiPmAQAAoDA1bW1tbf09xJG67LLLUltb299jwFGhpaUlDQ0NmTp1agYMGNDf48BRxf6Aztkb0DX7\n",
              "g/5wxhln5Oabbz7smvdEzAP/Z8+ePRk2bFh2796doUOH9vc4cFSxP6Bz9gZ0zf7gaOVt9gAAAFAY\n",
              "MQ8AAACFEfMAAABQGDEP7zGVSiV33HFHKpVKf48CRx37Azpnb0DX7A+OVr4ADwAAAArjyjwAAAAU\n",
              "RswDAABAYcQ8AAAAFEbMQ+GWLVuWmpqarFmz5pDbfvjDH+bcc8/Nhz70oUyYMCFz5szJvn37+n5I\n",
              "6AeH2xsvvfRS6uvrU1dXlwkTJuTyyy/Pzp07+35I6CeH2x/vdvXVV6empia7du3qk7mgvx1ubzQ2\n",
              "NmbAgAGpq6trP1544YW+HxL+PzEPBWtsbMxDDz2UadOmdXr7CSeckL/4i7/I888/nx/84Adpbm7O\n",
              "V77ylT6eEvreL9obo0ePzve///1s2bIlzz77bEaPHp0vfelLfTsk9JNftD/esXr16gwaNKiPpoL+\n",
              "1529MWTIkGzZsqX9+MAHPtCHE0JHYh4K1dramrlz5+a+++7r8qdSxo0bl0mTJiVJBgwYkHPOOSeN\n",
              "jY19OCX0ve7sjUqlkve9731JkpaWljQ3N6empqYvx4R+0Z39kSQ7duzI3XffnaVLl/bhdNB/urs3\n",
              "4Ggi5qFQS5cuzfTp01NfX9+t9c3NzXn44YdzySWXVHky6F/d3RsHDhxIXV1dRo4cmR/96Ee58847\n",
              "+2hC6D/d3R+f/exn89WvfjVDhgzpo8mgf3V3bzQ3N+ecc87Jhz/84dx1111paWnpownhUAP7ewCg\n",
              "55599tmsWrUqa9eu7db6AwcOZPbs2bngggty6aWXVnk66D892RvHH398tmzZkgMHDuRzn/tcHnjg\n",
              "gSxYsKAPpoT+0d398fDDD2fMmDH5zd/8zT6aDPpXd/fGaaedltdeey3vf//785Of/CSzZ8/O17/+\n",
              "df/toN+4Mg8FWrduXRobGzNu3LjU1tbmmWeeybXXXpu/+qu/OmTt22+/ndmzZ+e0007LPffc0w/T\n",
              "Qt/pyd54x/HHH5/PfOYz+da3vtWHk0Lf6+7++N73vpe///u/T21tbWpra5MkkyZNyubNm/thaqi+\n",
              "7u6NSqWS97///UmSk08+OXPmzMm6dev6Y2RIktS0tbW19fcQwJE5//zzc8stt+RTn/pUh/MHDx7M\n",
              "7NmzM3z48Dz88MM+E8wxp6u98fLLL+eUU07J4MGD09rami984QtpamrKI4880j+DQj/oan/8vJqa\n",
              "muzcuTPDhw/vk7mgv3W1N15//fWMGDEigwYNyv79+/PpT386v/7rv5677rqrfwblmOfKPLzH3H77\n",
              "7bn//vuTJCtXrszq1auzcePGTJ48OXV1dbnxxhv7eULoH+/eG1u3bs20adMyadKkTJo0KW+88Ubu\n",
              "vffefp4Q+s+79wfwf969N77//e9n8uTJOfvss/PhD384o0aNyqJFi/p5Qo5lrswDAABAYVyZBwAA\n",
              "gMKIeQAAACiMmAcAAIDCiHkA4LAef/zx3Hrrrf09BgDwLr4ADwDo0sGDBzNw4MD+HgMA+DmuzAPA\n",
              "Maimpia33XZbJk+enPHjx+eRRx7pcNsdd9yRc845JwsXLsw3v/nNDr+3vGzZstTV1eXss8/OlClT\n",
              "0tjYmCT5zne+kxkzZqS+vj5Tp07N9773vT5+VQBw7PC/2gHgGFVTU5PNmzfnxRdfzJQpUzJ9+vTU\n",
              "1tYmSQYMGJANGzYkSb75zW+23+df//Vfc9ddd2X9+vU57bTTsnfv3iTJiy++mC996Uv5zne+k6FD\n",
              "h2bbtm352Mc+lsbGxlQqlb5+aQDQp/7wD/8wjz/+eF5++eVs3rw5dXV1v/A+O3fuzE033ZQNGzZk\n",
              "0KBBufjii/PlL3+5288p5gHgGDV37twkydixY3Puuedm7dq17TE/Z86cTu/zxBNP5Iorrshpp52W\n",
              "JBk8eHCS5J/+6Z+ybdu2nHvuue1rjzvuuLzyyisZN25cFV8FAPS/3/u938uCBQsyY8aMbt9nzpw5\n",
              "mT59evu745qamnr0nGIeAEjysyv17zjppJN6dN+2trb8zu/8Th599NHeHgsAjnrv/p/Z77Zhw4Z8\n",
              "8YtfzJ49e9LS0pI//uM/zuWXX55t27Zl48aNWbVqVfvaUaNG9eg5fWYeAI5Ry5YtS5I0NjZm3bp1\n",
              "+djHPvYL73PxxRfn29/+drZv354k2bt3b/bu3ZtPfOITefLJJ7N169b2tQ0NDdUZHAAKsGvXrlx7\n",
              "7bV55JFHsnHjxnz3u9/NH/3RH+W1117Lc889l9NPPz3z5s1LfX19LrjggmzevLlHj+/KPAAco1pa\n",
              "WjJ58uQ0Nzfn3nvvbX+L/eGce+65ueOOO/KJT3wiNTU1Of744/PYY4/lgx/8YB599NFcd9112bt3\n",
              "bw4cOJDJkye7Ug/AMWv9+vV58cUX87u/+7sdzv/Xf/1XDh48mIaGhtx999154IEH8o//+I+56KKL\n",
              "0tjYmEGDBnXr8f00HQAcg2pqarJz584MHz68v0cBgPeM2trarFmzJnV1dXniiSfyZ3/2Z1m/fv0h\n",
              "6zZu3JjLLrssr7zySvu5U045JU8//XQ++MEPduu5vM0eAAAAetlHP/rRvPTSS3nyySfbz23ZsiUH\n",
              "DhxIfX19hg4d2v7xtIaGhrS1teVXf/VXu/34rswDAADAEbjuuuvyxBNPpKmpKb/yK7+SIUOGZNu2\n",
              "bdm0aVM+//nP53//93/z9ttvZ8yYMVmzZk1OOOGE/Pu//3tuuOGG7Nu3L5VKJV/72tdy3nnndfs5\n",
              "xTwAAAAUxtvsAQAAoDBiHgAAAAoj5gEAAKAwYh4AAAAKI+YBAACgMGIeAAAACiPmAQAAoDBiHgAA\n",
              "AAoj5gEAAKAwYh4AAAAK8/8A4W7pws14+j8AAAAASUVORK5CYII=\n",
              "\">\n",
              "      </div>\n",
              "      <script type=\"text/javascript\">\n",
              "        (() => {\n",
              "          const chartElement = document.getElementById(\"chart-5477b37f-d978-4f38-945f-a2e7033c244e\");\n",
              "          async function getCodeForChartHandler(event) {\n",
              "            const chartCodeResponse =  await google.colab.kernel.invokeFunction(\n",
              "                'getCodeForChart', [\"chart-5477b37f-d978-4f38-945f-a2e7033c244e\"], {});\n",
              "            const responseJson = chartCodeResponse.data['application/json'];\n",
              "            await google.colab.notebook.addCell(responseJson.code, 'code');\n",
              "          }\n",
              "          chartElement.onclick = getCodeForChartHandler;\n",
              "        })();\n",
              "      </script>\n",
              "      <style>\n",
              "        .colab-quickchart-chart-with-code  {\n",
              "            display: block;\n",
              "            float: left;\n",
              "            border: 1px solid transparent;\n",
              "        }\n",
              "\n",
              "        .colab-quickchart-chart-with-code:hover {\n",
              "            cursor: pointer;\n",
              "            border: 1px solid #aaa;\n",
              "        }\n",
              "      </style>"
            ]
          },
          "metadata": {}
        },
        {
          "output_type": "display_data",
          "data": {
            "text/plain": [
              "from matplotlib import pyplot as plt\n",
              "import seaborn as sns\n",
              "def _plot_series(series, series_name, series_index=0):\n",
              "  from matplotlib import pyplot as plt\n",
              "  import seaborn as sns\n",
              "  palette = list(sns.palettes.mpl_palette('Dark2'))\n",
              "  counted = (series['1_percent']\n",
              "                .value_counts()\n",
              "              .reset_index(name='counts')\n",
              "              .rename({'index': '1_percent'}, axis=1)\n",
              "              .sort_values('1_percent', ascending=True))\n",
              "  xs = counted['1_percent']\n",
              "  ys = counted['counts']\n",
              "  plt.plot(xs, ys, label=series_name, color=palette[series_index % len(palette)])\n",
              "\n",
              "fig, ax = plt.subplots(figsize=(10, 5.2), layout='constrained')\n",
              "df_sorted = _df_1.sort_values('1_percent', ascending=True)\n",
              "_plot_series(df_sorted, '')\n",
              "sns.despine(fig=fig, ax=ax)\n",
              "plt.xlabel('1_percent')\n",
              "_ = plt.ylabel('count()')"
            ],
            "text/html": [
              "      <div class=\"colab-quickchart-chart-with-code\" id=\"chart-496080b7-3d21-488a-b478-fa8652311d7a\">\n",
              "        <img style=\"width: 180px;\" src=\"data:image/png;base64,iVBORw0KGgoAAAANSUhEUgAAA/MAAAITCAYAAABLz0yVAAAAOXRFWHRTb2Z0d2FyZQBNYXRwbG90\n",
              "bGliIHZlcnNpb24zLjcuMSwgaHR0cHM6Ly9tYXRwbG90bGliLm9yZy/bCgiHAAAACXBIWXMAAA9h\n",
              "AAAPYQGoP6dpAAAh9UlEQVR4nO3dfZCV5X3/8c9mxTUoAgYFKaOUCCoCLqI7KNaoTZQwFh+IQ2Y0\n",
              "PiCiaFKVJFiKmmg7YTQJE2OnRaVDglXKVCjtFKdNbDsFBQtUCLHWNFjXVMOqqbCYFQF39/dHftJQ\n",
              "ds2u7Nnl0tdr5p5hz7n2Pt/DzDXMm/s8VLW2trYGAAAAKMbHenoAAAAAoHPEPAAAABRGzAMAAEBh\n",
              "xDwAAAAURswDAABAYcQ8AAAAFEbMAwAAQGHEPAAAABTmQxHz999/f0+PAAAAAN3mQxHzL7/8ck+P\n",
              "AAAAAN3mQxHzAAAA8FEi5gEAAKAwYh4AAAAKI+YBAACgMGIeAAAACiPmAQAAoDBiHgAAAAoj5gEA\n",
              "AKAwYh4AAAAKI+YBAACgMGIeAAAACiPmAQAAoDBiHgAAAAoj5gEAAKAwYh4AAAAKI+YBAACgMGIe\n",
              "AAAACiPmAQAAoDBiHgAAAAoj5gEAAKAwYh4AAAAKI+YBAACgMGIeAAAACiPmAQAAoDBiHgAAAAoj\n",
              "5gEAAKAwYh4AAAAKI+YBAACgMGIeAAAACiPmAQAAoDBiHgAAAAoj5gEAAKAwYh4AAAAKI+YBAACg\n",
              "MGIeAAAACiPmAQAAoDBiHgAAAAoj5gEAAKAwYh4AAAAKI+YBAACgMGIeAAAACiPmAQAAoDBiHgAA\n",
              "AAoj5gEAAKAwYh4AAAAKI+YBAACgMGIeAAAACiPmAQAAoDBiHgAAAAoj5gEAAKAwYh4AAAAKI+YB\n",
              "AACgMGIeAAAACiPmAQAAoDBiHgAAAAoj5gEAAKAwYh4AAAAKI+YBAACgMGIeAAAACiPmAQAAoDAV\n",
              "jfmhQ4fmxBNPTG1tbWpra7N06dL91vzTP/1T6urqMnLkyJxyyimZPXt2WlpaKjkWAAAAFO2QSj/A\n",
              "0qVLU1tb2+79/fv3z1/+5V9m2LBheeedd/LpT386ixcvzjXXXFPp0QAAAKBIFY/532Ts2LF7/3zY\n",
              "YYeltrY29fX17a7ftWtXdu3atc9tzc3NlRoPAAAADjoVf8/8VVddldGjR+e6667LG2+88b5rGxoa\n",
              "8vjjj+eiiy5qd828efPSt2/ffY5169Z19dgAAABw0KpozK9atSqbN2/Os88+mwEDBuTqq69ud+2O\n",
              "HTvye7/3e5k9e3ZOP/30dtfNmTMnjY2N+xx1dXWVGB8AAAAOShV9mf1xxx2XJOnVq1duvfXWjBgx\n",
              "os11b731ViZOnJiLL744s2bNet9z1tTUpKamZp/bqquru2ZgAAAAKEDFrsw3NTVl+/bte39esmTJ\n",
              "Pu+Pf88vf/nLTJw4MRMnTswdd9xRqXEAAADgQ6NiV+Zfe+21TJkyJc3NzWltbc2wYcOyePHiJMn0\n",
              "6dMzefLkTJ48Offff3/WrVuXpqamLF++PEly+eWXZ+7cuZUaDQAAAIpW1dra2trTQxyoWbNmZf78\n",
              "+T09BgAAAHSLin+aPQAAANC1xDwAAAAURswDAABAYcQ8AAAAFEbMAwAAQGHEPAAAABRGzAMAAEBh\n",
              "xDwAAAAURswDAABAYcQ8AAAAFEbMAwAAQGHEPAAAABRGzAMAAEBhxDwAAAAURswDAABAYcQ8AAAA\n",
              "FEbMAwAAQGHEPAAAABRGzAMAAEBhxDwAAAAURswDAABAYcQ8AAAAFEbMAwAAQGHEPAAAABRGzAMA\n",
              "AEBhxDwAAAAURswDAABAYcQ8AAAAFEbMAwAAQGHEPAAAABRGzAMAAEBhxDwAAAAURswDAABAYcQ8\n",
              "AAAAFEbMAwAAQGHEPAAAABRGzAMAAEBhxDwAAAAURswDAABAYcQ8AAAAFEbMAwAAQGHEPAAAABRG\n",
              "zAMAAEBhxDwAAAAURswDAABAYcQ8AAAAFEbMAwAAQGHEPAAAABRGzAMAAEBhxDwAAAAURswDAABA\n",
              "YcQ8AAAAFEbMAwAAQGHEPAAAABRGzAMAAEBhxDwAAAAURswDAABAYcQ8AAAAFEbMAwAAQGHEPAAA\n",
              "ABRGzAMAAEBhxDwAAAAURswDAABAYcQ8AAAAFEbMAwAAQGHEPAAAABRGzAMAAEBhxDwAAAAURswD\n",
              "AABAYcQ8AAAAFEbMAwAAQGHEPAAAABRGzAMAAEBhxDwAAAAURswDAABAYcQ8AAAAFEbMAwAAQGHE\n",
              "PAAAABSmojE/dOjQnHjiiamtrU1tbW2WLl2635r6+vqce+656du3b2prays5DgAAAHwoHFLpB1i6\n",
              "dOn7RvqRRx6ZP/7jP05jY2Pmzp1b6XEAAACgeD3+MvujjjoqZ599dg4//PAOrd+1a1d27Nixz9Hc\n",
              "3FzhKQEAAODgUfGYv+qqqzJ69Ohcd911eeONNw74fPPmzUvfvn33OdatW9cFkwIAAEAZKhrzq1at\n",
              "yubNm/Pss89mwIABufrqqw/4nHPmzEljY+M+R11dXRdMCwAAAGWo6HvmjzvuuCRJr169cuutt2bE\n",
              "iBEHfM6amprU1NTsc1t1dfUBnxcAAABKUbEr801NTdm+ffven5csWZKxY8dW6uEAAADgI6NiV+Zf\n",
              "e+21TJkyJc3NzWltbc2wYcOyePHiJMn06dMzefLkTJ48OW+//XZGjBiRXbt2pbGxMUOGDMkXvvCF\n",
              "zJs3r1KjAQAAQNEqFvPDhg3Lxo0b27xv4cKFe//cu3fvvPLKK5UaAwAAAD50evyr6QAAAIDOEfMA\n",
              "AABQGDEPAAAAhRHzAAAAUBgxDwAAAIUR8wAAAFAYMQ8AAACFEfMAAABQGDEPAAAAhRHzAAAAUBgx\n",
              "DwAAAIUR8wAAAFAYMQ8AAACFEfMAAABQGDEPAAAAhRHzAAAAUBgxDwAAAIUR8wAAAFAYMQ8AAACF\n",
              "EfMAAABQGDEPAAAAhRHzAAAAUBgxDwAAAIUR8wAAAFAYMQ8AAACFEfMAAABQGDEPAAAAhRHzAAAA\n",
              "UBgxDwAAAIUR8wAAAFAYMQ8AAACFEfMAAABQGDEPAAAAhRHzAAAAUBgxDwAAAIUR8wAAAFAYMQ8A\n",
              "AACFEfMAAABQGDEPAAAAhRHzAAAAUBgxDwAAAIUR8wAAAFAYMQ8AAACFEfMAAABQGDEPAAAAhRHz\n",
              "AAAAUBgxDwAAAIUR8wAAAFAYMQ8AAACFEfMAAABQGDEPAAAAhRHzAAAAUBgxDwAAAIUR8wAAAFAY\n",
              "MQ8AAACFEfMAAABQGDEPAAAAhRHzAAAAUBgxDwAAAIUR8wAAAFAYMQ8AAACFEfMAAABQGDEPAAAA\n",
              "hRHzAAAAUJhDPsgvPf/883nllVfy8Y9/PKNHj06/fv26eCwAAACgPR2O+bfeeivf+ta38vDDD6d3\n",
              "794ZOHBg3nnnnbz44oupq6vL7bffnt/93d+t5KwAAABAOhHz5513Xq666qps3LgxAwcO3Ht7S0tL\n",
              "Vq9enQULFmTLli254YYbKjIoAAAA8Csdjvmnn346NTU1+93+sY99LJ/61KfyqU99Krt27erS4QAA\n",
              "AID9dfgD8NoK+Q+yBgAAADgwHY75iy66KGvWrGnzvu3bt+fb3/52HnzwwS4bDAAAAGhbh19m/41v\n",
              "fCNz5szJ888/nzPOOGPvB+C98MILefXVV3PzzTdn2rRplZwVAAAASCdifsyYMVm5cmX++7//O//y\n",
              "L/+SV155Jb17984VV1yRs88+O4cc8oG+5Q4AAADopE4X+LZt23LllVfuc9vmzZszZsyYLhsKAAAA\n",
              "aF+H3zP/nmuuuaZDtwEAAACV0eEr86+//noaGhqyc+fO/PjHP05ra2uSpLGxMU1NTRUbEAAAANhX\n",
              "h2N+yZIl+c53vpOf//znmTx58t7b+/btm9mzZ1dkOAAAAGB/HY75W265Jbfcckv+6I/+KHfeeWcl\n",
              "ZwIAAADeR6c/AO/OO+9MS0tLGhoa8u677+69/bjjjuvSwQAAAIC2dfoD8L7//e+nX79+GT16dMaN\n",
              "G5dx48bl9NNPb3Pt0KFDc+KJJ6a2tja1tbVZunRpm+v+/M//PMOHD88nP/nJXH/99dmzZ09nxwIA\n",
              "AICPjE5fmb/nnnuyfv36nHjiiR1av3Tp0tTW1rZ7/0svvZQ777wzzz77bAYOHJiLL744Dz30UG6+\n",
              "+ebOjgYAAAAfCZ2+Mj9gwIAOh3xHPP7445k8eXIGDRqUqqqq3HjjjVmyZEm763ft2pUdO3bsczQ3\n",
              "N3fZPAAAAHCw63TMX3LJJfnOd76T119/fZ+gbs9VV12V0aNH57rrrssbb7yx3/0/+9nPcvzxx+/9\n",
              "eejQofnZz37W7vnmzZuXvn377nOsW7eus08DAAAAitXpmJ87d25mzZqVQYMGpX///unXr1/69+/f\n",
              "5tpVq1Zl8+bNefbZZzNgwIBcffXVBzzwnDlz0tjYuM9RV1d3wOcFAACAUnT6PfMtLS0dXvveJ9z3\n",
              "6tUrt956a0aMGNHmmhdffHHvz/X19e/7yfg1NTWpqanZ57bq6uoOzwQAAACl6/SV+Y5qamrK9u3b\n",
              "9/68ZMmSjB07dr91U6ZMyd/+7d+moaEhra2tWbBgQT7/+c9XaiwAAAAoXqevzH/sYx9LVVXVfrf/\n",
              "3w+he+211zJlypQ0NzentbU1w4YNy+LFi5Mk06dPz+TJkzN58uQMGzYsd999dyZMmJAkOffcc3PD\n",
              "DTd8kOcCAAAAHwlVra2trZ35haampr1/3rlzZxYvXpzm5uZ89atf7fLhOmrWrFmZP39+jz0+AAAA\n",
              "dKdOv8z+8MMP33sMGDAgs2bNyuOPP16J2QAAAIA2HPB75l944YX84he/6IpZAAAAgA7o9Hvm+/fv\n",
              "v/c98++++26S5IEHHujaqQAAAIB2dTrmN23a9L+/fMghGTRokK+GAwAAgG7U6Zg//vjj8/bbb++N\n",
              "+v79+6d3795dPRcAAADQjk7H/Jo1azJlypQMGjQoya++gm7ZsmU588wzu3w4AAAAYH+djvn3Pr3+\n",
              "ve+FX7NmTW677bY888wzXT4cAAAAsL9Of5r9zp0794Z8kpx11ll55513unQoAAAAoH2djvkjjjgi\n",
              "Tz755N6f//Ef/zGHH354lw4FAAAAtK/TL7P/7ne/m8suu2zvJ9i3tLRk+fLlXT4YAAAA0LZOx/zP\n",
              "f/7zbNiwIa+99lqSZODAgVm3bl2XDwYAAAC0rdMvs7/zzjtz9NFHZ9SoURk1alQGDBiQO++8sxKz\n",
              "AQAAAG3odMz/X1VVVWlubu6KWQAAAIAO6HTM9+nTJ2vWrNn789NPP50+ffp06VAAAABA+zr9nvn7\n",
              "7rsvl156aU466aQkyU9/+tP89V//dZcPBgAAALSt0zF/5pln5j/+4z+ydu3aJL/6nvl+/fp19VwA\n",
              "AABAOzod80nSv3//TJo0qatnAQAAADrggD8ADwAAAOheYh4AAAAKI+YBAACgMGIeAAAACiPmAQAA\n",
              "oDBiHgAAAAoj5gEAAKAwYh4AAAAKI+YBAACgMGIeAAAACiPmAQAAoDBiHgAAAAoj5gEAAKAwYh4A\n",
              "AAAKI+YBAACgMGIeAAAACiPmAQAAoDBiHgAAAAoj5gEAAKAwYh4AAAAKI+YBAACgMGIeAAAACiPm\n",
              "AQAAoDBiHgAAAAoj5gEAAKAwYh4AAAAKI+YBAACgMGIeAAAACiPmAQAAoDBiHgAAAAoj5gEAAKAw\n",
              "Yh4AAAAKI+YBAACgMGIeAAAACiPmAQAAoDBiHgAAAAoj5gEAAKAwYh4AAAAKI+YBAACgMGIeAAAA\n",
              "CiPmAQAAoDBiHgAAAAoj5gEAAKAwYh4AAAAKI+YBAACgMGIeAAAACiPmAQAAoDBiHgAAAAoj5gEA\n",
              "AKAwYh4AAAAKI+YBAACgMGIeAAAACiPmAQAAoDBiHgAAAAoj5gEAAKAwYh4AAAAKI+YBAACgMGIe\n",
              "AAAACiPmAQAAoDBiHgAAAAoj5gEAAKAw3RLzixYtSlVVVVasWNHm/d/85jczatSojBw5Mpdeemm2\n",
              "b9/eHWMBAABAkSoe8/X19Xn44Yczfvz4Nu//4Q9/mEWLFmXt2rV5/vnnM27cuMydO7fSYwEAAECx\n",
              "KhrzLS0tmT59eh544IHU1NS0ueZHP/pRzj777PTp0ydJMmnSpDzyyCPtnnPXrl3ZsWPHPkdzc3NF\n",
              "5gcAAICDUUVjfv78+ZkwYULGjRvX7ppx48blySefTENDQ1pbW/Poo4/mrbfeyptvvtnm+nnz5qVv\n",
              "3777HOvWravUUwAAAICDTsVi/rnnnsuyZctyxx13vO+68847L1/5yldy0UUXZfz48Tn66KOTJIcc\n",
              "ckib6+fMmZPGxsZ9jrq6ui6fHwAAAA5WbRdzF1i9enXq6+szfPjwJElDQ0NmzJiRrVu3ZubMmfus\n",
              "vemmm3LTTTclSZ555pkMGTIkRx55ZJvnramp2e8l+9XV1RV4BgAAAHBwqtiV+ZkzZ2br1q2pr69P\n",
              "fX19xo8fn4ceemi/kE+SrVu3Jknefvvt3HXXXZk9e3alxgIAAIDiVezK/Pu56667Mnjw4Nx4441J\n",
              "kgsuuCAtLS3ZvXt3vvCFL+SLX/xiT4wFAAAARahqbW1t7ekhDtSsWbMyf/78nh4DAAAAukXFv2ce\n",
              "AAAA6FpiHgAAAAoj5gEAAKAwYh4AAAAKI+YBAACgMGIeAAAACiPmAQAAoDBiHgAAAAoj5gEAAKAw\n",
              "Yh4AAAAKI+YBAACgMGIeAAAACiPmAQAAoDBiHgAAAAoj5gEAAKAwYh4AAAAKI+YBAACgMGIeAAAA\n",
              "CiPmAQAAoDBiHgAAAAoj5gEAAKAwYh4AAAAKI+YBAACgMGIeAAAACiPmAQAAoDBiHgAAAAoj5gEA\n",
              "AKAwYh4AAAAKI+YBAACgMGIeAAAACiPmAQAAoDBiHgAAAAoj5gEAAKAwYh4AAAAKI+YBAACgMGIe\n",
              "AAAACiPmAQAAoDBiHgAAAAoj5gEAAKAwYh4AAAAKI+YBAACgMGIeAAAACiPmAQAAoDBiHgAAAAoj\n",
              "5gEAAKAwYh4AAAAKI+YBAACgMGIeAAAACiPmAQAAoDBiHgAAAAoj5gEAAKAwYh4AAAAKI+YBAACg\n",
              "MGIeAAAACiPmAQAAoDBiHgAAAAoj5gEAAKAwYh4AAAAKI+YBAACgMGIeAAAACiPmAQAAoDBiHgAA\n",
              "AAoj5gEAAKAwYh4AAAAKI+YBAACgMGIeAAAACiPmAQAAoDBiHgAAAAoj5gEAAKAwYh4AAAAKI+YB\n",
              "AACgMGIeAAAACiPmAQAAoDBiHgAAAAoj5gEAAKAwYh4AAAAKI+YBAACgMGIeAAAACtMtMb9o0aJU\n",
              "VVVlxYoVbd5/7733ZuTIkamtrc348eOzbt267hgLAAAAinRIpR+gvr4+Dz/8cMaPH9/m/Zs2bcqf\n",
              "/umf5t///d9zxBFH5C/+4i/yxS9+UdADAABAOyp6Zb6lpSXTp0/PAw88kJqamjbXVFVVZc+ePWlq\n",
              "akqSbN++PUOGDGn3nLt27cqOHTv2OZqbmysyPwAAAByMKnplfv78+ZkwYULGjRvX7ppTTz01t912\n",
              "W377t387Rx11VGpqarJq1ap218+bNy933333Pre1d9UfAAAAPowqdmX+ueeey7Jly3LHHXe877qX\n",
              "Xnopy5cvz5YtW/LKK6/ktttuy9SpU9tdP2fOnDQ2Nu5z1NXVdfX4AAAAcNCq2JX51atXp76+PsOH\n",
              "D0+SNDQ0ZMaMGdm6dWtmzpy5d92yZcsyevToDB48OEly7bXX5ktf+lJ2796dQw89dL/z1tTU7PeS\n",
              "/erq6ko9DQAAADjoVOzK/MyZM7N169bU19envr4+48ePz0MPPbRPyCfJsGHD8vTTT+eXv/xlkuTv\n",
              "/u7vMmLEiDZDHgAAAOiGT7Nvy1133ZXBgwfnxhtvzKWXXpr169fn9NNPT01NTQ4//PA89thjPTEW\n",
              "AAAAFKGqtbW1taeHOFCzZs3K/Pnze3oMAAAA6BYV/Wo6AAAAoOuJeQAAACiMmAcAAIDCiHkAAAAo\n",
              "jJgHAACAwoh5AAAAKIyYBwAAgMKIeQAAACiMmAcAAIDCiHkAAAAojJgHAACAwoh5AAAAKIyYBwAA\n",
              "gMKIeQAAACiMmAcAAIDCiHkAAAAojJgHAACAwoh5AAAAKIyYBwAAgMKIeQAAACiMmAcAAIDCiHkA\n",
              "AAAojJgHAACAwoh5AAAAKIyYBwAAgMKIeQAAACiMmAcAAIDCiHkAAAAojJgHAACAwoh5AAAAKIyY\n",
              "BwAAgMKIeQAAACiMmAcAAIDCiHkAAAAojJgHAACAwoh5AAAAKIyYBwAAgMKIeQAAACiMmAcAAIDC\n",
              "iHkAAAAojJgHAACAwoh5AAAAKIyYBwAAgMKIeQAAACiMmAcAAIDCiHkAAAAojJgHAACAwoh5AAAA\n",
              "KIyYBwAAgMKIeQAAACiMmAcAAIDCiHkAAAAojJgHAACAwoh5AAAAKIyYBwAAgMKIeQAAACiMmAcA\n",
              "AIDCiHkAAAAojJgHAACAwlS1tra29vQQB+qyyy7L0KFDe3oMOCg0Nzdn3bp1qaurS3V1dU+PAwcV\n",
              "+wPaZm9A++wPesLxxx+fW2655X3XfChiHvhfO3bsSN++fdPY2Jgjjzyyp8eBg4r9AW2zN6B99gcH\n",
              "Ky+zBwAAgMKIeQAAACiMmAcAAIDCiHn4kKmpqcnXvva11NTU9PQocNCxP6Bt9ga0z/7gYOUD8AAA\n",
              "AKAwrswDAABAYcQ8AAAAFEbMAwAAQGHEPBRu0aJFqaqqyooVK/a778c//nHOOeecnHTSSRk1alSm\n",
              "TZuWnTt3dv+Q0APeb2+89NJLGTduXGprazNq1Khcfvnl2bZtW/cPCT3k/fbHr7vmmmtSVVWV7du3\n",
              "d8tc0NPeb2/U19enuro6tbW1e48XX3yx+4eE/0/MQ8Hq6+vz8MMPZ/z48W3ef9hhh+VP/uRP8sIL\n",
              "L+RHP/pRmpqacu+993bzlND9ftPeGDx4cJ566qls2rQpzz33XAYPHpyvf/3r3Tsk9JDftD/es3z5\n",
              "8vTq1aubpoKe15G90adPn2zatGnv8clPfrIbJ4R9iXkoVEtLS6ZPn54HHnig3a9KGT58eMaMGZMk\n",
              "qa6uzhlnnJH6+vpunBK6X0f2Rk1NTT7+8Y8nSZqbm9PU1JSqqqruHBN6REf2R5K89tpr+cY3vpH5\n",
              "8+d343TQczq6N+BgIuahUPPnz8+ECRMybty4Dq1vamrKwoULc/HFF1d4MuhZHd0bu3fvTm1tbQYM\n",
              "GJCf/vSnufvuu7tpQug5Hd0f119/fe6777706dOnmyaDntXRvdHU1JQzzjgjp512Wu655540Nzd3\n",
              "04Swv0N6egCg85577rksW7Ysq1at6tD63bt3Z+rUqbngggty6aWXVng66Dmd2RuHHnpoNm3alN27\n",
              "d+dLX/pSHnzwwcyePbsbpoSe0dH9sXDhwhx33HE5//zzu2ky6Fkd3RvHHntsXn311RxzzDF58803\n",
              "M3Xq1Hz729/2bwc9xpV5KNDq1atTX1+f4cOHZ+jQoXnmmWcyY8aM/Nmf/dl+a/fs2ZOpU6fm2GOP\n",
              "zf33398D00L36czeeM+hhx6aa6+9No888kg3Tgrdr6P745//+Z/zN3/zNxk6dGiGDh2aJBkzZkw2\n",
              "btzYA1ND5XV0b9TU1OSYY45Jkhx11FGZNm1aVq9e3RMjQ5KkqrW1tbWnhwAOzLnnnptbb701l1xy\n",
              "yT63v/vuu5k6dWr69euXhQsXek8wHznt7Y2XX345Rx99dHr37p2WlpZ89atfTUNDQx599NGeGRR6\n",
              "QHv74/+qqqrKtm3b0q9fv26ZC3pae3vj9ddfT//+/dOrV6/s2rUrV155ZU4++eTcc889PTMoH3mu\n",
              "zMOHzF133ZUFCxYkSZYuXZrly5dnw4YNGTt2bGpra3PzzTf38ITQM359b2zevDnjx4/PmDFjMmbM\n",
              "mLzxxhv57ne/28MTQs/59f0B/K9f3xtPPfVUxo4dm1NPPTWnnXZaBg0alLlz5/bwhHyUuTIPAAAA\n",
              "hXFlHgAAAAoj5gEAAKAwYh4AAAAKI+YBAACgMGIeAAr3+7//+xk6dGiqqqqyadOmnh7nA/v617+e\n",
              "d955p6fHAIAiiHkAKNznPve5PPXUUzn++OO75fFaWlrS0tLS5ee9++67xTwAdJCYB4DCnXPOORky\n",
              "ZEiH1n7ve9/L+eefn8mTJ2fkyJE555xzUl9fv/f+b33rW6mrq8tpp52WiRMn5uWXX07yq6vmU6ZM\n",
              "yYUXXphRo0Zl69atWblyZc4444yceuqpqa2tzb/+678mSdavX5/zzz8/p59+esaOHZu/+qu/SpLU\n",
              "19enX79++drXvpZx48blhBNOyBNPPJEkufHGG5Mkv/M7v5Pa2tq8/vrrXfXXAwAV90FeJbdt27Zc\n",
              "ccUVGTFiRE455ZT8wR/8Qace85APMCcAULCnn346mzZtysknn5z77rsvM2bMyA9+8IM89thj+clP\n",
              "fpK1a9emuro6jzzySG666aasXLkySbJ27dps3LgxAwcOzH/+53/m2muvzapVq3LSSSdlz549efvt\n",
              "t7N9+/bMmDEjTzzxRI499tj84he/yGmnnZazzjorSdLY2JgxY8bk7rvvzt///d/nlltuyaRJk7Jg\n",
              "wYI8+OCDWb16dfr169eDfzsA0Hmf+9znMnv27Jx99tkd/p1p06ZlwoQJefTRR5MkDQ0NnXpMMQ8A\n",
              "HzFnnXVWTj755CTJjBkzcscdd6S5uTkrVqzI+vXrM27cuCRJc3PzPr83adKkDBw4MEnywx/+MBMn\n",
              "TsxJJ52UJOnVq1f69u2bJ554Iv/1X/+Vz372s/v87k9+8pMMGzYshx12WC677LIkyZlnnpkXX3yx\n",
              "os8VALrDOeec0+bt69evz+23354dO3akubk5f/iHf5jLL788W7ZsyYYNG7Js2bK9awcNGtSpxxTz\n",
              "AECSpLW1NXPmzMmMGTPavP+II47o0DlOOeWUrFmzZr/76uvrU1NTk6qqqiRJdXX1fv9hAAAfFu/3\n",
              "arXnn38+Q4YMycyZM7Nhw4Z84hOfyL333puxY8d2+PzeMw8AHzFr167NCy+8kCRZuHBhzjvvvFRX\n",
              "V+eSSy7JggUL8uabbyZJ9uzZk40bN7Z5jgsvvDD/8A//sPc8e/bsSWNjY84666y89NJLefLJJ/eu\n",
              "3bRpU3bv3v0b5+rTp08aGxsP9OkBwEFhzZo1e1+tVltbm09/+tNJfvVqtXfffTfr1q3L5z//+fzb\n",
              "v/1bbrvttlx00UXZs2dPh8/vyjwAFO6GG27IypUr09DQkAsvvDB9+vTJli1b2l1/1lln5fbbb8+W\n",
              "LVvyiU98IosXL06SXHHFFfmf//mfnHfeeUmSd999N9OmTWvzKsEJJ5yQRYsW5corr8yePXtSXV2d\n",
              "BQsWpK6uLitXrsxXvvKVfPnLX86ePXty3HHHZcWKFb/xeXz5y1/OZz7zmfTu3Ts/+MEPcswxx3yw\n",
              "vxAAOAi836vVNmzYkN/6rd/a+2/uZz/72ezevTsvv/xyTjjhhA6dv6q1tbW1SycGAA5a3/ve97Ji\n",
              "xYoOxTUA0DlDhw7NihUrUltbm23btmXkyJF55JFH9l6V37RpU0aOHJlevXpl9OjReeyxxzJmzJis\n",
              "W7cukyZNyquvvpqampoOPZYr8wAAAHAA2nuVXHuvVquqqsr3v//9XH/99dm5c2dqamqybNmyDod8\n",
              "4so8AHzovP7667ngggv2u/0zn/lMvvnNb/bARABAVxPzAAAAUBifZg8AAACFEfMAAABQGDEPAAAA\n",
              "hRHzAAAAUBgxDwAAAIUR8wAAAFAYMQ8AAACFEfMAAABQGDEPAAAAhfl/weVsb9H4gRQAAAAASUVO\n",
              "RK5CYII=\n",
              "\">\n",
              "      </div>\n",
              "      <script type=\"text/javascript\">\n",
              "        (() => {\n",
              "          const chartElement = document.getElementById(\"chart-496080b7-3d21-488a-b478-fa8652311d7a\");\n",
              "          async function getCodeForChartHandler(event) {\n",
              "            const chartCodeResponse =  await google.colab.kernel.invokeFunction(\n",
              "                'getCodeForChart', [\"chart-496080b7-3d21-488a-b478-fa8652311d7a\"], {});\n",
              "            const responseJson = chartCodeResponse.data['application/json'];\n",
              "            await google.colab.notebook.addCell(responseJson.code, 'code');\n",
              "          }\n",
              "          chartElement.onclick = getCodeForChartHandler;\n",
              "        })();\n",
              "      </script>\n",
              "      <style>\n",
              "        .colab-quickchart-chart-with-code  {\n",
              "            display: block;\n",
              "            float: left;\n",
              "            border: 1px solid transparent;\n",
              "        }\n",
              "\n",
              "        .colab-quickchart-chart-with-code:hover {\n",
              "            cursor: pointer;\n",
              "            border: 1px solid #aaa;\n",
              "        }\n",
              "      </style>"
            ]
          },
          "metadata": {}
        },
        {
          "output_type": "display_data",
          "data": {
            "text/plain": [
              "from matplotlib import pyplot as plt\n",
              "import seaborn as sns\n",
              "def _plot_series(series, series_name, series_index=0):\n",
              "  from matplotlib import pyplot as plt\n",
              "  import seaborn as sns\n",
              "  palette = list(sns.palettes.mpl_palette('Dark2'))\n",
              "  counted = (series['5_percent']\n",
              "                .value_counts()\n",
              "              .reset_index(name='counts')\n",
              "              .rename({'index': '5_percent'}, axis=1)\n",
              "              .sort_values('5_percent', ascending=True))\n",
              "  xs = counted['5_percent']\n",
              "  ys = counted['counts']\n",
              "  plt.plot(xs, ys, label=series_name, color=palette[series_index % len(palette)])\n",
              "\n",
              "fig, ax = plt.subplots(figsize=(10, 5.2), layout='constrained')\n",
              "df_sorted = _df_2.sort_values('5_percent', ascending=True)\n",
              "_plot_series(df_sorted, '')\n",
              "sns.despine(fig=fig, ax=ax)\n",
              "plt.xlabel('5_percent')\n",
              "_ = plt.ylabel('count()')"
            ],
            "text/html": [
              "      <div class=\"colab-quickchart-chart-with-code\" id=\"chart-c23ec065-0ddd-459e-ad69-5dd5f5e14c60\">\n",
              "        <img style=\"width: 180px;\" src=\"data:image/png;base64,iVBORw0KGgoAAAANSUhEUgAAA/MAAAITCAYAAABLz0yVAAAAOXRFWHRTb2Z0d2FyZQBNYXRwbG90\n",
              "bGliIHZlcnNpb24zLjcuMSwgaHR0cHM6Ly9tYXRwbG90bGliLm9yZy/bCgiHAAAACXBIWXMAAA9h\n",
              "AAAPYQGoP6dpAAAiWElEQVR4nO3dfZCV5X3/8c+64hoUAYOC1MENEVQEPIjuoFgjNlHjWHxgHDKj\n",
              "UaOIEpOKxGCpD1HbCdUkTIydlqgdDDYSpkJppzptYpspRrRohRhrTYN1TTU8mAqLWRHW3f39kV+2\n",
              "oeya3bBnl0tfr5kzwznn2vt8l5lr9M19zn1q2tvb2wMAAAAUY7/+HgAAAADoGTEPAAAAhRHzAAAA\n",
              "UBgxDwAAAIUR8wAAAFAYMQ8AAACFEfMAAABQGDEPAAAAhXlfxPw999zT3yMAAABAn3lfxPyrr77a\n",
              "3yMAAABAn3lfxDwAAAB8kIh5AAAAKIyYBwAAgMKIeQAAACiMmAcAAIDCiHkAAAAojJgHAACAwoh5\n",
              "AAAAKIyYBwAAgMKIeQAAACiMmAcAAIDCiHkAAAAojJgHAACAwoh5AAAAKIyYBwAAgMKIeQAAACiM\n",
              "mAcAAIDCiHkAAAAojJgHAACAwoh5AAAAKIyYBwAAgMKIeQAAACiMmAcAAIDCiHkAAAAojJgHAACA\n",
              "woh5AAAAKIyYBwAAgMKIeQAAACiMmAcAAIDCiHkAAAAojJgHAACAwoh5AAAAKIyYBwAAgMKIeQAA\n",
              "ACiMmAcAAIDCiHkAAAAojJgHAACAwoh5AAAAKIyYBwAAgMKIeQAAACiMmAcAAIDCiHkAAAAojJgH\n",
              "AACAwoh5AAAAKIyYBwAAgMKIeQAAACiMmAcAAIDCiHkAAAAojJgHAACAwoh5AAAAKIyYBwAAgMKI\n",
              "eQAAACiMmAcAAIDCiHkAAAAojJgHAACAwoh5AAAAKIyYBwAAgMKIeQAAACiMmAcAAIDCiHkAAAAo\n",
              "TFVjvr6+Psccc0wqlUoqlUqWL1++x5p//ud/TkNDQ8aNG5fjjz8+8+fPT1tbWzXHAgAAgKLtX+0X\n",
              "WL58eSqVSpfPDx06NN/5zncyevTovPPOO/n4xz+epUuX5oorrqj2aAAAAFCkqsf8bzJp0qSOPx94\n",
              "4IGpVCppbGzscv3OnTuzc+fO3R5rbW2t1ngAAACwz6n6Z+Yvu+yyTJgwIVdddVXeeOON91y7adOm\n",
              "PPLIIznvvPO6XLNw4cIMHjx4t9vatWt7e2wAAADYZ1U15levXp3nn38+zz33XIYNG5bLL7+8y7Xb\n",
              "t2/P7//+72f+/Pk56aSTuly3YMGCNDU17XZraGioxvgAAACwT6rq2+xHjRqVJBkwYEDmzp2bsWPH\n",
              "drrurbfeyjnnnJPzzz8/8+bNe89j1tXVpa6ubrfHamtre2dgAAAAKEDVzsw3Nzdn27ZtHfeXLVu2\n",
              "2+fjf+UXv/hFzjnnnJxzzjm55ZZbqjUOAAAAvG9U7cz85s2bM2PGjLS2tqa9vT2jR4/O0qVLkySz\n",
              "Zs3K9OnTM3369Nxzzz1Zu3Ztmpubs3LlyiTJxRdfnJtvvrlaowEAAEDRatrb29v7e4i9NW/evCxa\n",
              "tKi/xwAAAIA+UfWr2QMAAAC9S8wDAABAYcQ8AAAAFEbMAwAAQGHEPAAAABRGzAMAAEBhxDwAAAAU\n",
              "RswDAABAYcQ8AAAAFEbMAwAAQGHEPAAAABRGzAMAAEBhxDwAAAAURswDAABAYcQ8AAAAFEbMAwAA\n",
              "QGHEPAAAABRGzAMAAEBhxDwAAAAURswDAABAYcQ8AAAAFEbMAwAAQGHEPAAAABRGzAMAAEBhxDwA\n",
              "AAAURswDAABAYcQ8AAAAFEbMAwAAQGHEPAAAABRGzAMAAEBhxDwAAAAURswDAABAYcQ8AAAAFEbM\n",
              "AwAAQGHEPAAAABRGzAMAAEBhxDwAAAAURswDAABAYcQ8AAAAFEbMAwAAQGHEPAAAABRGzAMAAEBh\n",
              "xDwAAAAURswDAABAYcQ8AAAAFEbMAwAAQGHEPAAAABRGzAMAAEBhxDwAAAAURswDAABAYcQ8AAAA\n",
              "FEbMAwAAQGHEPAAAABRGzAMAAEBhxDwAAAAURswDAABAYcQ8AAAAFEbMAwAAQGHEPAAAABRGzAMA\n",
              "AEBhxDwAAAAURswDAABAYcQ8AAAAFEbMAwAAQGHEPAAAABRGzAMAAEBhxDwAAAAURswDAABAYcQ8\n",
              "AAAAFEbMAwAAQGHEPAAAABRGzAMAAEBhxDwAAAAURswDAABAYcQ8AAAAFEbMAwAAQGHEPAAAABRG\n",
              "zAMAAEBhqhrz9fX1OeaYY1KpVFKpVLJ8+fI91jQ2NuaMM87I4MGDU6lUqjkOAAAAvC/sX+0XWL58\n",
              "+XtG+iGHHJI/+ZM/SVNTU26++eZqjwMAAADF6/e32R966KE57bTTctBBB3Vr/c6dO7N9+/bdbq2t\n",
              "rVWeEgAAAPYdVY/5yy67LBMmTMhVV12VN954Y6+Pt3DhwgwePHi329q1a3thUgAAAChDVWN+9erV\n",
              "ef755/Pcc89l2LBhufzyy/f6mAsWLEhTU9Nut4aGhl6YFgAAAMpQ1c/Mjxo1KkkyYMCAzJ07N2PH\n",
              "jt3rY9bV1aWurm63x2pra/f6uAAAAFCKqp2Zb25uzrZt2zruL1u2LJMmTarWywEAAMAHRtXOzG/e\n",
              "vDkzZsxIa2tr2tvbM3r06CxdujRJMmvWrEyfPj3Tp0/P22+/nbFjx2bnzp1pamrKkUcemU9/+tNZ\n",
              "uHBhtUYDAACAolUt5kePHp1169Z1+twDDzzQ8eeBAwfmtddeq9YYAAAA8L7T719NBwAAAPSMmAcA\n",
              "AIDCiHkAAAAojJgHAACAwoh5AAAAKIyYBwAAgMKIeQAAACiMmAcAAIDCiHkAAAAojJgHAACAwoh5\n",
              "AAAAKIyYBwAAgMKIeQAAACiMmAcAAIDCiHkAAAAojJgHAACAwoh5AAAAKIyYBwAAgMKIeQAAACiM\n",
              "mAcAAIDCiHkAAAAojJgHAACAwoh5AAAAKIyYBwAAgMKIeQAAACiMmAcAAIDCiHkAAAAojJgHAACA\n",
              "woh5AAAAKIyYBwAAgMKIeQAAACiMmAcAAIDCiHkAAAAojJgHAACAwoh5AAAAKIyYBwAAgMKIeQAA\n",
              "ACiMmAcAAIDCiHkAAAAojJgHAACAwoh5AAAAKIyYBwAAgMKIeQAAACiMmAcAAIDCiHkAAAAojJgH\n",
              "AACAwoh5AAAAKIyYBwAAgMKIeQAAACiMmAcAAIDCiHkAAAAojJgHAACAwoh5AAAAKIyYBwAAgMKI\n",
              "eQAAACiMmAcAAIDCiHkAAAAojJgHAACAwoh5AAAAKIyYBwAAgMKIeQAAACiMmAcAAIDCiHkAAAAo\n",
              "jJgHAACAwuz/2/zQiy++mNdeey0f+tCHMmHChAwZMqSXxwIAAAC60u2Yf+utt/LVr341999/fwYO\n",
              "HJjhw4fnnXfeycsvv5yGhobcdNNN+b3f+71qzgoAAACkBzE/bdq0XHbZZVm3bl2GDx/e8XhbW1ue\n",
              "eOKJLF68OBs2bMg111xTlUEBAACAX+p2zD/55JOpq6vb4/H99tsvH/vYx/Kxj30sO3fu7NXhAAAA\n",
              "gD11+wJ4nYX8b7MGAAAA2Dvdjvnzzjsva9as6fS5bdu25Wtf+1q++c1v9tpgAAAAQOe6/Tb7L3/5\n",
              "y1mwYEFefPHFnHzyyR0XwHvppZfy+uuv57rrrsuVV15ZzVkBAACA9CDmJ06cmEcffTT//d//nX/5\n",
              "l3/Ja6+9loEDB+aSSy7Jaaedlv33/62+5Q4AAADooR4X+NatW3PppZfu9tjzzz+fiRMn9tpQAAAA\n",
              "QNe6/Zn5X7niiiu69RgAAABQHd0+M79ly5Zs2rQpO3bsyI9+9KO0t7cnSZqamtLc3Fy1AQEAAIDd\n",
              "dTvmly1blq9//ev52c9+lunTp3c8Pnjw4MyfP78qwwEAAAB76nbMX3/99bn++uvzx3/8x7n11lur\n",
              "ORMAAADwHnp8Abxbb701bW1t2bRpU959992Ox0eNGtWrgwEAAACd6/EF8L71rW9lyJAhmTBhQiZP\n",
              "npzJkyfnpJNO6nRtfX19jjnmmFQqlVQqlSxfvrzTdX/5l3+ZMWPG5KMf/WiuvvrqtLS09HQsAAAA\n",
              "+MDo8Zn5O++8M88880yOOeaYbq1fvnx5KpVKl8+/8sorufXWW/Pcc89l+PDhOf/883Pffffluuuu\n",
              "6+loAAAA8IHQ4zPzw4YN63bId8cjjzyS6dOnZ8SIEampqcm1116bZcuWdbl+586d2b59+2631tbW\n",
              "XpsHAAAA9nU9jvkLLrggX//617Nly5bdgrorl112WSZMmJCrrroqb7zxxh7P//SnP81RRx3Vcb++\n",
              "vj4//elPuzzewoULM3jw4N1ua9eu7emvAQAAAMXqcczffPPNmTdvXkaMGJGhQ4dmyJAhGTp0aKdr\n",
              "V69eneeffz7PPfdchg0blssvv3yvB16wYEGampp2uzU0NOz1cQEAAKAUPf7MfFtbW7fX/uoK9wMG\n",
              "DMjcuXMzduzYTte8/PLLHfcbGxvf88r4dXV1qaur2+2x2trabs8EAAAApevxmfnuam5uzrZt2zru\n",
              "L1u2LJMmTdpj3YwZM/J3f/d32bRpU9rb27N48eJ86lOfqtZYAAAAULwen5nfb7/9UlNTs8fj//ci\n",
              "dJs3b86MGTPS2tqa9vb2jB49OkuXLk2SzJo1K9OnT8/06dMzevTo3HHHHZk6dWqS5Iwzzsg111zz\n",
              "2/wuAAAA8IFQ097e3t6TH2hubu74844dO7J06dK0trbmi1/8Yq8P113z5s3LokWL+u31AQAAoC/1\n",
              "+G32Bx10UMdt2LBhmTdvXh555JFqzAYAAAB0Yq8/M//SSy/l5z//eW/MAgAAAHRDjz8zP3To0I7P\n",
              "zL/77rtJknvvvbd3pwIAAAC61OOYX79+/f/+8P77Z8SIEb4aDgAAAPpQj2P+qKOOyttvv90R9UOH\n",
              "Ds3AgQN7ey4AAACgCz2O+TVr1mTGjBkZMWJEkl9+Bd2KFStyyimn9PpwAAAAwJ56HPO/unr9r74X\n",
              "fs2aNbnhhhvy9NNP9/pwAAAAwJ56fDX7HTt2dIR8kpx66ql55513enUoAAAAoGs9jvmDDz44jz/+\n",
              "eMf9f/qnf8pBBx3Uq0MBAAAAXevx2+y/8Y1v5KKLLuq4gn1bW1tWrlzZ64MBAAAAnetxzP/sZz/L\n",
              "s88+m82bNydJhg8fnrVr1/b6YAAAAEDnevw2+1tvvTWHHXZYxo8fn/Hjx2fYsGG59dZbqzEbAAAA\n",
              "0Ikex/z/VVNTk9bW1t6YBQAAAOiGHsf8oEGDsmbNmo77Tz75ZAYNGtSrQwEAAABd6/Fn5u++++5c\n",
              "eOGFOfbYY5MkP/nJT/I3f/M3vT4YAAAA0Lkex/wpp5yS//iP/8hTTz2V5JffMz9kyJDengsAAADo\n",
              "Qo9jPkmGDh2ac889t7dnAQAAALphry+ABwAAAPQtMQ8AAACFEfMAAABQGDEPAAAAhRHzAAAAUBgx\n",
              "DwAAAIUR8wAAAFAYMQ8AAACFEfMAAABQGDEPAAAAhRHzAAAAUBgxDwAAAIUR8wAAAFAYMQ8AAACF\n",
              "EfMAAABQGDEPAAAAhRHzAAAAUBgxDwAAAIUR8wAAAFAYMQ8AAACFEfMAAABQGDEPAAAAhRHzAAAA\n",
              "UBgxDwAAAIUR8wAAAFAYMQ8AAACFEfMAAABQGDEPAAAAhRHzAAAAUBgxDwAAAIUR8wAAAFAYMQ8A\n",
              "AACFEfMAAABQGDEPAAAAhRHzAAAAUBgxDwAAAIUR8wAAAFAYMQ8AAACFEfMAAABQGDEPAAAAhRHz\n",
              "AAAAUBgxDwAAAIUR8wAAAFAYMQ8AAACFEfMAAABQGDEPAAAAhRHzAAAAUBgxDwAAAIUR8wAAAFAY\n",
              "MQ8AAACFEfMAAABQGDEPAAAAhRHzAAAAUBgxDwAAAIUR8wAAAFAYMQ8AAACFEfMAAABQGDEPAAAA\n",
              "hRHzAAAAUBgxDwAAAIUR8wAAAFCYPon5JUuWpKamJqtWrer0+a985SsZP358xo0blwsvvDDbtm3r\n",
              "i7EAAACgSFWP+cbGxtx///2ZMmVKp89/73vfy5IlS/LUU0/lxRdfzOTJk3PzzTdXeywAAAAoVlVj\n",
              "vq2tLbNmzcq9996burq6Ttf88Ic/zGmnnZZBgwYlSc4999w89NBDXR5z586d2b59+2631tbWqswP\n",
              "AAAA+6KqxvyiRYsyderUTJ48ucs1kydPzuOPP55Nmzalvb093/72t/PWW2/lzTff7HT9woULM3jw\n",
              "4N1ua9eurdavAAAAAPucqsX8Cy+8kBUrVuSWW255z3XTpk3LjTfemPPOOy9TpkzJYYcdliTZf//9\n",
              "O12/YMGCNDU17XZraGjo9fkBAABgX9V5MfeCJ554Io2NjRkzZkySZNOmTZk9e3Y2btyYOXPm7Lb2\n",
              "s5/9bD772c8mSZ5++ukceeSROeSQQzo9bl1d3R5v2a+tra3CbwAAAAD7pqqdmZ8zZ042btyYxsbG\n",
              "NDY2ZsqUKbnvvvv2CPkk2bhxY5Lk7bffzm233Zb58+dXaywAAAAoXtXOzL+X2267LSNHjsy1116b\n",
              "JDnrrLPS1taWXbt25dOf/nQ+97nP9cdYAAAAUISa9vb29v4eYm/NmzcvixYt6u8xAAAAoE9U/Xvm\n",
              "AQAAgN4l5gEAAKAwYh4AAAAKI+YBAACgMGIeAAAACiPmAQAAoDBiHgAAAAoj5gEAAKAwYh4AAAAK\n",
              "I+YBAACgMGIeAAAACiPmAQAAoDBiHgAAAAoj5gEAAKAwYh4AAAAKI+YBAACgMGIeAAAACiPmAQAA\n",
              "oDBiHgAAAAoj5gEAAKAwYh4AAAAKI+YBAACgMGIeAAAACiPmAQAAoDBiHgAAAAoj5gEAAKAwYh4A\n",
              "AAAKI+YBAACgMGIeAAAACiPmAQAAoDBiHgAAAAoj5gEAAKAwYh4AAAAKI+YBAACgMGIeAAAACiPm\n",
              "AQAAoDBiHgAAAAoj5gEAAKAwYh4AAAAKI+YBAACgMGIeAAAACiPmAQAAoDBiHgAAAAoj5gEAAKAw\n",
              "Yh4AAAAKI+YBAACgMGIeAAAACiPmAQAAoDBiHgAAAAoj5gEAAKAwYh4AAAAKI+YBAACgMGIeAAAA\n",
              "CiPmAQAAoDBiHgAAAAoj5gEAAKAwYh4AAAAKI+YBAACgMGIeAAAACiPmAQAAoDBiHgAAAAoj5gEA\n",
              "AKAwYh4AAAAKI+YBAACgMGIeAAAACiPmAQAAoDBiHgAAAAoj5gEAAKAwYh4AAAAKI+YBAACgMGIe\n",
              "AAAACiPmAQAAoDBiHgAAAAoj5gEAAKAwYh4AAAAKI+YBAACgMGIeAAAACiPmAQAAoDB9EvNLlixJ\n",
              "TU1NVq1a1enzd911V8aNG5dKpZIpU6Zk7dq1fTEWAAAAFGn/ar9AY2Nj7r///kyZMqXT59evX58/\n",
              "//M/z7//+7/n4IMPzl/91V/lc5/7nKAHAACALlT1zHxbW1tmzZqVe++9N3V1dZ2uqampSUtLS5qb\n",
              "m5Mk27Zty5FHHtnlMXfu3Jnt27fvdmttba3K/AAAALAvquqZ+UWLFmXq1KmZPHlyl2tOOOGE3HDD\n",
              "DfnIRz6SQw89NHV1dVm9enWX6xcuXJg77rhjt8e6OusPAAAA70dVOzP/wgsvZMWKFbnlllvec90r\n",
              "r7ySlStXZsOGDXnttddyww03ZObMmV2uX7BgQZqamna7NTQ09Pb4AAAAsM+q2pn5J554Io2NjRkz\n",
              "ZkySZNOmTZk9e3Y2btyYOXPmdKxbsWJFJkyYkJEjRyZJPvOZz+Tzn/98du3alQMOOGCP49bV1e3x\n",
              "lv3a2tpq/RoAAACwz6namfk5c+Zk48aNaWxsTGNjY6ZMmZL77rtvt5BPktGjR+fJJ5/ML37xiyTJ\n",
              "3//932fs2LGdhjwAAADQB1ez78xtt92WkSNH5tprr82FF16YZ555JieddFLq6upy0EEH5eGHH+6P\n",
              "sQAAAKAINe3t7e39PcTemjdvXhYtWtTfYwAAAECfqOpX0wEAAAC9T8wDAABAYcQ8AAAAFEbMAwAA\n",
              "QGHEPAAAABRGzAMAAEBhxDwAAAAURswDAABAYcQ8AAAAFEbMAwAAQGHEPAAAABRGzAMAAEBhxDwA\n",
              "AAAURswDAABAYcQ8AAAAFEbMAwAAQGHEPAAAABRGzAMAAEBhxDwAAAAURswDAABAYcQ8AAAAFEbM\n",
              "AwAAQGHEPAAAABRGzAMAAEBhxDwAAAAURswDAABAYcQ8AAAAFEbMAwAAQGHEPAAAABRGzAMAAEBh\n",
              "xDwAAAAURswDAABAYcQ8AAAAFEbMAwAAQGHEPAAAABRGzAMAAEBhxDwAAAAURswDAABAYcQ8AAAA\n",
              "FEbMAwAAQGHEPAAAABRGzAMAAEBhxDwAAAAURswDAABAYcQ8AAAAFEbMAwAAQGHEPAAAABRGzAMA\n",
              "AEBhxDwAAAAURswDAABAYcQ8AAAAFEbMAwAAQGHEPAAAABRGzAMAAEBhxDwAAAAURswDAABAYcQ8\n",
              "AAAAFEbMAwAAQGHEPAAAABSmpr29vb2/h9hbF110Uerr6/t7DNgntLa2Zu3atWloaEhtbW1/jwP7\n",
              "FPsDOmdvQNfsD/rDUUcdleuvv/4917wvYh74X9u3b8/gwYPT1NSUQw45pL/HgX2K/QGdszega/YH\n",
              "+ypvswcAAIDCiHkAAAAojJgHAACAwoh5eJ+pq6vLl770pdTV1fX3KLDPsT+gc/YGdM3+YF/lAngA\n",
              "AABQGGfmAQAAoDBiHgAAAAoj5gEAAKAwYh4Kt2TJktTU1GTVqlV7PPejH/0op59+eo499tiMHz8+\n",
              "V155ZXbs2NH3Q0I/eK+98corr2Ty5MmpVCoZP358Lr744mzdurXvh4R+8l7749ddccUVqampybZt\n",
              "2/pkLuhv77U3GhsbU1tbm0ql0nF7+eWX+35I+P/EPBSssbEx999/f6ZMmdLp8wceeGD+7M/+LC+9\n",
              "9FJ++MMfprm5OXfddVcfTwl97zftjZEjR+YHP/hB1q9fnxdeeCEjR47M7bff3rdDQj/5TfvjV1au\n",
              "XJkBAwb00VTQ/7qzNwYNGpT169d33D760Y/24YSwOzEPhWpra8usWbNy7733dvlVKWPGjMnEiROT\n",
              "JLW1tTn55JPT2NjYh1NC3+vO3qirq8uHPvShJElra2uam5tTU1PTl2NCv+jO/kiSzZs358tf/nIW\n",
              "LVrUh9NB/+nu3oB9iZiHQi1atChTp07N5MmTu7W+ubk5DzzwQM4///wqTwb9q7t7Y9euXalUKhk2\n",
              "bFh+8pOf5I477uijCaH/dHd/XH311bn77rszaNCgPpoM+ld390Zzc3NOPvnknHjiibnzzjvT2tra\n",
              "RxPCnvbv7wGAnnvhhReyYsWKrF69ulvrd+3alZkzZ+ass87KhRdeWOXpoP/0ZG8ccMABWb9+fXbt\n",
              "2pXPf/7z+eY3v5n58+f3wZTQP7q7Px544IGMGjUqZ555Zh9NBv2ru3vjiCOOyOuvv57DDz88b775\n",
              "ZmbOnJmvfe1r/ttBv3FmHgr0xBNPpLGxMWPGjEl9fX2efvrpzJ49O3/xF3+xx9qWlpbMnDkzRxxx\n",
              "RO65555+mBb6Tk/2xq8ccMAB+cxnPpOHHnqoDyeFvtfd/fH9738/f/u3f5v6+vrU19cnSSZOnJh1\n",
              "69b1w9RQfd3dG3V1dTn88MOTJIceemiuvPLKPPHEE/0xMiRJatrb29v7ewhg75xxxhmZO3duLrjg\n",
              "gt0ef/fddzNz5swMGTIkDzzwgM8E84HT1d549dVXc9hhh2XgwIFpa2vLF7/4xWzatCnf/va3+2dQ\n",
              "6Add7Y//q6amJlu3bs2QIUP6ZC7ob13tjS1btmTo0KEZMGBAdu7cmUsvvTTHHXdc7rzzzv4ZlA88\n",
              "Z+bhfea2227L4sWLkyTLly/PypUr8+yzz2bSpEmpVCq57rrr+nlC6B+/vjeef/75TJkyJRMnTszE\n",
              "iRPzxhtv5Bvf+EY/Twj959f3B/C/fn1v/OAHP8ikSZNywgkn5MQTT8yIESNy88039/OEfJA5Mw8A\n",
              "AACFcWYeAAAACiPmAQAAoDBiHgAAAAoj5gEAAKAwYh4ACldfX59jjjkmlUollUoly5cv7++Rfiu3\n",
              "33573nnnnf4eAwCK4Gr2AFC4+vr6rFq1KpVKpU9er62tLUmy3369e07A95kDQPc5Mw8AHyAPPvhg\n",
              "zjzzzEyfPj3jxo3L6aefnsbGxo7nv/rVr6ahoSEnnnhizjnnnLz66qtJfnnWfMaMGTn77LMzfvz4\n",
              "bNy4MY8++mhOPvnknHDCCalUKvnXf/3XJMkzzzyTM888MyeddFImTZqUv/7rv06SNDY2ZsiQIfnS\n",
              "l76UyZMn5+ijj85jjz2WJLn22muTJL/7u7+bSqWSLVu29OHfCgDsnT/4gz9IfX19ampqsn79+m79\n",
              "zNatW3PJJZdk7NixOf744/OHf/iHPXpNZ+YBoHD19fU55JBD0t7enoaGhvzpn/5pDjvssE7XPvjg\n",
              "g7nmmmuyfv36HHfccbn77rvz+OOP57vf/W4efvjhfP/738/ixYtTW1ubhx56KN/5znfy6KOP5vbb\n",
              "b899992XdevWZfjw4fnP//zPnHbaaVm9enWOPfbYtLS05O233057e3umTZuWxx57LEcccUR+/vOf\n",
              "58QTT8xTTz2VlpaWfOQjH8kjjzySGTNm5B/+4R9y/fXX58c//nESZ+YBKNfq1aszevTonHbaad1+\n",
              "t9yFF16YqVOn5sYbb0ySbNq0KSNGjOj2a+7/2w4LAOwbVq9enVGjRqWlpSW33HJLLr/88o4z3p05\n",
              "9dRTc9xxxyVJZs+enVtuuSWtra1ZtWpVnnnmmUyePDlJ0trautvPnXvuuRk+fHiS5Hvf+17OOeec\n",
              "HHvssUmSAQMGZPDgwXnsscfyX//1X/nkJz+528/++Mc/zujRo3PggQfmoosuSpKccsopefnll3vn\n",
              "LwEA+tHpp5/e6ePPPPNMbrrppmzfvj2tra35oz/6o1x88cXZsGFDnn322axYsaJjbU9CPhHzAFC8\n",
              "UaNGJfllUM+dOzdjx479rY7T3t6eBQsWZPbs2Z0+f/DBB3frGMcff3zWrFmzx3ONjY2pq6tLTU1N\n",
              "kqS2tnaPfzAAgPeLbdu2Zfbs2Xu8W+3UU0/Niy++mCOPPDJz5szJs88+mw9/+MO56667MmnSpG4f\n",
              "32fmAaBgzc3N2bZtW8f9ZcuW/cb/EXjqqafy0ksvJUkeeOCBTJs2LbW1tbnggguyePHivPnmm0mS\n",
              "lpaWrFu3rtNjnH322fnHf/zHjuO0tLSkqakpp556al555ZU8/vjjHWvXr1+fXbt2/cbfZdCgQWlq\n",
              "avqN6wCgBGvWrOl4t1qlUsnHP/7xJL98t9q7776btWvX5lOf+lT+7d/+LTfccEPOO++8tLS0dPv4\n",
              "zswDQME2b96cGTNmpLW1Ne3t7Rk9enSWLl36nj9z6qmn5qabbsqGDRvy4Q9/uGP9JZdckv/5n//J\n",
              "tGnTkiTvvvturrzyyk7/ceDoo4/OkiVLcumll6alpSW1tbVZvHhxGhoa8uijj+bGG2/MF77whbS0\n",
              "tGTUqFFZtWrVb/xdvvCFL+QTn/hEBg4cmO9+97s5/PDDe/4XAgD7iPd6t9qzzz6b3/md3+n4b+4n\n",
              "P/nJ7Nq1K6+++mqOPvrobh3fBfAA4APkwQcfzKpVq7oV1wBAz/z618Vu3bo148aNy0MPPdRxVn79\n",
              "+vUZN25cBgwYkAkTJuThhx/OxIkTs3bt2px77rl5/fXXU1dX163XcmYeAAAA9sI111yTRx99NJs2\n",
              "bcrZZ5+dQYMGZcOGDV2+W62mpibf+ta3cvXVV2fHjh2pq6vLihUruh3yiTPzAPC+s2XLlpx11ll7\n",
              "PP6JT3wiX/nKV/phIgCgt4l5AAAAKIyr2QMAAEBhxDwAAAAURswDAABAYcQ8AAAAFEbMAwAAQGHE\n",
              "PAAAABRGzAMAAEBhxDwAAAAURswDAABAYf4fOMWROhOKFfUAAAAASUVORK5CYII=\n",
              "\">\n",
              "      </div>\n",
              "      <script type=\"text/javascript\">\n",
              "        (() => {\n",
              "          const chartElement = document.getElementById(\"chart-c23ec065-0ddd-459e-ad69-5dd5f5e14c60\");\n",
              "          async function getCodeForChartHandler(event) {\n",
              "            const chartCodeResponse =  await google.colab.kernel.invokeFunction(\n",
              "                'getCodeForChart', [\"chart-c23ec065-0ddd-459e-ad69-5dd5f5e14c60\"], {});\n",
              "            const responseJson = chartCodeResponse.data['application/json'];\n",
              "            await google.colab.notebook.addCell(responseJson.code, 'code');\n",
              "          }\n",
              "          chartElement.onclick = getCodeForChartHandler;\n",
              "        })();\n",
              "      </script>\n",
              "      <style>\n",
              "        .colab-quickchart-chart-with-code  {\n",
              "            display: block;\n",
              "            float: left;\n",
              "            border: 1px solid transparent;\n",
              "        }\n",
              "\n",
              "        .colab-quickchart-chart-with-code:hover {\n",
              "            cursor: pointer;\n",
              "            border: 1px solid #aaa;\n",
              "        }\n",
              "      </style>"
            ]
          },
          "metadata": {}
        },
        {
          "output_type": "display_data",
          "data": {
            "text/plain": [
              "from matplotlib import pyplot as plt\n",
              "import seaborn as sns\n",
              "def _plot_series(series, series_name, series_index=0):\n",
              "  from matplotlib import pyplot as plt\n",
              "  import seaborn as sns\n",
              "  palette = list(sns.palettes.mpl_palette('Dark2'))\n",
              "  counted = (series['10_percent']\n",
              "                .value_counts()\n",
              "              .reset_index(name='counts')\n",
              "              .rename({'index': '10_percent'}, axis=1)\n",
              "              .sort_values('10_percent', ascending=True))\n",
              "  xs = counted['10_percent']\n",
              "  ys = counted['counts']\n",
              "  plt.plot(xs, ys, label=series_name, color=palette[series_index % len(palette)])\n",
              "\n",
              "fig, ax = plt.subplots(figsize=(10, 5.2), layout='constrained')\n",
              "df_sorted = _df_3.sort_values('10_percent', ascending=True)\n",
              "_plot_series(df_sorted, '')\n",
              "sns.despine(fig=fig, ax=ax)\n",
              "plt.xlabel('10_percent')\n",
              "_ = plt.ylabel('count()')"
            ],
            "text/html": [
              "      <div class=\"colab-quickchart-chart-with-code\" id=\"chart-44821fc7-11b9-473d-a8b1-dda94ed587a3\">\n",
              "        <img style=\"width: 180px;\" src=\"data:image/png;base64,iVBORw0KGgoAAAANSUhEUgAAA/MAAAITCAYAAABLz0yVAAAAOXRFWHRTb2Z0d2FyZQBNYXRwbG90\n",
              "bGliIHZlcnNpb24zLjcuMSwgaHR0cHM6Ly9tYXRwbG90bGliLm9yZy/bCgiHAAAACXBIWXMAAA9h\n",
              "AAAPYQGoP6dpAAAipUlEQVR4nO3de5DV9X3/8ddmwTUoAgYVLUVKFA0CLiIMojVqEyWOxQt1yIzG\n",
              "K+ItqYAJliom2o6MuTAxZlpUOiQYpUyF0k51ptW2U1G0QBSJUhOxrrdwMVUWsyqX3f39kZ/bEnZx\n",
              "N+zZ5aOPx8x3hv2ez/me9zLzHebJ93vOqWpubm4OAAAAUIxPdfcAAAAAQMeIeQAAACiMmAcAAIDC\n",
              "iHkAAAAojJgHAACAwoh5AAAAKIyYBwAAgMKIeQAAACjMxyLm77rrru4eAQAAALrMxyLmX3311e4e\n",
              "AQAAALrMxyLmAQAA4JNEzAMAAEBhxDwAAAAURswDAABAYcQ8AAAAFEbMAwAAQGHEPAAAABRGzAMA\n",
              "AEBhxDwAAAAURswDAABAYcQ8AAAAFEbMAwAAQGHEPAAAABRGzAMAAEBhxDwAAAAURswDAABAYcQ8\n",
              "AAAAFEbMAwAAQGHEPAAAABRGzAMAAEBhxDwAAAAURswDAABAYcQ8AAAAFEbMAwAAQGHEPAAAABRG\n",
              "zAMAAEBhxDwAAAAURswDAABAYcQ8AAAAFEbMAwAAQGHEPAAAABRGzAMAAEBhxDwAAAAURswDAABA\n",
              "YcQ8AAAAFEbMAwAAQGHEPAAAABRGzAMAAEBhxDwAAAAURswDAABAYcQ8AAAAFEbMAwAAQGHEPAAA\n",
              "ABRGzAMAAEBhxDwAAAAURswDAABAYcQ8AAAAFEbMAwAAQGHEPAAAABRGzAMAAEBhxDwAAAAURswD\n",
              "AABAYcQ8AAAAFEbMAwAAQGHEPAAAABRGzAMAAEBhxDwAAAAURswDAABAYcQ8AAAAFEbMAwAAQGEq\n",
              "GvODBw/OMccck9ra2tTW1mbx4sW7rfm3f/u3jB07NsOGDctxxx2XmTNnpqmpqZJjAQAAQNF6VPoF\n",
              "Fi9enNra2jYf79evX/72b/82Q4YMyQcffJAvfOELWbhwYS677LJKjwYAAABFqnjMf5RRo0a1/Hn/\n",
              "/fdPbW1t6urq2ly/bdu2bNu2bZd9jY2NlRoPAAAA9jkVf8/8JZdckhEjRuTKK6/MW2+9tce1Gzdu\n",
              "zEMPPZRzzjmnzTVz5sxJnz59dtlWrlzZ2WMDAADAPquiMf/4449n7dq1eeaZZ9K/f/9ceumlba7d\n",
              "unVr/viP/zgzZ87MiSee2Oa6WbNmpb6+fpdt7NixlRgfAAAA9kkVvc1+0KBBSZKePXtm2rRpGTp0\n",
              "aKvr3n333UyYMCHnnntuZsyYscdj1tTUpKamZpd91dXVnTMwAAAAFKBiV+YbGhqyZcuWlp8XLVq0\n",
              "y/vjP/TrX/86EyZMyIQJE3LLLbdUahwAAAD42KjYlflNmzZl0qRJaWxsTHNzc4YMGZKFCxcmSaZM\n",
              "mZKJEydm4sSJueuuu7Jy5co0NDRk6dKlSZILL7wwN998c6VGAwAAgKJVNTc3N3f3EHtrxowZmTt3\n",
              "bnePAQAAAF2i4p9mDwAAAHQuMQ8AAACFEfMAAABQGDEPAAAAhRHzAAAAUBgxDwAAAIUR8wAAAFAY\n",
              "MQ8AAACFEfMAAABQGDEPAAAAhRHzAAAAUBgxDwAAAIUR8wAAAFAYMQ8AAACFEfMAAABQGDEPAAAA\n",
              "hRHzAAAAUBgxDwAAAIUR8wAAAFAYMQ8AAACFEfMAAABQGDEPAAAAhRHzAAAAUBgxDwAAAIUR8wAA\n",
              "AFAYMQ8AAACFEfMAAABQGDEPAAAAhRHzAAAAUBgxDwAAAIUR8wAAAFAYMQ8AAACFEfMAAABQGDEP\n",
              "AAAAhRHzAAAAUBgxDwAAAIUR8wAAAFAYMQ8AAACFEfMAAABQGDEPAAAAhRHzAAAAUBgxDwAAAIUR\n",
              "8wAAAFAYMQ8AAACFEfMAAABQGDEPAAAAhRHzAAAAUBgxDwAAAIUR8wAAAFAYMQ8AAACFEfMAAABQ\n",
              "GDEPAAAAhRHzAAAAUBgxDwAAAIUR8wAAAFAYMQ8AAACFEfMAAABQGDEPAAAAhRHzAAAAUBgxDwAA\n",
              "AIUR8wAAAFAYMQ8AAACFEfMAAABQGDEPAAAAhRHzAAAAUBgxDwAAAIUR8wAAAFAYMQ8AAACFEfMA\n",
              "AABQGDEPAAAAhRHzAAAAUBgxDwAAAIUR8wAAAFAYMQ8AAACFEfMAAABQGDEPAAAAhRHzAAAAUBgx\n",
              "DwAAAIWpaMwPHjw4xxxzTGpra1NbW5vFixfvtqauri6nnXZa+vTpk9ra2kqOAwAAAB8LPSr9AosX\n",
              "L95jpB900EH5y7/8y9TX1+fmm2+u9DgAAABQvG6/zf7ggw/OKaeckgMOOKBd67dt25atW7fusjU2\n",
              "NlZ4SgAAANh3VDzmL7nkkowYMSJXXnll3nrrrb0+3pw5c9KnT59dtpUrV3bCpAAAAFCGisb8448/\n",
              "nrVr1+aZZ55J//79c+mll+71MWfNmpX6+vpdtrFjx3bCtAAAAFCGir5nftCgQUmSnj17Ztq0aRk6\n",
              "dOheH7OmpiY1NTW77Kuurt7r4wIAAEApKnZlvqGhIVu2bGn5edGiRRk1alSlXg4AAAA+MSp2ZX7T\n",
              "pk2ZNGlSGhsb09zcnCFDhmThwoVJkilTpmTixImZOHFi3nvvvQwdOjTbtm1LfX19Bg4cmK985SuZ\n",
              "M2dOpUYDAACAolUs5ocMGZJnn3221cfmz5/f8udevXrljTfeqNQYAAAA8LHT7V9NBwAAAHSMmAcA\n",
              "AIDCiHkAAAAojJgHAACAwoh5AAAAKIyYBwAAgMKIeQAAACiMmAcAAIDCiHkAAAAojJgHAACAwoh5\n",
              "AAAAKIyYBwAAgMKIeQAAACiMmAcAAIDCiHkAAAAojJgHAACAwoh5AAAAKIyYBwAAgMKIeQAAACiM\n",
              "mAcAAIDCiHkAAAAojJgHAACAwoh5AAAAKIyYBwAAgMKIeQAAACiMmAcAAIDCiHkAAAAojJgHAACA\n",
              "woh5AAAAKIyYBwAAgMKIeQAAACiMmAcAAIDCiHkAAAAojJgHAACAwoh5AAAAKIyYBwAAgMKIeQAA\n",
              "ACiMmAcAAIDCiHkAAAAojJgHAACAwoh5AAAAKIyYBwAAgMKIeQAAACiMmAcAAIDCiHkAAAAojJgH\n",
              "AACAwoh5AAAAKIyYBwAAgMKIeQAAACiMmAcAAIDCiHkAAAAojJgHAACAwoh5AAAAKIyYBwAAgMKI\n",
              "eQAAACiMmAcAAIDCiHkAAAAojJgHAACAwoh5AAAAKIyYBwAAgMKIeQAAACiMmAcAAIDCiHkAAAAo\n",
              "jJgHAACAwvT4XZ60bt26vPHGG/n0pz+dESNGpG/fvp08FgAAANCWdsf8u+++m+9+97u577770qtX\n",
              "rxx22GH54IMP8vLLL2fs2LG56aab8kd/9EeVnBUAAABIB2L+9NNPzyWXXJJnn302hx12WMv+pqam\n",
              "LF++PPPmzcv69etz9dVXV2RQAAAA4DfaHfNPPvlkampqdtv/qU99Kp///Ofz+c9/Ptu2bevU4QAA\n",
              "AIDdtfsD8FoL+d9lDQAAALB32h3z55xzTlasWNHqY1u2bMn3vve93HPPPZ02GAAAANC6dt9mf8cd\n",
              "d2TWrFlZt25dxowZ0/IBeC+++GLefPPNXH/99bniiisqOSsAAACQDsT8yJEj8/DDD+f111/Pf/zH\n",
              "f+SNN95Ir169ctFFF+WUU05Jjx6/07fcAQAAAB3U4QJ/5513cvHFF++yb+3atRk5cmSnDQUAAAC0\n",
              "rd3vmf/QZZdd1q59AAAAQGW0+8r85s2bs3Hjxrz//vv52c9+lubm5iRJfX19GhoaKjYgAAAAsKt2\n",
              "x/yiRYvy/e9/P7/85S8zceLElv19+vTJzJkzKzIcAAAAsLt2x/wNN9yQG264IX/xF3+R2bNnV3Im\n",
              "AAAAYA86/AF4s2fPTlNTUzZu3JidO3e27B80aFCnDgYAAAC0rsMfgPfjH/84ffv2zYgRIzJ69OiM\n",
              "Hj06J554YqtrBw8enGOOOSa1tbWpra3N4sWLW133N3/zNzn66KPz2c9+NldddVV27NjR0bEAAADg\n",
              "E6PDV+Zvv/32rFq1Ksccc0y71i9evDi1tbVtPv7KK69k9uzZeeaZZ3LYYYfl3HPPzb333pvrr7++\n",
              "o6MBAADAJ0KHr8z379+/3SHfHg899FAmTpyYAQMGpKqqKtdcc00WLVrU5vpt27Zl69atu2yNjY2d\n",
              "Ng8AAADs6zoc8+edd16+//3vZ/PmzbsEdVsuueSSjBgxIldeeWXeeuut3R5/7bXXcuSRR7b8PHjw\n",
              "4Lz22mttHm/OnDnp06fPLtvKlSs7+msAAABAsToc8zfffHNmzJiRAQMGpF+/funbt2/69evX6trH\n",
              "H388a9euzTPPPJP+/fvn0ksv3euBZ82alfr6+l22sWPH7vVxAQAAoBQdfs98U1NTu9d++An3PXv2\n",
              "zLRp0zJ06NBW17z88sstP9fV1e3xk/FrampSU1Ozy77q6up2zwQAAACl6/CV+fZqaGjIli1bWn5e\n",
              "tGhRRo0atdu6SZMm5R//8R+zcePGNDc3Z968efnyl79cqbEAAACgeB2+Mv+pT30qVVVVu+3/7Q+h\n",
              "27RpUyZNmpTGxsY0NzdnyJAhWbhwYZJkypQpmThxYiZOnJghQ4bktttuy8knn5wkOe2003L11Vf/\n",
              "Lr8LAAAAfCJUNTc3N3fkCQ0NDS1/fv/997Nw4cI0NjbmG9/4RqcP114zZszI3Llzu+31AQAAoCt1\n",
              "+Db7Aw44oGXr379/ZsyYkYceeqgSswEAAACt2Ov3zL/44ov51a9+1RmzAAAAAO3Q4ffM9+vXr+U9\n",
              "8zt37kyS3H333Z07FQAAANCmDsf8mjVr/vfJPXpkwIABvhoOAAAAulCHY/7II4/Me++91xL1/fr1\n",
              "S69evTp7LgAAAKANHY75FStWZNKkSRkwYECS33wF3ZIlS3LSSSd1+nAAAADA7joc8x9+ev2H3wu/\n",
              "YsWKTJ8+PU8//XSnDwcAAADsrsOfZv/++++3hHySjB8/Ph988EGnDgUAAAC0rcMxf+CBB+axxx5r\n",
              "+flf//Vfc8ABB3TqUAAAAEDbOnyb/Q9+8INccMEFLZ9g39TUlKVLl3b6YAAAAEDrOhzzv/zlL7N6\n",
              "9eps2rQpSXLYYYdl5cqVnT4YAAAA0LoO32Y/e/bsHHLIIRk+fHiGDx+e/v37Z/bs2ZWYDQAAAGhF\n",
              "h2P+t1VVVaWxsbEzZgEAAADaocMx37t376xYsaLl5yeffDK9e/fu1KEAAACAtnX4PfPf/va3c/75\n",
              "5+fYY49Nkrz00kv5+7//+04fDAAAAGhdh2P+pJNOyn/913/lqaeeSvKb75nv27dvZ88FAAAAtKHD\n",
              "MZ8k/fr1y9lnn93ZswAAAADtsNcfgAcAAAB0LTEPAAAAhRHzAAAAUBgxDwAAAIUR8wAAAFAYMQ8A\n",
              "AACFEfMAAABQGDEPAAAAhRHzAAAAUBgxDwAAAIUR8wAAAFAYMQ8AAACFEfMAAABQGDEPAAAAhRHz\n",
              "AAAAUBgxDwAAAIUR8wAAAFAYMQ8AAACFEfMAAABQGDEPAAAAhRHzAAAAUBgxDwAAAIUR8wAAAFAY\n",
              "MQ8AAACFEfMAAABQGDEPAAAAhRHzAAAAUBgxDwAAAIUR8wAAAFAYMQ8AAACFEfMAAABQGDEPAAAA\n",
              "hRHzAAAAUBgxDwAAAIUR8wAAAFAYMQ8AAACFEfMAAABQGDEPAAAAhRHzAAAAUBgxDwAAAIUR8wAA\n",
              "AFAYMQ8AAACFEfMAAABQGDEPAAAAhRHzAAAAUBgxDwAAAIUR8wAAAFAYMQ8AAACFEfMAAABQGDEP\n",
              "AAAAhRHzAAAAUBgxDwAAAIUR8wAAAFAYMQ8AAACFEfMAAABQGDEPAAAAhRHzAAAAUBgxDwAAAIUR\n",
              "8wAAAFAYMQ8AAACFEfMAAABQmC6J+QULFqSqqirLli1r9fHvfOc7GT58eIYNG5bzzz8/W7Zs6Yqx\n",
              "AAAAoEgVj/m6urrcd999GTduXKuPP/roo1mwYEGeeuqprFu3LqNHj87NN99c6bEAAACgWBWN+aam\n",
              "pkyZMiV33313ampqWl3z3HPP5ZRTTknv3r2TJGeffXbuv//+No+5bdu2bN26dZetsbGxIvMDAADA\n",
              "vqiiMT937tycfPLJGT16dJtrRo8encceeywbN25Mc3NzHnjggbz77rt5++23W10/Z86c9OnTZ5dt\n",
              "5cqVlfoVAAAAYJ9TsZh//vnns2TJktxyyy17XHf66afn61//es4555yMGzcuhxxySJKkR48era6f\n",
              "NWtW6uvrd9nGjh3b6fMDAADAvqr1Yu4Ey5cvT11dXY4++ugkycaNGzN16tRs2LAh11577S5rr7vu\n",
              "ulx33XVJkqeffjoDBw7MQQcd1Opxa2pqdrtlv7q6ugK/AQAAAOybKnZl/tprr82GDRtSV1eXurq6\n",
              "jBs3Lvfee+9uIZ8kGzZsSJK89957ufXWWzNz5sxKjQUAAADFq9iV+T259dZbc8QRR+Saa65Jkpx5\n",
              "5plpamrK9u3b85WvfCVf/epXu2MsAAAAKEJVc3Nzc3cPsbdmzJiRuXPndvcYAAAA0CUq/j3zAAAA\n",
              "QOcS8wAAAFAYMQ8AAACFEfMAAABQGDEPAAAAhRHzAAAAUBgxDwAAAIUR8wAAAFAYMQ8AAACFEfMA\n",
              "AABQGDEPAAAAhRHzAAAAUBgxDwAAAIUR8wAAAFAYMQ8AAACFEfMAAABQGDEPAAAAhRHzAAAAUBgx\n",
              "DwAAAIUR8wAAAFAYMQ8AAACFEfMAAABQGDEPAAAAhRHzAAAAUBgxDwAAAIUR8wAAAFAYMQ8AAACF\n",
              "EfMAAABQGDEPAAAAhRHzAAAAUBgxDwAAAIUR8wAAAFAYMQ8AAACFEfMAAABQGDEPAAAAhRHzAAAA\n",
              "UBgxDwAAAIUR8wAAAFAYMQ8AAACFEfMAAABQGDEPAAAAhRHzAAAAUBgxDwAAAIUR8wAAAFAYMQ8A\n",
              "AACFEfMAAABQGDEPAAAAhRHzAAAAUBgxDwAAAIUR8wAAAFAYMQ8AAACFEfMAAABQGDEPAAAAhRHz\n",
              "AAAAUBgxDwAAAIUR8wAAAFAYMQ8AAACFEfMAAABQGDEPAAAAhRHzAAAAUBgxDwAAAIUR8wAAAFAY\n",
              "MQ8AAACFEfMAAABQGDEPAAAAhRHzAAAAUBgxDwAAAIUR8wAAAFAYMQ8AAACFEfMAAABQGDEPAAAA\n",
              "hRHzAAAAUBgxDwAAAIUR8wAAAFAYMQ8AAACFEfMAAABQGDEPAAAAhRHzAAAAUJguifkFCxakqqoq\n",
              "y5Yta/XxO++8M8OGDUttbW3GjRuXlStXdsVYAAAAUKQelX6Burq63HfffRk3blyrj69ZsyZ/9Vd/\n",
              "lRdeeCEHHnhgfvKTn+SrX/2qoAcAAIA2VPTKfFNTU6ZMmZK77747NTU1ra6pqqrKjh070tDQkCTZ\n",
              "smVLBg4c2OYxt23blq1bt+6yNTY2VmR+AAAA2BdV9Mr83Llzc/LJJ2f06NFtrjn++OMzffr0/MEf\n",
              "/EEOPvjg1NTU5PHHH29z/Zw5c3Lbbbftsq+tq/4AAADwcVSxK/PPP/98lixZkltuuWWP61555ZUs\n",
              "Xbo069evzxtvvJHp06dn8uTJba6fNWtW6uvrd9nGjh3b2eMDAADAPqtiV+aXL1+eurq6HH300UmS\n",
              "jRs3ZurUqdmwYUOuvfbalnVLlizJiBEjcsQRRyRJLr/88nzta1/L9u3bs99+++123Jqamt1u2a+u\n",
              "rq7UrwEAAAD7nIpdmb/22muzYcOG1NXVpa6uLuPGjcu99967S8gnyZAhQ/Lkk0/m17/+dZLkn/7p\n",
              "nzJ06NBWQx4AAADogk+zb82tt96aI444Itdcc03OP//8rFq1KieeeGJqampywAEH5MEHH+yOsQAA\n",
              "AKAIVc3Nzc3dPcTemjFjRubOndvdYwAAAECXqOhX0wEAAACdT8wDAABAYcQ8AAAAFEbMAwAAQGHE\n",
              "PAAAABRGzAMAAEBhxDwAAAAURswDAABAYcQ8AAAAFEbMAwAAQGHEPAAAABRGzAMAAEBhxDwAAAAU\n",
              "RswDAABAYcQ8AAAAFEbMAwAAQGHEPAAAABRGzAMAAEBhxDwAAAAURswDAABAYcQ8AAAAFEbMAwAA\n",
              "QGHEPAAAABRGzAMAAEBhxDwAAAAURswDAABAYcQ8AAAAFEbMAwAAQGHEPAAAABRGzAMAAEBhxDwA\n",
              "AAAURswDAABAYcQ8AAAAFEbMAwAAQGHEPAAAABRGzAMAAEBhxDwAAAAURswDAABAYcQ8AAAAFEbM\n",
              "AwAAQGHEPAAAABRGzAMAAEBhxDwAAAAURswDAABAYcQ8AAAAFEbMAwAAQGHEPAAAABRGzAMAAEBh\n",
              "xDwAAAAURswDAABAYcQ8AAAAFEbMAwAAQGHEPAAAABRGzAMAAEBhxDwAAAAURswDAABAYcQ8AAAA\n",
              "FEbMAwAAQGHEPAAAABSmqrm5ubm7h9hbF1xwQQYPHtzdY8A+obGxMStXrszYsWNTXV3d3ePAPsX5\n",
              "Aa1zbkDbnB90hyOPPDI33HDDHtd8LGIe+F9bt25Nnz59Ul9fn4MOOqi7x4F9ivMDWufcgLY5P9hX\n",
              "uc0eAAAACiPmAQAAoDBiHgAAAAoj5uFjpqamJt/85jdTU1PT3aPAPsf5Aa1zbkDbnB/sq3wAHgAA\n",
              "ABTGlXkAAAAojJgHAACAwoh5AAAAKIyYh8ItWLAgVVVVWbZs2W6P/exnP8upp56aY489NsOHD88V\n",
              "V1yR999/v+uHhG6wp3PjlVdeyejRo1NbW5vhw4fnwgsvzDvvvNP1Q0I32dP58X9ddtllqaqqypYt\n",
              "W7pkLuhuezo36urqUl1dndra2pbt5Zdf7voh4f8T81Cwurq63HfffRk3blyrj++///754Q9/mBdf\n",
              "fDHPPfdcGhoacuedd3bxlND1PurcOOKII/LEE09kzZo1ef7553PEEUfkW9/6VtcOCd3ko86PDy1d\n",
              "ujQ9e/bsoqmg+7Xn3Ojdu3fWrFnTsn32s5/twglhV2IeCtXU1JQpU6bk7rvvbvOrUo4++uiMHDky\n",
              "SVJdXZ0xY8akrq6uC6eErteec6Ompiaf/vSnkySNjY1paGhIVVVVV44J3aI950eSbNq0KXfccUfm\n",
              "zp3bhdNB92nvuQH7EjEPhZo7d25OPvnkjB49ul3rGxoaMn/+/Jx77rkVngy6V3vPje3bt6e2tjb9\n",
              "+/fPSy+9lNtuu62LJoTu097z46qrrsq3v/3t9O7du4smg+7V3nOjoaEhY8aMyQknnJDbb789jY2N\n",
              "XTQh7K5Hdw8AdNzzzz+fJUuW5PHHH2/X+u3bt2fy5Mk588wzc/7551d4Oug+HTk39ttvv6xZsybb\n",
              "t2/P1772tdxzzz2ZOXNmF0wJ3aO958f8+fMzaNCgnHHGGV00GXSv9p4bhx9+eN58880ceuihefvt\n",
              "tzN58uR873vf828H3caVeSjQ8uXLU1dXl6OPPjqDBw/O008/nalTp+av//qvd1u7Y8eOTJ48OYcf\n",
              "fnjuuuuubpgWuk5Hzo0P7bfffrn88stz//33d+Gk0PXae378+7//e/7hH/4hgwcPzuDBg5MkI0eO\n",
              "zLPPPtsNU0PltffcqKmpyaGHHpokOfjgg3PFFVdk+fLl3TEyJEmqmpubm7t7CGDvnHbaaZk2bVrO\n",
              "O++8Xfbv3LkzkydPTt++fTN//nzvCeYTp61z49VXX80hhxySXr16pampKd/4xjeycePGPPDAA90z\n",
              "KHSDts6P31ZVVZV33nknffv27ZK5oLu1dW5s3rw5/fr1S8+ePbNt27ZcfPHF+dznPpfbb7+9ewbl\n",
              "E8+VefiYufXWWzNv3rwkyeLFi7N06dKsXr06o0aNSm1tba6//vpunhC6x/89N9auXZtx48Zl5MiR\n",
              "GTlyZN5666384Ac/6OYJofv83/MD+F//99x44oknMmrUqBx//PE54YQTMmDAgNx8883dPCGfZK7M\n",
              "AwAAQGFcmQcAAIDCiHkAAAAojJgHAACAwoh5AAAAKIyYB4DC/Omf/mkGDx6cqqqqrFmzpmX/Sy+9\n",
              "lPHjx2fo0KEZM2ZMXnjhhe4bci9961vfygcffNDdYwDAPkvMA0Bh/uRP/iRPPPFEjjzyyF32X331\n",
              "1Zk6dWp+8Ytf5Kabbspll11W8VmamprS1NTU6ce97bbbxDwA7IGYB4DCnHrqqRk4cOAu+zZv3pzV\n",
              "q1fn4osvTpJMmjQpr7/+etavX9/mcX70ox/ljDPOyMSJEzNs2LCceuqpqaura3n8u9/9bsaOHZsT\n",
              "TjghEyZMyKuvvprkN1fNJ02alLPOOivDhw/Phg0b8vDDD2fMmDE5/vjjU1tbm//8z/9MkqxatSpn\n",
              "nHFGTjzxxIwaNSp/93d/lySpq6tL3759881vfjOjR4/OUUcdlUceeSRJcs011yRJ/vAP/zC1tbXZ\n",
              "vHlz5/zFAUCFtHXX3J688847ueiiizJ06NAcd9xx+bM/+7MOvaaYB4CPgddffz2HH354evTokSSp\n",
              "qqrKoEGD8tprr+3xeU8++WTuvPPOrFu3Luecc06mTp2aJHnwwQfz85//PE899VSeeeaZXHTRRbnu\n",
              "uutanvfUU09l4cKFWbduXRoaGnL55Zfn/vvvz3PPPZdVq1bl2GOPzZYtWzJ16tQ88MADWb16dR59\n",
              "9NHceOONefPNN5Mk9fX1GTlyZH7605/mhz/8YaZPn54kmTdvXpJk+fLlWbNmTQ499NBO//sCgM7U\n",
              "1l1ze3LFFVdk1KhR+cUvfpEXXngh06ZN69Br9ujgjADAx8j48ePzuc99LkkyderU3HLLLWlsbMyy\n",
              "ZcuyatWqjB49OknS2Ni4y/POPvvsHHbYYUmSRx99NBMmTMixxx6bJOnZs2f69OmTRx55JP/93/+d\n",
              "L33pS7s89+c//3mGDBmS/fffPxdccEGS5KSTTsrLL79c0d8VACrl1FNPbXX/qlWrctNNN2Xr1q1p\n",
              "bGzMn//5n+fCCy/M+vXrs3r16ixZsqRl7YABAzr0mmIeAD4Gfv/3fz8bNmzIzp0706NHjzQ3N+e1\n",
              "117LoEGDfqfjNTc3Z9asWS1X6n/bgQce2K5jHHfccVmxYsVuj9XV1aWmpiZVVVVJkurq6t3+wwAA\n",
              "SvbhHWqPPPJIDj/88PzqV7/KCSeckPHjx2fdunUZOHBgrr322qxevTqf+cxncuedd2bUqFHtPr7b\n",
              "7AHgY+DQQw/NCSeckJ/85CdJkiVLlmTgwIE56qij9vi8p556Ki+++GKSZP78+Tn99NNTXV2d8847\n",
              "L/Pmzcvbb7+dJNmxY0eeffbZVo9x1lln5Z//+Z9bjrNjx47U19dn/PjxeeWVV/LYY4+1rF2zZk22\n",
              "b9/+kb9P7969U19f/9G/OADso1asWNFyh1ptbW2+8IUvJPnNHWo7d+7MypUr8+Uvfzk//elPM336\n",
              "9JxzzjnZsWNHu4/vyjwAFObqq6/Oww8/nI0bN+ass85K7969s379+txzzz257LLLcscdd+Sggw7K\n",
              "ggULPvJY48ePz0033ZT169fnM5/5TBYuXJgkueiii/I///M/Of3005MkO3fubHlv32876qijsmDB\n",
              "glx88cXZsWNHqqurM2/evIwdOzYPP/xwvv71r+fGG2/Mjh07MmjQoCxbtuwj57rxxhvzxS9+Mb16\n",
              "9cq//Mu/eN88AMXZ0x1qq1evzu/93u+1/Dv7pS99Kdu3b8+rr776kf8R/6Gq5ubm5k6dGAAowo9+\n",
              "9KMsW7asXXENAHy0wYMHZ9myZamtrc0777yTYcOG5f7772+5Kr9mzZoMGzYsPXv2zIgRI/Lggw9m\n",
              "5MiRWblyZc4+++y8+eabqampaddruTIPAAAAe6Gtu+baukOtqqoqP/7xj3PVVVfl/fffT01NTZYs\n",
              "WdLukE9cmQeAj7XNmzfnzDPP3G3/F7/4xXznO9/phokAgM4g5gEAAKAwPs0eAAAACiPmAQAAoDBi\n",
              "HgAAAAoj5gEAAKAwYh4AAAAKI+YBAACgMGIeAAAACiPmAQAAoDBiHgAAAArz/wDggqo1MezC2AAA\n",
              "AABJRU5ErkJggg==\n",
              "\">\n",
              "      </div>\n",
              "      <script type=\"text/javascript\">\n",
              "        (() => {\n",
              "          const chartElement = document.getElementById(\"chart-44821fc7-11b9-473d-a8b1-dda94ed587a3\");\n",
              "          async function getCodeForChartHandler(event) {\n",
              "            const chartCodeResponse =  await google.colab.kernel.invokeFunction(\n",
              "                'getCodeForChart', [\"chart-44821fc7-11b9-473d-a8b1-dda94ed587a3\"], {});\n",
              "            const responseJson = chartCodeResponse.data['application/json'];\n",
              "            await google.colab.notebook.addCell(responseJson.code, 'code');\n",
              "          }\n",
              "          chartElement.onclick = getCodeForChartHandler;\n",
              "        })();\n",
              "      </script>\n",
              "      <style>\n",
              "        .colab-quickchart-chart-with-code  {\n",
              "            display: block;\n",
              "            float: left;\n",
              "            border: 1px solid transparent;\n",
              "        }\n",
              "\n",
              "        .colab-quickchart-chart-with-code:hover {\n",
              "            cursor: pointer;\n",
              "            border: 1px solid #aaa;\n",
              "        }\n",
              "      </style>"
            ]
          },
          "metadata": {}
        }
      ]
    },
    {
      "cell_type": "code",
      "source": [
        "def get_percent_missing(dataframe):\n",
        "\n",
        "    percent_missing = dataframe.isnull().sum() * 100 / len(dataframe)\n",
        "    missing_value_df = pd.DataFrame({'column_name': dataframe.columns,\n",
        "                                     'percent_missing': percent_missing})\n",
        "    return missing_value_df"
      ],
      "metadata": {
        "id": "NyddMucojDuE"
      },
      "execution_count": 45,
      "outputs": []
    },
    {
      "cell_type": "code",
      "source": [
        "print(get_percent_missing(df_imputation))"
      ],
      "metadata": {
        "colab": {
          "base_uri": "https://localhost:8080/"
        },
        "id": "E-6aRVDIjPlY",
        "outputId": "806c5f73-c929-4be9-80c4-bc30ca2be7a3"
      },
      "execution_count": 46,
      "outputs": [
        {
          "output_type": "stream",
          "name": "stdout",
          "text": [
            "           column_name  percent_missing\n",
            "price            price              0.0\n",
            "1_percent    1_percent              0.0\n",
            "5_percent    5_percent              0.0\n",
            "10_percent  10_percent              0.0\n"
          ]
        }
      ]
    },
    {
      "cell_type": "code",
      "source": [
        "def create_missing(dataframe, percent, col):\n",
        "    dataframe.loc[dataframe.sample(frac = percent).index, col] = np.nan"
      ],
      "metadata": {
        "id": "3svDTM0wjST6"
      },
      "execution_count": 47,
      "outputs": []
    },
    {
      "cell_type": "code",
      "source": [
        "create_missing(df_imputation, 0.01, '1_percent')\n",
        "create_missing(df_imputation, 0.05, '5_percent')\n",
        "create_missing(df_imputation, 0.1, '10_percent')"
      ],
      "metadata": {
        "id": "-f53z9ZZjWzq"
      },
      "execution_count": 48,
      "outputs": []
    },
    {
      "cell_type": "code",
      "source": [
        "print(get_percent_missing(df_imputation))"
      ],
      "metadata": {
        "colab": {
          "base_uri": "https://localhost:8080/"
        },
        "id": "IRhBpkGjjZXD",
        "outputId": "a6ac7104-ae0e-4730-e48c-6108fb017d1c"
      },
      "execution_count": 49,
      "outputs": [
        {
          "output_type": "stream",
          "name": "stdout",
          "text": [
            "           column_name  percent_missing\n",
            "price            price         0.000000\n",
            "1_percent    1_percent         0.917431\n",
            "5_percent    5_percent         4.954128\n",
            "10_percent  10_percent         9.908257\n"
          ]
        }
      ]
    },
    {
      "cell_type": "code",
      "source": [
        "# Store Index of NaN values in each coloumns\n",
        "number_1_idx = list(np.where(df_imputation['1_percent'].isna())[0])\n",
        "number_5_idx = list(np.where(df_imputation['5_percent'].isna())[0])\n",
        "number_10_idx = list(np.where(df_imputation['10_percent'].isna())[0])"
      ],
      "metadata": {
        "id": "WrA37sh1jdal"
      },
      "execution_count": 50,
      "outputs": []
    },
    {
      "cell_type": "code",
      "source": [
        "print(f\"Length of number_1_idx is {len(number_1_idx)} and it contains {(len(number_1_idx)/len(df_imputation['1_percent']))*100}% of total data in column | Total rows: {len(df_imputation['1_percent'])}\")\n",
        "print(f\"Length of number_5_idx is {len(number_5_idx)} and it contains {(len(number_5_idx)/len(df_imputation['1_percent']))*100}% of total data in column | Total rows: {len(df_imputation['1_percent'])}\")\n",
        "print(f\"Length of number_10_idx is {len(number_10_idx)} and it contains {(len(number_10_idx)/len(df_imputation['1_percent']))*100}% of total data in column | Total rows: {len(df_imputation['1_percent'])}\")"
      ],
      "metadata": {
        "colab": {
          "base_uri": "https://localhost:8080/"
        },
        "id": "e4svXoBcjhm_",
        "outputId": "1309ecbc-4869-4c2e-c834-a8be3fd667ea"
      },
      "execution_count": 51,
      "outputs": [
        {
          "output_type": "stream",
          "name": "stdout",
          "text": [
            "Length of number_1_idx is 5 and it contains 0.9174311926605505% of total data in column | Total rows: 545\n",
            "Length of number_5_idx is 27 and it contains 4.954128440366973% of total data in column | Total rows: 545\n",
            "Length of number_10_idx is 54 and it contains 9.908256880733946% of total data in column | Total rows: 545\n"
          ]
        }
      ]
    },
    {
      "cell_type": "markdown",
      "source": [
        "**Method 1: KNN Imputation**"
      ],
      "metadata": {
        "id": "iBQ6HWPZjmEH"
      }
    },
    {
      "cell_type": "code",
      "source": [
        "#Creating a seperate dataframe for performing the KNN imputation\n",
        "from sklearn.impute import KNNImputer\n",
        "from sklearn.preprocessing import MinMaxScaler\n",
        "df_imputation1 = df_imputation[['1_percent','5_percent','10_percent']]\n",
        "imputer = KNNImputer(n_neighbors=5)\n",
        "imputed_number_df = pd.DataFrame(imputer.fit_transform(df_imputation1), columns = df_imputation1.columns)"
      ],
      "metadata": {
        "id": "jDcpN7ZvjpjG"
      },
      "execution_count": 52,
      "outputs": []
    },
    {
      "cell_type": "code",
      "source": [
        "# imputed_number_df.sample(10)\n",
        "imputed_number_df.head()"
      ],
      "metadata": {
        "colab": {
          "base_uri": "https://localhost:8080/",
          "height": 206
        },
        "id": "jLKPi5l6jvGQ",
        "outputId": "7422b58f-ed9f-4f77-98c0-423f0b1405f6"
      },
      "execution_count": 53,
      "outputs": [
        {
          "output_type": "execute_result",
          "data": {
            "text/plain": [
              "   1_percent  5_percent  10_percent\n",
              "0  4340000.0  4340000.0   4340000.0\n",
              "1  4340000.0  4340000.0   4340000.0\n",
              "2  4340000.0  4340000.0   4340000.0\n",
              "3  4340000.0  4340000.0   4340000.0\n",
              "4  4340000.0  4340000.0   4340000.0"
            ],
            "text/html": [
              "\n",
              "  <div id=\"df-b1b43719-a87c-4ddf-9f19-7cbe574d0cb8\" class=\"colab-df-container\">\n",
              "    <div>\n",
              "<style scoped>\n",
              "    .dataframe tbody tr th:only-of-type {\n",
              "        vertical-align: middle;\n",
              "    }\n",
              "\n",
              "    .dataframe tbody tr th {\n",
              "        vertical-align: top;\n",
              "    }\n",
              "\n",
              "    .dataframe thead th {\n",
              "        text-align: right;\n",
              "    }\n",
              "</style>\n",
              "<table border=\"1\" class=\"dataframe\">\n",
              "  <thead>\n",
              "    <tr style=\"text-align: right;\">\n",
              "      <th></th>\n",
              "      <th>1_percent</th>\n",
              "      <th>5_percent</th>\n",
              "      <th>10_percent</th>\n",
              "    </tr>\n",
              "  </thead>\n",
              "  <tbody>\n",
              "    <tr>\n",
              "      <th>0</th>\n",
              "      <td>4340000.0</td>\n",
              "      <td>4340000.0</td>\n",
              "      <td>4340000.0</td>\n",
              "    </tr>\n",
              "    <tr>\n",
              "      <th>1</th>\n",
              "      <td>4340000.0</td>\n",
              "      <td>4340000.0</td>\n",
              "      <td>4340000.0</td>\n",
              "    </tr>\n",
              "    <tr>\n",
              "      <th>2</th>\n",
              "      <td>4340000.0</td>\n",
              "      <td>4340000.0</td>\n",
              "      <td>4340000.0</td>\n",
              "    </tr>\n",
              "    <tr>\n",
              "      <th>3</th>\n",
              "      <td>4340000.0</td>\n",
              "      <td>4340000.0</td>\n",
              "      <td>4340000.0</td>\n",
              "    </tr>\n",
              "    <tr>\n",
              "      <th>4</th>\n",
              "      <td>4340000.0</td>\n",
              "      <td>4340000.0</td>\n",
              "      <td>4340000.0</td>\n",
              "    </tr>\n",
              "  </tbody>\n",
              "</table>\n",
              "</div>\n",
              "    <div class=\"colab-df-buttons\">\n",
              "\n",
              "  <div class=\"colab-df-container\">\n",
              "    <button class=\"colab-df-convert\" onclick=\"convertToInteractive('df-b1b43719-a87c-4ddf-9f19-7cbe574d0cb8')\"\n",
              "            title=\"Convert this dataframe to an interactive table.\"\n",
              "            style=\"display:none;\">\n",
              "\n",
              "  <svg xmlns=\"http://www.w3.org/2000/svg\" height=\"24px\" viewBox=\"0 -960 960 960\">\n",
              "    <path d=\"M120-120v-720h720v720H120Zm60-500h600v-160H180v160Zm220 220h160v-160H400v160Zm0 220h160v-160H400v160ZM180-400h160v-160H180v160Zm440 0h160v-160H620v160ZM180-180h160v-160H180v160Zm440 0h160v-160H620v160Z\"/>\n",
              "  </svg>\n",
              "    </button>\n",
              "\n",
              "  <style>\n",
              "    .colab-df-container {\n",
              "      display:flex;\n",
              "      gap: 12px;\n",
              "    }\n",
              "\n",
              "    .colab-df-convert {\n",
              "      background-color: #E8F0FE;\n",
              "      border: none;\n",
              "      border-radius: 50%;\n",
              "      cursor: pointer;\n",
              "      display: none;\n",
              "      fill: #1967D2;\n",
              "      height: 32px;\n",
              "      padding: 0 0 0 0;\n",
              "      width: 32px;\n",
              "    }\n",
              "\n",
              "    .colab-df-convert:hover {\n",
              "      background-color: #E2EBFA;\n",
              "      box-shadow: 0px 1px 2px rgba(60, 64, 67, 0.3), 0px 1px 3px 1px rgba(60, 64, 67, 0.15);\n",
              "      fill: #174EA6;\n",
              "    }\n",
              "\n",
              "    .colab-df-buttons div {\n",
              "      margin-bottom: 4px;\n",
              "    }\n",
              "\n",
              "    [theme=dark] .colab-df-convert {\n",
              "      background-color: #3B4455;\n",
              "      fill: #D2E3FC;\n",
              "    }\n",
              "\n",
              "    [theme=dark] .colab-df-convert:hover {\n",
              "      background-color: #434B5C;\n",
              "      box-shadow: 0px 1px 3px 1px rgba(0, 0, 0, 0.15);\n",
              "      filter: drop-shadow(0px 1px 2px rgba(0, 0, 0, 0.3));\n",
              "      fill: #FFFFFF;\n",
              "    }\n",
              "  </style>\n",
              "\n",
              "    <script>\n",
              "      const buttonEl =\n",
              "        document.querySelector('#df-b1b43719-a87c-4ddf-9f19-7cbe574d0cb8 button.colab-df-convert');\n",
              "      buttonEl.style.display =\n",
              "        google.colab.kernel.accessAllowed ? 'block' : 'none';\n",
              "\n",
              "      async function convertToInteractive(key) {\n",
              "        const element = document.querySelector('#df-b1b43719-a87c-4ddf-9f19-7cbe574d0cb8');\n",
              "        const dataTable =\n",
              "          await google.colab.kernel.invokeFunction('convertToInteractive',\n",
              "                                                    [key], {});\n",
              "        if (!dataTable) return;\n",
              "\n",
              "        const docLinkHtml = 'Like what you see? Visit the ' +\n",
              "          '<a target=\"_blank\" href=https://colab.research.google.com/notebooks/data_table.ipynb>data table notebook</a>'\n",
              "          + ' to learn more about interactive tables.';\n",
              "        element.innerHTML = '';\n",
              "        dataTable['output_type'] = 'display_data';\n",
              "        await google.colab.output.renderOutput(dataTable, element);\n",
              "        const docLink = document.createElement('div');\n",
              "        docLink.innerHTML = docLinkHtml;\n",
              "        element.appendChild(docLink);\n",
              "      }\n",
              "    </script>\n",
              "  </div>\n",
              "\n",
              "\n",
              "<div id=\"df-fe2cc808-7e54-40f0-bd50-4a27c94c9150\">\n",
              "  <button class=\"colab-df-quickchart\" onclick=\"quickchart('df-fe2cc808-7e54-40f0-bd50-4a27c94c9150')\"\n",
              "            title=\"Suggest charts\"\n",
              "            style=\"display:none;\">\n",
              "\n",
              "<svg xmlns=\"http://www.w3.org/2000/svg\" height=\"24px\"viewBox=\"0 0 24 24\"\n",
              "     width=\"24px\">\n",
              "    <g>\n",
              "        <path d=\"M19 3H5c-1.1 0-2 .9-2 2v14c0 1.1.9 2 2 2h14c1.1 0 2-.9 2-2V5c0-1.1-.9-2-2-2zM9 17H7v-7h2v7zm4 0h-2V7h2v10zm4 0h-2v-4h2v4z\"/>\n",
              "    </g>\n",
              "</svg>\n",
              "  </button>\n",
              "\n",
              "<style>\n",
              "  .colab-df-quickchart {\n",
              "      --bg-color: #E8F0FE;\n",
              "      --fill-color: #1967D2;\n",
              "      --hover-bg-color: #E2EBFA;\n",
              "      --hover-fill-color: #174EA6;\n",
              "      --disabled-fill-color: #AAA;\n",
              "      --disabled-bg-color: #DDD;\n",
              "  }\n",
              "\n",
              "  [theme=dark] .colab-df-quickchart {\n",
              "      --bg-color: #3B4455;\n",
              "      --fill-color: #D2E3FC;\n",
              "      --hover-bg-color: #434B5C;\n",
              "      --hover-fill-color: #FFFFFF;\n",
              "      --disabled-bg-color: #3B4455;\n",
              "      --disabled-fill-color: #666;\n",
              "  }\n",
              "\n",
              "  .colab-df-quickchart {\n",
              "    background-color: var(--bg-color);\n",
              "    border: none;\n",
              "    border-radius: 50%;\n",
              "    cursor: pointer;\n",
              "    display: none;\n",
              "    fill: var(--fill-color);\n",
              "    height: 32px;\n",
              "    padding: 0;\n",
              "    width: 32px;\n",
              "  }\n",
              "\n",
              "  .colab-df-quickchart:hover {\n",
              "    background-color: var(--hover-bg-color);\n",
              "    box-shadow: 0 1px 2px rgba(60, 64, 67, 0.3), 0 1px 3px 1px rgba(60, 64, 67, 0.15);\n",
              "    fill: var(--button-hover-fill-color);\n",
              "  }\n",
              "\n",
              "  .colab-df-quickchart-complete:disabled,\n",
              "  .colab-df-quickchart-complete:disabled:hover {\n",
              "    background-color: var(--disabled-bg-color);\n",
              "    fill: var(--disabled-fill-color);\n",
              "    box-shadow: none;\n",
              "  }\n",
              "\n",
              "  .colab-df-spinner {\n",
              "    border: 2px solid var(--fill-color);\n",
              "    border-color: transparent;\n",
              "    border-bottom-color: var(--fill-color);\n",
              "    animation:\n",
              "      spin 1s steps(1) infinite;\n",
              "  }\n",
              "\n",
              "  @keyframes spin {\n",
              "    0% {\n",
              "      border-color: transparent;\n",
              "      border-bottom-color: var(--fill-color);\n",
              "      border-left-color: var(--fill-color);\n",
              "    }\n",
              "    20% {\n",
              "      border-color: transparent;\n",
              "      border-left-color: var(--fill-color);\n",
              "      border-top-color: var(--fill-color);\n",
              "    }\n",
              "    30% {\n",
              "      border-color: transparent;\n",
              "      border-left-color: var(--fill-color);\n",
              "      border-top-color: var(--fill-color);\n",
              "      border-right-color: var(--fill-color);\n",
              "    }\n",
              "    40% {\n",
              "      border-color: transparent;\n",
              "      border-right-color: var(--fill-color);\n",
              "      border-top-color: var(--fill-color);\n",
              "    }\n",
              "    60% {\n",
              "      border-color: transparent;\n",
              "      border-right-color: var(--fill-color);\n",
              "    }\n",
              "    80% {\n",
              "      border-color: transparent;\n",
              "      border-right-color: var(--fill-color);\n",
              "      border-bottom-color: var(--fill-color);\n",
              "    }\n",
              "    90% {\n",
              "      border-color: transparent;\n",
              "      border-bottom-color: var(--fill-color);\n",
              "    }\n",
              "  }\n",
              "</style>\n",
              "\n",
              "  <script>\n",
              "    async function quickchart(key) {\n",
              "      const quickchartButtonEl =\n",
              "        document.querySelector('#' + key + ' button');\n",
              "      quickchartButtonEl.disabled = true;  // To prevent multiple clicks.\n",
              "      quickchartButtonEl.classList.add('colab-df-spinner');\n",
              "      try {\n",
              "        const charts = await google.colab.kernel.invokeFunction(\n",
              "            'suggestCharts', [key], {});\n",
              "      } catch (error) {\n",
              "        console.error('Error during call to suggestCharts:', error);\n",
              "      }\n",
              "      quickchartButtonEl.classList.remove('colab-df-spinner');\n",
              "      quickchartButtonEl.classList.add('colab-df-quickchart-complete');\n",
              "    }\n",
              "    (() => {\n",
              "      let quickchartButtonEl =\n",
              "        document.querySelector('#df-fe2cc808-7e54-40f0-bd50-4a27c94c9150 button');\n",
              "      quickchartButtonEl.style.display =\n",
              "        google.colab.kernel.accessAllowed ? 'block' : 'none';\n",
              "    })();\n",
              "  </script>\n",
              "</div>\n",
              "\n",
              "    </div>\n",
              "  </div>\n"
            ]
          },
          "metadata": {},
          "execution_count": 53
        }
      ]
    },
    {
      "cell_type": "code",
      "source": [
        "print(get_percent_missing(imputed_number_df))"
      ],
      "metadata": {
        "colab": {
          "base_uri": "https://localhost:8080/"
        },
        "id": "R9dhTgJvjySW",
        "outputId": "c2435243-5105-42f9-d693-46ddfcbd3115"
      },
      "execution_count": 54,
      "outputs": [
        {
          "output_type": "stream",
          "name": "stdout",
          "text": [
            "           column_name  percent_missing\n",
            "1_percent    1_percent              0.0\n",
            "5_percent    5_percent              0.0\n",
            "10_percent  10_percent              0.0\n"
          ]
        }
      ]
    },
    {
      "cell_type": "code",
      "source": [
        "price = data[\"price\"]\n",
        "imputed_mean = pd.concat([price,imputed_number_df])\n",
        "imputed_mean.columns = [\"Price\",\"1_Percent\",\"5_Percent\",\"10_Percent\"]\n",
        "imputed_mean.var()"
      ],
      "metadata": {
        "colab": {
          "base_uri": "https://localhost:8080/"
        },
        "id": "k9yCIHWmj0gh",
        "outputId": "ad7cbbe8-be3b-46fd-d513-ce81768158f5"
      },
      "execution_count": 55,
      "outputs": [
        {
          "output_type": "execute_result",
          "data": {
            "text/plain": [
              "Price         2.479172e+12\n",
              "1_Percent     2.479264e+12\n",
              "5_Percent     2.478222e+12\n",
              "10_Percent    2.478538e+12\n",
              "dtype: float64"
            ]
          },
          "metadata": {},
          "execution_count": 55
        }
      ]
    },
    {
      "cell_type": "markdown",
      "source": [
        "**Method 2: Mean based Imputation with Simpleimputer**"
      ],
      "metadata": {
        "id": "9EDSeApbkJJV"
      }
    },
    {
      "cell_type": "code",
      "source": [
        "df_imputation_mean = df_imputation[['1_percent','5_percent','10_percent']]"
      ],
      "metadata": {
        "id": "3DGkkUB3kLhU"
      },
      "execution_count": 56,
      "outputs": []
    },
    {
      "cell_type": "code",
      "source": [
        "from sklearn.impute import SimpleImputer\n",
        "imp_mean = SimpleImputer( strategy='mean') #for median imputation replace 'mean' with 'median'\n",
        "imp_mean.fit(df_imputation_mean)\n",
        "imputed_train_df = imp_mean.transform(df_imputation_mean)"
      ],
      "metadata": {
        "id": "szn--1S6kPIt"
      },
      "execution_count": 57,
      "outputs": []
    },
    {
      "cell_type": "code",
      "source": [
        "imputed_mean = pd.DataFrame(imp_mean.fit_transform(df_imputation_mean), columns = df_imputation_mean.columns)\n",
        "print(get_percent_missing(imputed_mean))"
      ],
      "metadata": {
        "colab": {
          "base_uri": "https://localhost:8080/"
        },
        "id": "XVoIqXC_kSJf",
        "outputId": "e499c651-b51d-4cd6-e2f7-c8aec505099c"
      },
      "execution_count": 58,
      "outputs": [
        {
          "output_type": "stream",
          "name": "stdout",
          "text": [
            "           column_name  percent_missing\n",
            "1_percent    1_percent              0.0\n",
            "5_percent    5_percent              0.0\n",
            "10_percent  10_percent              0.0\n"
          ]
        }
      ]
    },
    {
      "cell_type": "code",
      "source": [
        "price = data[\"price\"]\n",
        "combined_mean = pd.concat([price,imputed_mean])\n",
        "combined_mean.mean()"
      ],
      "metadata": {
        "colab": {
          "base_uri": "https://localhost:8080/"
        },
        "id": "xUJJ8GmvkU6P",
        "outputId": "f3f9a300-772d-453f-f159-335ada62ff02"
      },
      "execution_count": 60,
      "outputs": [
        {
          "output_type": "execute_result",
          "data": {
            "text/plain": [
              "0             4.593489e+06\n",
              "1_percent     4.589082e+06\n",
              "5_percent     4.616175e+06\n",
              "10_percent    4.598307e+06\n",
              "dtype: float64"
            ]
          },
          "metadata": {},
          "execution_count": 60
        }
      ]
    },
    {
      "cell_type": "markdown",
      "source": [
        "**Method 3: Imputation Using Multivariate Imputation by Chained Equation (MICE)**"
      ],
      "metadata": {
        "id": "6z431yyAkex0"
      }
    },
    {
      "cell_type": "code",
      "source": [
        "!pip install impyute"
      ],
      "metadata": {
        "colab": {
          "base_uri": "https://localhost:8080/"
        },
        "id": "j2xi9MnrlONm",
        "outputId": "d9a6d83c-d834-47fd-93e1-296987e1f6e5"
      },
      "execution_count": 64,
      "outputs": [
        {
          "output_type": "stream",
          "name": "stdout",
          "text": [
            "Collecting impyute\n",
            "  Downloading impyute-0.0.8-py2.py3-none-any.whl (31 kB)\n",
            "Requirement already satisfied: numpy in /usr/local/lib/python3.10/dist-packages (from impyute) (1.23.5)\n",
            "Requirement already satisfied: scipy in /usr/local/lib/python3.10/dist-packages (from impyute) (1.11.4)\n",
            "Requirement already satisfied: scikit-learn in /usr/local/lib/python3.10/dist-packages (from impyute) (1.2.2)\n",
            "Requirement already satisfied: joblib>=1.1.1 in /usr/local/lib/python3.10/dist-packages (from scikit-learn->impyute) (1.3.2)\n",
            "Requirement already satisfied: threadpoolctl>=2.0.0 in /usr/local/lib/python3.10/dist-packages (from scikit-learn->impyute) (3.2.0)\n",
            "Installing collected packages: impyute\n",
            "Successfully installed impyute-0.0.8\n"
          ]
        }
      ]
    },
    {
      "cell_type": "code",
      "source": [
        "df_imputation_mice = df_imputation[['1_percent','5_percent','10_percent']]\n",
        "print(get_percent_missing(df_imputation_mice))"
      ],
      "metadata": {
        "colab": {
          "base_uri": "https://localhost:8080/"
        },
        "id": "dyPLvyX9klAz",
        "outputId": "3f0ddf03-5182-4b3b-80a0-b8440e956f0b"
      },
      "execution_count": 61,
      "outputs": [
        {
          "output_type": "stream",
          "name": "stdout",
          "text": [
            "           column_name  percent_missing\n",
            "1_percent    1_percent         0.917431\n",
            "5_percent    5_percent         4.954128\n",
            "10_percent  10_percent         9.908257\n"
          ]
        }
      ]
    },
    {
      "cell_type": "code",
      "source": [
        "from impyute.imputation.cs import mice\n",
        "\n",
        "# start the MICE training\n",
        "imputed_training=mice(df_imputation_mice.values)"
      ],
      "metadata": {
        "id": "T3l-co3ekpaA"
      },
      "execution_count": 65,
      "outputs": []
    },
    {
      "cell_type": "code",
      "source": [
        "imputed_training = pd.DataFrame(imputed_training)\n",
        "imputed_training.columns = (\"1_percent\",\"5_percent\",\"10_percent\")"
      ],
      "metadata": {
        "id": "tU_Rv8xLlY0j"
      },
      "execution_count": 66,
      "outputs": []
    },
    {
      "cell_type": "code",
      "source": [
        "print(get_percent_missing(imputed_training))"
      ],
      "metadata": {
        "colab": {
          "base_uri": "https://localhost:8080/"
        },
        "id": "wvLMcsQmlbk4",
        "outputId": "11c8a3db-9f38-4858-90f8-3d265271bf6e"
      },
      "execution_count": 67,
      "outputs": [
        {
          "output_type": "stream",
          "name": "stdout",
          "text": [
            "           column_name  percent_missing\n",
            "1_percent    1_percent              0.0\n",
            "5_percent    5_percent              0.0\n",
            "10_percent  10_percent              0.0\n"
          ]
        }
      ]
    },
    {
      "cell_type": "code",
      "source": [
        "price = data[\"price\"]"
      ],
      "metadata": {
        "id": "bC2-WEKRle9B"
      },
      "execution_count": 68,
      "outputs": []
    },
    {
      "cell_type": "code",
      "source": [
        "combined_mice = pd.concat([price,imputed_training])\n",
        "combined_mice.columns = [\"Price\",\"1_Percent\",\"5_Percent\",\"10_Percent\"]\n",
        "combined_mice.mean()"
      ],
      "metadata": {
        "colab": {
          "base_uri": "https://localhost:8080/"
        },
        "id": "IdfD4kWxliqD",
        "outputId": "f69c48ce-4f11-48d3-99b4-0d7052df4185"
      },
      "execution_count": 69,
      "outputs": [
        {
          "output_type": "execute_result",
          "data": {
            "text/plain": [
              "Price         4.593489e+06\n",
              "1_Percent     4.593489e+06\n",
              "5_Percent     4.593489e+06\n",
              "10_Percent    4.593489e+06\n",
              "dtype: float64"
            ]
          },
          "metadata": {},
          "execution_count": 69
        }
      ]
    }
  ]
}